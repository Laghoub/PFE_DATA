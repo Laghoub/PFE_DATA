{
 "cells": [
  {
   "cell_type": "code",
   "execution_count": 3,
   "id": "d28d8753",
   "metadata": {},
   "outputs": [],
   "source": [
    "from random import choices\n",
    "import pandas as pd\n",
    "import random\n",
    "import matplotlib.pyplot as plt\n",
    "import numpy as np\n",
    "import seaborn as sns\n",
    "from sklearn.metrics import confusion_matrix \n",
    "import lightgbm as lgb"
   ]
  },
  {
   "cell_type": "code",
   "execution_count": 82,
   "id": "29216866",
   "metadata": {},
   "outputs": [
    {
     "data": {
      "text/plain": [
       "144000    21-08-2021\n",
       "144001    21-08-2021\n",
       "144002    21-08-2021\n",
       "144003    21-08-2021\n",
       "144004    21-08-2021\n",
       "             ...    \n",
       "215995    15-08-2022\n",
       "215996    15-08-2022\n",
       "215997    15-08-2022\n",
       "215998    15-08-2022\n",
       "215999    15-08-2022\n",
       "Name: date, Length: 72000, dtype: object"
      ]
     },
     "execution_count": 82,
     "metadata": {},
     "output_type": "execute_result"
    }
   ],
   "source": [
    "classfile = pd.read_csv(\"StudentRest.csv\")\n",
    "classfile[144000:].date"
   ]
  },
  {
   "cell_type": "code",
   "execution_count": 5,
   "id": "7d0843fa",
   "metadata": {},
   "outputs": [],
   "source": [
    "def ClasseRevenues(revenu):\n",
    "    if(revenu<50000):\n",
    "        return 1\n",
    "    if(revenu>50000 and revenu<100000):\n",
    "        return 2\n",
    "    if (revenu>100000 and revenu<150000):\n",
    "        return 3\n",
    "    if (revenu>150000):\n",
    "        return 4"
   ]
  },
  {
   "cell_type": "code",
   "execution_count": 6,
   "id": "ed2bdc2e",
   "metadata": {},
   "outputs": [
    {
     "name": "stderr",
     "output_type": "stream",
     "text": [
      "<ipython-input-6-dc636a85ec94>:2: SettingWithCopyWarning: \n",
      "A value is trying to be set on a copy of a slice from a DataFrame\n",
      "\n",
      "See the caveats in the documentation: https://pandas.pydata.org/pandas-docs/stable/user_guide/indexing.html#returning-a-view-versus-a-copy\n",
      "  classf[\"Rev_par\"][i] =ClasseRevenues(classf[\"Rev_par\"][i])\n"
     ]
    }
   ],
   "source": [
    "for i in range(216000):\n",
    "    classf[\"Rev_par\"][i] =ClasseRevenues(classf[\"Rev_par\"][i])"
   ]
  },
  {
   "cell_type": "code",
   "execution_count": 79,
   "id": "c5c8b2b2",
   "metadata": {},
   "outputs": [
    {
     "data": {
      "text/html": [
       "<div>\n",
       "<style scoped>\n",
       "    .dataframe tbody tr th:only-of-type {\n",
       "        vertical-align: middle;\n",
       "    }\n",
       "\n",
       "    .dataframe tbody tr th {\n",
       "        vertical-align: top;\n",
       "    }\n",
       "\n",
       "    .dataframe thead th {\n",
       "        text-align: right;\n",
       "    }\n",
       "</style>\n",
       "<table border=\"1\" class=\"dataframe\">\n",
       "  <thead>\n",
       "    <tr style=\"text-align: right;\">\n",
       "      <th></th>\n",
       "      <th>Plat</th>\n",
       "      <th>meteo</th>\n",
       "      <th>Event</th>\n",
       "      <th>Heberg</th>\n",
       "      <th>Rev_par</th>\n",
       "      <th>Bourse</th>\n",
       "      <th>presence</th>\n",
       "    </tr>\n",
       "  </thead>\n",
       "  <tbody>\n",
       "    <tr>\n",
       "      <th>0</th>\n",
       "      <td>0</td>\n",
       "      <td>0</td>\n",
       "      <td>0</td>\n",
       "      <td>0</td>\n",
       "      <td>2</td>\n",
       "      <td>0</td>\n",
       "      <td>0</td>\n",
       "    </tr>\n",
       "    <tr>\n",
       "      <th>1</th>\n",
       "      <td>0</td>\n",
       "      <td>0</td>\n",
       "      <td>0</td>\n",
       "      <td>1</td>\n",
       "      <td>1</td>\n",
       "      <td>0</td>\n",
       "      <td>1</td>\n",
       "    </tr>\n",
       "    <tr>\n",
       "      <th>2</th>\n",
       "      <td>0</td>\n",
       "      <td>0</td>\n",
       "      <td>0</td>\n",
       "      <td>1</td>\n",
       "      <td>2</td>\n",
       "      <td>0</td>\n",
       "      <td>0</td>\n",
       "    </tr>\n",
       "    <tr>\n",
       "      <th>3</th>\n",
       "      <td>0</td>\n",
       "      <td>0</td>\n",
       "      <td>0</td>\n",
       "      <td>1</td>\n",
       "      <td>1</td>\n",
       "      <td>0</td>\n",
       "      <td>1</td>\n",
       "    </tr>\n",
       "    <tr>\n",
       "      <th>4</th>\n",
       "      <td>0</td>\n",
       "      <td>0</td>\n",
       "      <td>0</td>\n",
       "      <td>0</td>\n",
       "      <td>3</td>\n",
       "      <td>1</td>\n",
       "      <td>1</td>\n",
       "    </tr>\n",
       "    <tr>\n",
       "      <th>...</th>\n",
       "      <td>...</td>\n",
       "      <td>...</td>\n",
       "      <td>...</td>\n",
       "      <td>...</td>\n",
       "      <td>...</td>\n",
       "      <td>...</td>\n",
       "      <td>...</td>\n",
       "    </tr>\n",
       "    <tr>\n",
       "      <th>215995</th>\n",
       "      <td>1</td>\n",
       "      <td>0</td>\n",
       "      <td>0</td>\n",
       "      <td>0</td>\n",
       "      <td>1</td>\n",
       "      <td>0</td>\n",
       "      <td>1</td>\n",
       "    </tr>\n",
       "    <tr>\n",
       "      <th>215996</th>\n",
       "      <td>1</td>\n",
       "      <td>0</td>\n",
       "      <td>0</td>\n",
       "      <td>0</td>\n",
       "      <td>1</td>\n",
       "      <td>0</td>\n",
       "      <td>1</td>\n",
       "    </tr>\n",
       "    <tr>\n",
       "      <th>215997</th>\n",
       "      <td>1</td>\n",
       "      <td>0</td>\n",
       "      <td>0</td>\n",
       "      <td>0</td>\n",
       "      <td>2</td>\n",
       "      <td>0</td>\n",
       "      <td>0</td>\n",
       "    </tr>\n",
       "    <tr>\n",
       "      <th>215998</th>\n",
       "      <td>1</td>\n",
       "      <td>0</td>\n",
       "      <td>0</td>\n",
       "      <td>0</td>\n",
       "      <td>2</td>\n",
       "      <td>0</td>\n",
       "      <td>1</td>\n",
       "    </tr>\n",
       "    <tr>\n",
       "      <th>215999</th>\n",
       "      <td>1</td>\n",
       "      <td>0</td>\n",
       "      <td>0</td>\n",
       "      <td>1</td>\n",
       "      <td>1</td>\n",
       "      <td>0</td>\n",
       "      <td>1</td>\n",
       "    </tr>\n",
       "  </tbody>\n",
       "</table>\n",
       "<p>216000 rows × 7 columns</p>\n",
       "</div>"
      ],
      "text/plain": [
       "        Plat  meteo  Event  Heberg  Rev_par  Bourse  presence\n",
       "0          0      0      0       0        2       0         0\n",
       "1          0      0      0       1        1       0         1\n",
       "2          0      0      0       1        2       0         0\n",
       "3          0      0      0       1        1       0         1\n",
       "4          0      0      0       0        3       1         1\n",
       "...      ...    ...    ...     ...      ...     ...       ...\n",
       "215995     1      0      0       0        1       0         1\n",
       "215996     1      0      0       0        1       0         1\n",
       "215997     1      0      0       0        2       0         0\n",
       "215998     1      0      0       0        2       0         1\n",
       "215999     1      0      0       1        1       0         1\n",
       "\n",
       "[216000 rows x 7 columns]"
      ]
     },
     "execution_count": 79,
     "metadata": {},
     "output_type": "execute_result"
    }
   ],
   "source": [
    "classf"
   ]
  },
  {
   "cell_type": "code",
   "execution_count": 8,
   "id": "efba0919",
   "metadata": {},
   "outputs": [],
   "source": [
    "classf = classf.drop([\"Unnamed: 0\",\"idRestaurant\", \"date\", \"Type\" , \"idEtudiant\", \"presenceP\",  ],axis=1)"
   ]
  },
  {
   "cell_type": "code",
   "execution_count": 9,
   "id": "3b8470cc",
   "metadata": {},
   "outputs": [],
   "source": [
    "classf[\"Plat\"].replace([\"Lentilles\",\"Loubia\",\"Riz\",\"Spaghetti\",\"Couscous\",\"Weekend\"],[0,1,2,3,4,5],inplace=True)\n",
    "classf[\"meteo\"].replace([\"Ensoleillé\",\"Nuageux\",\"Mauvais\"],[0,1,2],inplace=True)\n",
    "classf[\"Event\"].replace([\"Normal\",\"Weekend\",\"Jour férié\",\"Ramadan\"],[0,1,2,3],inplace=True)\n",
    "classf[\"Heberg\"].replace([\"interne\",\"externe\"],[0,1],inplace=True)\n",
    "classf[\"Bourse\"].replace([\"Oui\",\"Non\"],[0,1],inplace=True)"
   ]
  },
  {
   "cell_type": "code",
   "execution_count": 10,
   "id": "332ef9f7",
   "metadata": {},
   "outputs": [],
   "source": [
    "trainC = classf[:144000]\n",
    "testC = classf[144000:]"
   ]
  },
  {
   "cell_type": "code",
   "execution_count": 11,
   "id": "63fa2341",
   "metadata": {},
   "outputs": [
    {
     "data": {
      "text/html": [
       "<div>\n",
       "<style scoped>\n",
       "    .dataframe tbody tr th:only-of-type {\n",
       "        vertical-align: middle;\n",
       "    }\n",
       "\n",
       "    .dataframe tbody tr th {\n",
       "        vertical-align: top;\n",
       "    }\n",
       "\n",
       "    .dataframe thead th {\n",
       "        text-align: right;\n",
       "    }\n",
       "</style>\n",
       "<table border=\"1\" class=\"dataframe\">\n",
       "  <thead>\n",
       "    <tr style=\"text-align: right;\">\n",
       "      <th></th>\n",
       "      <th>Plat</th>\n",
       "      <th>meteo</th>\n",
       "      <th>Event</th>\n",
       "      <th>Heberg</th>\n",
       "      <th>Rev_par</th>\n",
       "      <th>Bourse</th>\n",
       "      <th>presence</th>\n",
       "    </tr>\n",
       "  </thead>\n",
       "  <tbody>\n",
       "    <tr>\n",
       "      <th>0</th>\n",
       "      <td>0</td>\n",
       "      <td>0</td>\n",
       "      <td>0</td>\n",
       "      <td>0</td>\n",
       "      <td>2</td>\n",
       "      <td>0</td>\n",
       "      <td>0</td>\n",
       "    </tr>\n",
       "    <tr>\n",
       "      <th>1</th>\n",
       "      <td>0</td>\n",
       "      <td>0</td>\n",
       "      <td>0</td>\n",
       "      <td>1</td>\n",
       "      <td>1</td>\n",
       "      <td>0</td>\n",
       "      <td>1</td>\n",
       "    </tr>\n",
       "    <tr>\n",
       "      <th>2</th>\n",
       "      <td>0</td>\n",
       "      <td>0</td>\n",
       "      <td>0</td>\n",
       "      <td>1</td>\n",
       "      <td>2</td>\n",
       "      <td>0</td>\n",
       "      <td>0</td>\n",
       "    </tr>\n",
       "    <tr>\n",
       "      <th>3</th>\n",
       "      <td>0</td>\n",
       "      <td>0</td>\n",
       "      <td>0</td>\n",
       "      <td>1</td>\n",
       "      <td>1</td>\n",
       "      <td>0</td>\n",
       "      <td>1</td>\n",
       "    </tr>\n",
       "    <tr>\n",
       "      <th>4</th>\n",
       "      <td>0</td>\n",
       "      <td>0</td>\n",
       "      <td>0</td>\n",
       "      <td>0</td>\n",
       "      <td>3</td>\n",
       "      <td>1</td>\n",
       "      <td>1</td>\n",
       "    </tr>\n",
       "    <tr>\n",
       "      <th>...</th>\n",
       "      <td>...</td>\n",
       "      <td>...</td>\n",
       "      <td>...</td>\n",
       "      <td>...</td>\n",
       "      <td>...</td>\n",
       "      <td>...</td>\n",
       "      <td>...</td>\n",
       "    </tr>\n",
       "    <tr>\n",
       "      <th>143995</th>\n",
       "      <td>5</td>\n",
       "      <td>0</td>\n",
       "      <td>1</td>\n",
       "      <td>0</td>\n",
       "      <td>1</td>\n",
       "      <td>0</td>\n",
       "      <td>0</td>\n",
       "    </tr>\n",
       "    <tr>\n",
       "      <th>143996</th>\n",
       "      <td>5</td>\n",
       "      <td>0</td>\n",
       "      <td>1</td>\n",
       "      <td>0</td>\n",
       "      <td>1</td>\n",
       "      <td>0</td>\n",
       "      <td>0</td>\n",
       "    </tr>\n",
       "    <tr>\n",
       "      <th>143997</th>\n",
       "      <td>5</td>\n",
       "      <td>0</td>\n",
       "      <td>1</td>\n",
       "      <td>0</td>\n",
       "      <td>2</td>\n",
       "      <td>0</td>\n",
       "      <td>0</td>\n",
       "    </tr>\n",
       "    <tr>\n",
       "      <th>143998</th>\n",
       "      <td>5</td>\n",
       "      <td>0</td>\n",
       "      <td>1</td>\n",
       "      <td>0</td>\n",
       "      <td>2</td>\n",
       "      <td>0</td>\n",
       "      <td>0</td>\n",
       "    </tr>\n",
       "    <tr>\n",
       "      <th>143999</th>\n",
       "      <td>5</td>\n",
       "      <td>0</td>\n",
       "      <td>1</td>\n",
       "      <td>1</td>\n",
       "      <td>1</td>\n",
       "      <td>0</td>\n",
       "      <td>0</td>\n",
       "    </tr>\n",
       "  </tbody>\n",
       "</table>\n",
       "<p>144000 rows × 7 columns</p>\n",
       "</div>"
      ],
      "text/plain": [
       "        Plat  meteo  Event  Heberg  Rev_par  Bourse  presence\n",
       "0          0      0      0       0        2       0         0\n",
       "1          0      0      0       1        1       0         1\n",
       "2          0      0      0       1        2       0         0\n",
       "3          0      0      0       1        1       0         1\n",
       "4          0      0      0       0        3       1         1\n",
       "...      ...    ...    ...     ...      ...     ...       ...\n",
       "143995     5      0      1       0        1       0         0\n",
       "143996     5      0      1       0        1       0         0\n",
       "143997     5      0      1       0        2       0         0\n",
       "143998     5      0      1       0        2       0         0\n",
       "143999     5      0      1       1        1       0         0\n",
       "\n",
       "[144000 rows x 7 columns]"
      ]
     },
     "execution_count": 11,
     "metadata": {},
     "output_type": "execute_result"
    }
   ],
   "source": [
    "trainC"
   ]
  },
  {
   "cell_type": "code",
   "execution_count": 12,
   "id": "84a832ae",
   "metadata": {},
   "outputs": [
    {
     "data": {
      "image/png": "[encoded data removed]",
      "text/plain": [
       "<Figure size 720x576 with 2 Axes>"
      ]
     },
     "metadata": {
      "needs_background": "light"
     },
     "output_type": "display_data"
    }
   ],
   "source": [
    "fig, axes = plt.subplots(figsize= (10,8))\n",
    "sns.heatmap(trainC.corr(), annot=True, cmap='magma')\n",
    "plt.xticks(rotation=30, ha='right')\n",
    "plt.title(\"Matrice de corrélation\")\n",
    "plt.show()"
   ]
  },
  {
   "cell_type": "code",
   "execution_count": 13,
   "id": "b109901a",
   "metadata": {},
   "outputs": [],
   "source": [
    " from sklearn.linear_model import LogisticRegression"
   ]
  },
  {
   "cell_type": "code",
   "execution_count": 14,
   "id": "65095868",
   "metadata": {},
   "outputs": [],
   "source": [
    "trainCY = trainC[\"presence\"]"
   ]
  },
  {
   "cell_type": "code",
   "execution_count": 15,
   "id": "de51e631",
   "metadata": {},
   "outputs": [],
   "source": [
    "trainCX = trainC.drop([\"presence\"], axis =1)"
   ]
  },
  {
   "cell_type": "code",
   "execution_count": 16,
   "id": "0e7b3af6",
   "metadata": {},
   "outputs": [],
   "source": [
    "testCY = testC[\"presence\"]\n",
    "testCX = testC.drop([\"presence\"], axis =1)"
   ]
  },
  {
   "cell_type": "code",
   "execution_count": 17,
   "id": "453b3160",
   "metadata": {},
   "outputs": [
    {
     "data": {
      "text/plain": [
       "LogisticRegression()"
      ]
     },
     "execution_count": 17,
     "metadata": {},
     "output_type": "execute_result"
    }
   ],
   "source": [
    "model = LogisticRegression()\n",
    "model.fit(trainCX,trainCY)"
   ]
  },
  {
   "cell_type": "code",
   "execution_count": 18,
   "id": "43ef7715",
   "metadata": {},
   "outputs": [
    {
     "name": "stdout",
     "output_type": "stream",
     "text": [
      "Score du modele = 0.7369027777777778\n"
     ]
    }
   ],
   "source": [
    "print('Score du modele =', model.score(trainCX,trainCY))"
   ]
  },
  {
   "cell_type": "code",
   "execution_count": 19,
   "id": "32495cda",
   "metadata": {},
   "outputs": [
    {
     "name": "stdout",
     "output_type": "stream",
     "text": [
      "[[40947  4721]\n",
      " [33165 65167]]\n"
     ]
    },
    {
     "data": {
      "text/plain": [
       "<AxesSubplot:>"
      ]
     },
     "execution_count": 19,
     "metadata": {},
     "output_type": "execute_result"
    },
    {
     "data": {
      "image/png": "[encoded data removed]",
      "text/plain": [
       "<Figure size 432x288 with 2 Axes>"
      ]
     },
     "metadata": {
      "needs_background": "light"
     },
     "output_type": "display_data"
    }
   ],
   "source": [
    "cm = confusion_matrix(model.predict(trainCX),trainCY)\n",
    "print(cm)\n",
    "sns.heatmap(cm, annot=True)"
   ]
  },
  {
   "cell_type": "code",
   "execution_count": 20,
   "id": "add2a775",
   "metadata": {},
   "outputs": [],
   "source": [
    "from sklearn.neighbors import KNeighborsClassifier"
   ]
  },
  {
   "cell_type": "code",
   "execution_count": 21,
   "id": "11dfe1ce",
   "metadata": {},
   "outputs": [],
   "source": [
    "modelKnn = KNeighborsClassifier(2)"
   ]
  },
  {
   "cell_type": "code",
   "execution_count": 22,
   "id": "e25de5dc",
   "metadata": {},
   "outputs": [
    {
     "data": {
      "text/plain": [
       "KNeighborsClassifier(n_neighbors=2)"
      ]
     },
     "execution_count": 22,
     "metadata": {},
     "output_type": "execute_result"
    }
   ],
   "source": [
    "modelKnn.fit(trainCX,trainCY)"
   ]
  },
  {
   "cell_type": "code",
   "execution_count": 23,
   "id": "ab867c3d",
   "metadata": {},
   "outputs": [
    {
     "name": "stdout",
     "output_type": "stream",
     "text": [
      "Score du modele = 0.6008611111111111\n"
     ]
    }
   ],
   "source": [
    "print('Score du modele =', modelKnn.score(trainCX,trainCY))"
   ]
  },
  {
   "cell_type": "code",
   "execution_count": 24,
   "id": "ae7e493e",
   "metadata": {},
   "outputs": [
    {
     "name": "stdout",
     "output_type": "stream",
     "text": [
      "[[62727 46091]\n",
      " [11385 23797]]\n"
     ]
    },
    {
     "data": {
      "text/plain": [
       "<AxesSubplot:>"
      ]
     },
     "execution_count": 24,
     "metadata": {},
     "output_type": "execute_result"
    },
    {
     "data": {
      "image/png": "[encoded data removed]",
      "text/plain": [
       "<Figure size 432x288 with 2 Axes>"
      ]
     },
     "metadata": {
      "needs_background": "light"
     },
     "output_type": "display_data"
    }
   ],
   "source": [
    "cm = confusion_matrix(modelKnn.predict(trainCX),trainCY)\n",
    "print(cm)\n",
    "sns.heatmap(cm, annot=True)"
   ]
  },
  {
   "cell_type": "code",
   "execution_count": 38,
   "id": "963ef402",
   "metadata": {},
   "outputs": [],
   "source": [
    "from tensorflow.keras.models import Sequential\n",
    "from tensorflow.keras.layers import Dense\n",
    "from tensorflow.keras.layers import InputLayer\n",
    "import tensorflow as tf"
   ]
  },
  {
   "cell_type": "code",
   "execution_count": 27,
   "id": "0d868f22",
   "metadata": {},
   "outputs": [],
   "source": [
    "from keras.models import Sequential\n",
    "ANN_model = Sequential()"
   ]
  },
  {
   "cell_type": "code",
   "execution_count": 39,
   "id": "80f48d0a",
   "metadata": {},
   "outputs": [],
   "source": [
    "ANN_model.add(InputLayer(input_shape=(6, )))\n",
    "# No hidden layers\n",
    "ANN_model.add(Dense(1, activation='sigmoid'))"
   ]
  },
  {
   "cell_type": "code",
   "execution_count": 40,
   "id": "c6dc77f6",
   "metadata": {},
   "outputs": [
    {
     "ename": "ValueError",
     "evalue": "This model has not yet been built. Build the model first by calling `build()` or calling `fit()` with some data, or specify an `input_shape` argument in the first layer(s) for automatic build.",
     "output_type": "error",
     "traceback": [
      "\u001b[1;31m---------------------------------------------------------------------------\u001b[0m",
      "\u001b[1;31mValueError\u001b[0m                                Traceback (most recent call last)",
      "\u001b[1;32m<ipython-input-40-d6820d445a26>\u001b[0m in \u001b[0;36m<module>\u001b[1;34m\u001b[0m\n\u001b[1;32m----> 1\u001b[1;33m \u001b[0mANN_model\u001b[0m\u001b[1;33m.\u001b[0m\u001b[0msummary\u001b[0m\u001b[1;33m(\u001b[0m\u001b[1;33m)\u001b[0m\u001b[1;33m\u001b[0m\u001b[1;33m\u001b[0m\u001b[0m\n\u001b[0m",
      "\u001b[1;32m~\\anaconda3\\lib\\site-packages\\keras\\engine\\training.py\u001b[0m in \u001b[0;36msummary\u001b[1;34m(self, line_length, positions, print_fn)\u001b[0m\n\u001b[0;32m   2450\u001b[0m     \"\"\"\n\u001b[0;32m   2451\u001b[0m     \u001b[1;32mif\u001b[0m \u001b[1;32mnot\u001b[0m \u001b[0mself\u001b[0m\u001b[1;33m.\u001b[0m\u001b[0mbuilt\u001b[0m\u001b[1;33m:\u001b[0m\u001b[1;33m\u001b[0m\u001b[1;33m\u001b[0m\u001b[0m\n\u001b[1;32m-> 2452\u001b[1;33m       raise ValueError('This model has not yet been built. '\n\u001b[0m\u001b[0;32m   2453\u001b[0m                        \u001b[1;34m'Build the model first by calling `build()` or calling '\u001b[0m\u001b[1;33m\u001b[0m\u001b[1;33m\u001b[0m\u001b[0m\n\u001b[0;32m   2454\u001b[0m                        \u001b[1;34m'`fit()` with some data, or specify '\u001b[0m\u001b[1;33m\u001b[0m\u001b[1;33m\u001b[0m\u001b[0m\n",
      "\u001b[1;31mValueError\u001b[0m: This model has not yet been built. Build the model first by calling `build()` or calling `fit()` with some data, or specify an `input_shape` argument in the first layer(s) for automatic build."
     ]
    }
   ],
   "source": [
    "ANN_model.summary()"
   ]
  },
  {
   "cell_type": "code",
   "execution_count": 48,
   "id": "5bfa0e79",
   "metadata": {},
   "outputs": [],
   "source": [
    "ANN_model.compile(optimizer='adam',loss='binary_crossentropy',metrics=['accuracy'])"
   ]
  },
  {
   "cell_type": "code",
   "execution_count": 49,
   "id": "d2eab0d0",
   "metadata": {},
   "outputs": [
    {
     "name": "stdout",
     "output_type": "stream",
     "text": [
      "Epoch 1/10\n",
      "3600/3600 [==============================] - 55s 3ms/step - loss: 0.6944 - accuracy: 0.5362 - val_loss: 0.7218 - val_accuracy: 0.3789\n",
      "Epoch 2/10\n",
      "3600/3600 [==============================] - 6s 2ms/step - loss: 0.6867 - accuracy: 0.5465 - val_loss: 0.7025 - val_accuracy: 0.3789\n",
      "Epoch 3/10\n",
      "3600/3600 [==============================] - 6s 2ms/step - loss: 0.6666 - accuracy: 0.5748 - val_loss: 0.6359 - val_accuracy: 0.7703\n",
      "Epoch 4/10\n",
      "3600/3600 [==============================] - 5s 1ms/step - loss: 0.6206 - accuracy: 0.7192 - val_loss: 0.5468 - val_accuracy: 0.7722\n",
      "Epoch 5/10\n",
      "3600/3600 [==============================] - 5s 1ms/step - loss: 0.5775 - accuracy: 0.7203 - val_loss: 0.4906 - val_accuracy: 0.7706\n",
      "Epoch 6/10\n",
      "3600/3600 [==============================] - 5s 1ms/step - loss: 0.5533 - accuracy: 0.7196 - val_loss: 0.4636 - val_accuracy: 0.7714\n",
      "Epoch 7/10\n",
      "3600/3600 [==============================] - 5s 1ms/step - loss: 0.5414 - accuracy: 0.7209 - val_loss: 0.4502 - val_accuracy: 0.7711\n",
      "Epoch 8/10\n",
      "3600/3600 [==============================] - 6s 2ms/step - loss: 0.5356 - accuracy: 0.7215 - val_loss: 0.4425 - val_accuracy: 0.7707\n",
      "Epoch 9/10\n",
      "3600/3600 [==============================] - 5s 1ms/step - loss: 0.5326 - accuracy: 0.7219 - val_loss: 0.4377 - val_accuracy: 0.7707\n",
      "Epoch 10/10\n",
      "3600/3600 [==============================] - 5s 1ms/step - loss: 0.5309 - accuracy: 0.7219 - val_loss: 0.4346 - val_accuracy: 0.7709\n"
     ]
    }
   ],
   "source": [
    "history = ANN_model.fit(trainCX,trainCY, \n",
    "                        epochs=10, batch_size=32,\n",
    "                        validation_split=0.2, \n",
    "                        shuffle=False)"
   ]
  },
  {
   "cell_type": "code",
   "execution_count": 50,
   "id": "828640dd",
   "metadata": {},
   "outputs": [
    {
     "data": {
      "text/plain": [
       "<matplotlib.legend.Legend at 0x225df28e160>"
      ]
     },
     "execution_count": 50,
     "metadata": {},
     "output_type": "execute_result"
    },
    {
     "data": {
      "image/png": "[encoded data removed]",
      "text/plain": [
       "<Figure size 432x288 with 1 Axes>"
      ]
     },
     "metadata": {
      "needs_background": "light"
     },
     "output_type": "display_data"
    }
   ],
   "source": [
    "# Plot training and validation accuracy scores\n",
    "# against the number of epochs.\n",
    "plt.plot(history.history['accuracy'], label='Train')\n",
    "plt.plot(history.history['val_accuracy'], label='Validation')\n",
    "plt.ylabel('Accuracy')\n",
    "plt.xlabel('Epoch')\n",
    "plt.title('Model Accuracy')\n",
    "plt.legend(loc='upper left')"
   ]
  },
  {
   "cell_type": "code",
   "execution_count": 51,
   "id": "eeb7dddd",
   "metadata": {},
   "outputs": [
    {
     "data": {
      "text/plain": [
       "<matplotlib.legend.Legend at 0x225e0092eb0>"
      ]
     },
     "execution_count": 51,
     "metadata": {},
     "output_type": "execute_result"
    },
    {
     "data": {
      "image/png": "[encoded data removed]",
      "text/plain": [
       "<Figure size 432x288 with 1 Axes>"
      ]
     },
     "metadata": {
      "needs_background": "light"
     },
     "output_type": "display_data"
    }
   ],
   "source": [
    "# Plot training and validation loss scores\n",
    "# against the number of epochs.\n",
    "plt.plot(history.history['loss'], label='Train')\n",
    "plt.plot(history.history['val_loss'], label='Validation')\n",
    "plt.ylabel('Loss')\n",
    "plt.xlabel('Epoch')\n",
    "plt.title('Model Loss')\n",
    "plt.legend(loc='upper right')"
   ]
  },
  {
   "cell_type": "code",
   "execution_count": 52,
   "id": "6416ae08",
   "metadata": {},
   "outputs": [
    {
     "name": "stdout",
     "output_type": "stream",
     "text": [
      "2250/2250 [==============================] - 2s 1ms/step - loss: 0.5050 - accuracy: 0.7377\n",
      "Test loss: 0.504954993724823\n",
      "Test accuracy: 0.7376527786254883\n"
     ]
    }
   ],
   "source": [
    "test_loss, test_acc = ANN_model.evaluate(testCX, testCY)\n",
    "print(\"Test loss:\", test_loss)\n",
    "print(\"Test accuracy:\", test_acc)"
   ]
  },
  {
   "cell_type": "code",
   "execution_count": 56,
   "id": "f36da23b",
   "metadata": {},
   "outputs": [
    {
     "name": "stderr",
     "output_type": "stream",
     "text": [
      "C:\\Users\\Laghoub\\anaconda3\\lib\\site-packages\\keras\\engine\\sequential.py:450: UserWarning: `model.predict_classes()` is deprecated and will be removed after 2021-01-01. Please use instead:* `np.argmax(model.predict(x), axis=-1)`,   if your model does multi-class classification   (e.g. if it uses a `softmax` last-layer activation).* `(model.predict(x) > 0.5).astype(\"int32\")`,   if your model does binary classification   (e.g. if it uses a `sigmoid` last-layer activation).\n",
      "  warnings.warn('`model.predict_classes()` is deprecated and '\n"
     ]
    },
    {
     "name": "stdout",
     "output_type": "stream",
     "text": [
      "[[39102  2995]\n",
      " [35010 66893]]\n"
     ]
    },
    {
     "data": {
      "text/plain": [
       "<AxesSubplot:>"
      ]
     },
     "execution_count": 56,
     "metadata": {},
     "output_type": "execute_result"
    },
    {
     "data": {
      "image/png": "[encoded data removed]",
      "text/plain": [
       "<Figure size 432x288 with 2 Axes>"
      ]
     },
     "metadata": {
      "needs_background": "light"
     },
     "output_type": "display_data"
    }
   ],
   "source": [
    "cm = confusion_matrix(ANN_model.predict_classes(trainCX),trainCY)\n",
    "print(cm)\n",
    "sns.heatmap(cm, annot=True)"
   ]
  },
  {
   "cell_type": "code",
   "execution_count": 59,
   "id": "bfe126f9",
   "metadata": {},
   "outputs": [
    {
     "name": "stderr",
     "output_type": "stream",
     "text": [
      "C:\\Users\\Laghoub\\anaconda3\\lib\\site-packages\\keras\\engine\\sequential.py:450: UserWarning: `model.predict_classes()` is deprecated and will be removed after 2021-01-01. Please use instead:* `np.argmax(model.predict(x), axis=-1)`,   if your model does multi-class classification   (e.g. if it uses a `softmax` last-layer activation).* `(model.predict(x) > 0.5).astype(\"int32\")`,   if your model does binary classification   (e.g. if it uses a `sigmoid` last-layer activation).\n",
      "  warnings.warn('`model.predict_classes()` is deprecated and '\n"
     ]
    }
   ],
   "source": [
    "result = ANN_model.predict_classes(testCX)"
   ]
  },
  {
   "cell_type": "code",
   "execution_count": 72,
   "id": "c20c618a",
   "metadata": {},
   "outputs": [],
   "source": [
    "listTest = []\n",
    "for i in testCY:\n",
    "    listTest.append(i)"
   ]
  },
  {
   "cell_type": "code",
   "execution_count": 73,
   "id": "c999edb7",
   "metadata": {},
   "outputs": [],
   "source": [
    "listreg = result.tolist()\n",
    "listlog = []\n",
    "for i in listreg:\n",
    "    listlog.append(i[0])"
   ]
  },
  {
   "cell_type": "code",
   "execution_count": 84,
   "id": "45de2cfd",
   "metadata": {},
   "outputs": [],
   "source": [
    "res = {\n",
    "    \"date\": classfile[144000:].date,\n",
    "    \"Test\" : listTest,\n",
    "  \"pred\" : listlog\n",
    "}\n",
    "respred = pd.DataFrame(res)"
   ]
  },
  {
   "cell_type": "code",
   "execution_count": 85,
   "id": "1d11db04",
   "metadata": {},
   "outputs": [
    {
     "data": {
      "text/html": [
       "<div>\n",
       "<style scoped>\n",
       "    .dataframe tbody tr th:only-of-type {\n",
       "        vertical-align: middle;\n",
       "    }\n",
       "\n",
       "    .dataframe tbody tr th {\n",
       "        vertical-align: top;\n",
       "    }\n",
       "\n",
       "    .dataframe thead th {\n",
       "        text-align: right;\n",
       "    }\n",
       "</style>\n",
       "<table border=\"1\" class=\"dataframe\">\n",
       "  <thead>\n",
       "    <tr style=\"text-align: right;\">\n",
       "      <th></th>\n",
       "      <th>date</th>\n",
       "      <th>Test</th>\n",
       "      <th>pred</th>\n",
       "    </tr>\n",
       "  </thead>\n",
       "  <tbody>\n",
       "    <tr>\n",
       "      <th>144000</th>\n",
       "      <td>21-08-2021</td>\n",
       "      <td>0</td>\n",
       "      <td>1</td>\n",
       "    </tr>\n",
       "    <tr>\n",
       "      <th>144001</th>\n",
       "      <td>21-08-2021</td>\n",
       "      <td>1</td>\n",
       "      <td>1</td>\n",
       "    </tr>\n",
       "    <tr>\n",
       "      <th>144002</th>\n",
       "      <td>21-08-2021</td>\n",
       "      <td>0</td>\n",
       "      <td>1</td>\n",
       "    </tr>\n",
       "    <tr>\n",
       "      <th>144003</th>\n",
       "      <td>21-08-2021</td>\n",
       "      <td>0</td>\n",
       "      <td>1</td>\n",
       "    </tr>\n",
       "    <tr>\n",
       "      <th>144004</th>\n",
       "      <td>21-08-2021</td>\n",
       "      <td>0</td>\n",
       "      <td>0</td>\n",
       "    </tr>\n",
       "    <tr>\n",
       "      <th>...</th>\n",
       "      <td>...</td>\n",
       "      <td>...</td>\n",
       "      <td>...</td>\n",
       "    </tr>\n",
       "    <tr>\n",
       "      <th>215995</th>\n",
       "      <td>15-08-2022</td>\n",
       "      <td>1</td>\n",
       "      <td>1</td>\n",
       "    </tr>\n",
       "    <tr>\n",
       "      <th>215996</th>\n",
       "      <td>15-08-2022</td>\n",
       "      <td>1</td>\n",
       "      <td>1</td>\n",
       "    </tr>\n",
       "    <tr>\n",
       "      <th>215997</th>\n",
       "      <td>15-08-2022</td>\n",
       "      <td>0</td>\n",
       "      <td>1</td>\n",
       "    </tr>\n",
       "    <tr>\n",
       "      <th>215998</th>\n",
       "      <td>15-08-2022</td>\n",
       "      <td>1</td>\n",
       "      <td>1</td>\n",
       "    </tr>\n",
       "    <tr>\n",
       "      <th>215999</th>\n",
       "      <td>15-08-2022</td>\n",
       "      <td>1</td>\n",
       "      <td>1</td>\n",
       "    </tr>\n",
       "  </tbody>\n",
       "</table>\n",
       "<p>72000 rows × 3 columns</p>\n",
       "</div>"
      ],
      "text/plain": [
       "              date  Test  pred\n",
       "144000  21-08-2021     0     1\n",
       "144001  21-08-2021     1     1\n",
       "144002  21-08-2021     0     1\n",
       "144003  21-08-2021     0     1\n",
       "144004  21-08-2021     0     0\n",
       "...            ...   ...   ...\n",
       "215995  15-08-2022     1     1\n",
       "215996  15-08-2022     1     1\n",
       "215997  15-08-2022     0     1\n",
       "215998  15-08-2022     1     1\n",
       "215999  15-08-2022     1     1\n",
       "\n",
       "[72000 rows x 3 columns]"
      ]
     },
     "execution_count": 85,
     "metadata": {},
     "output_type": "execute_result"
    }
   ],
   "source": [
    "respred"
   ]
  },
  {
   "cell_type": "code",
   "execution_count": 88,
   "id": "370d29b7",
   "metadata": {},
   "outputs": [],
   "source": [
    "gb = respred.groupby('date').sum()"
   ]
  },
  {
   "cell_type": "code",
   "execution_count": 92,
   "id": "7dcd49ca",
   "metadata": {},
   "outputs": [
    {
     "data": {
      "text/plain": [
       "<AxesSubplot:xlabel='date'>"
      ]
     },
     "execution_count": 92,
     "metadata": {},
     "output_type": "execute_result"
    },
    {
     "data": {
      "image/png": "[encoded data removed]",
      "text/plain": [
       "<Figure size 432x288 with 1 Axes>"
      ]
     },
     "metadata": {
      "needs_background": "light"
     },
     "output_type": "display_data"
    }
   ],
   "source": [
    "gb.plot()"
   ]
  },
  {
   "cell_type": "code",
   "execution_count": 91,
   "id": "de10306f",
   "metadata": {},
   "outputs": [],
   "source": [
    "gb.to_excel('classification/resultLOG.xlsx')\n"
   ]
  },
  {
   "cell_type": "code",
   "execution_count": null,
   "id": "9daa1d4c",
   "metadata": {},
   "outputs": [],
   "source": [
    "readf = pd.read_excel()"
   ]
  }
 ],
 "metadata": {
  "kernelspec": {
   "display_name": "Python 3",
   "language": "python",
   "name": "python3"
  },
  "language_info": {
   "codemirror_mode": {
    "name": "ipython",
    "version": 3
   },
   "file_extension": ".py",
   "mimetype": "text/x-python",
   "name": "python",
   "nbconvert_exporter": "python",
   "pygments_lexer": "ipython3",
   "version": "3.8.8"
  }
 },
 "nbformat": 4,
 "nbformat_minor": 5
}

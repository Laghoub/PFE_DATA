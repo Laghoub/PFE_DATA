{
 "cells": [
  {
   "cell_type": "code",
   "execution_count": 1,
   "id": "90e5717e",
   "metadata": {},
   "outputs": [],
   "source": [
    "from random import choices\n",
    "import pandas as pd\n",
    "import random\n",
    "import matplotlib.pyplot as plt\n",
    "import numpy as np\n",
    "import seaborn as sns\n",
    "from sklearn.metrics import confusion_matrix \n",
    "import lightgbm as lgb\n",
    "from sklearn.ensemble import RandomForestClassifier\n",
    "from sklearn.model_selection import train_test_split"
   ]
  },
  {
   "cell_type": "code",
   "execution_count": 52,
   "id": "27ff58b2",
   "metadata": {},
   "outputs": [
    {
     "data": {
      "text/html": [
       "<div>\n",
       "<style scoped>\n",
       "    .dataframe tbody tr th:only-of-type {\n",
       "        vertical-align: middle;\n",
       "    }\n",
       "\n",
       "    .dataframe tbody tr th {\n",
       "        vertical-align: top;\n",
       "    }\n",
       "\n",
       "    .dataframe thead th {\n",
       "        text-align: right;\n",
       "    }\n",
       "</style>\n",
       "<table border=\"1\" class=\"dataframe\">\n",
       "  <thead>\n",
       "    <tr style=\"text-align: right;\">\n",
       "      <th></th>\n",
       "      <th>Unnamed: 0</th>\n",
       "      <th>Unnamed: 0.1</th>\n",
       "      <th>idRestaurant</th>\n",
       "      <th>date</th>\n",
       "      <th>Type</th>\n",
       "      <th>Plat</th>\n",
       "      <th>meteo</th>\n",
       "      <th>Event</th>\n",
       "      <th>idEtudiant</th>\n",
       "      <th>Heberg</th>\n",
       "      <th>Rev_par</th>\n",
       "      <th>Bourse</th>\n",
       "      <th>presenceP</th>\n",
       "      <th>presence</th>\n",
       "    </tr>\n",
       "  </thead>\n",
       "  <tbody>\n",
       "    <tr>\n",
       "      <th>0</th>\n",
       "      <td>0</td>\n",
       "      <td>0</td>\n",
       "      <td>Esi016</td>\n",
       "      <td>01-09-2019</td>\n",
       "      <td>midi</td>\n",
       "      <td>Lentilles</td>\n",
       "      <td>Ensoleillé</td>\n",
       "      <td>Normal</td>\n",
       "      <td>17/0001</td>\n",
       "      <td>interne</td>\n",
       "      <td>56879</td>\n",
       "      <td>Oui</td>\n",
       "      <td>0.525</td>\n",
       "      <td>0</td>\n",
       "    </tr>\n",
       "    <tr>\n",
       "      <th>1</th>\n",
       "      <td>1</td>\n",
       "      <td>1</td>\n",
       "      <td>Esi016</td>\n",
       "      <td>01-09-2019</td>\n",
       "      <td>midi</td>\n",
       "      <td>Lentilles</td>\n",
       "      <td>Ensoleillé</td>\n",
       "      <td>Normal</td>\n",
       "      <td>17/0002</td>\n",
       "      <td>externe</td>\n",
       "      <td>19184</td>\n",
       "      <td>Oui</td>\n",
       "      <td>0.705</td>\n",
       "      <td>1</td>\n",
       "    </tr>\n",
       "    <tr>\n",
       "      <th>2</th>\n",
       "      <td>2</td>\n",
       "      <td>2</td>\n",
       "      <td>Esi016</td>\n",
       "      <td>01-09-2019</td>\n",
       "      <td>midi</td>\n",
       "      <td>Lentilles</td>\n",
       "      <td>Ensoleillé</td>\n",
       "      <td>Normal</td>\n",
       "      <td>17/0003</td>\n",
       "      <td>externe</td>\n",
       "      <td>56879</td>\n",
       "      <td>Oui</td>\n",
       "      <td>0.600</td>\n",
       "      <td>1</td>\n",
       "    </tr>\n",
       "    <tr>\n",
       "      <th>3</th>\n",
       "      <td>3</td>\n",
       "      <td>3</td>\n",
       "      <td>Esi016</td>\n",
       "      <td>01-09-2019</td>\n",
       "      <td>midi</td>\n",
       "      <td>Lentilles</td>\n",
       "      <td>Ensoleillé</td>\n",
       "      <td>Normal</td>\n",
       "      <td>17/0004</td>\n",
       "      <td>externe</td>\n",
       "      <td>19184</td>\n",
       "      <td>Oui</td>\n",
       "      <td>0.705</td>\n",
       "      <td>1</td>\n",
       "    </tr>\n",
       "    <tr>\n",
       "      <th>4</th>\n",
       "      <td>4</td>\n",
       "      <td>4</td>\n",
       "      <td>Esi016</td>\n",
       "      <td>01-09-2019</td>\n",
       "      <td>midi</td>\n",
       "      <td>Lentilles</td>\n",
       "      <td>Ensoleillé</td>\n",
       "      <td>Normal</td>\n",
       "      <td>17/0005</td>\n",
       "      <td>interne</td>\n",
       "      <td>139936</td>\n",
       "      <td>Non</td>\n",
       "      <td>0.410</td>\n",
       "      <td>0</td>\n",
       "    </tr>\n",
       "    <tr>\n",
       "      <th>...</th>\n",
       "      <td>...</td>\n",
       "      <td>...</td>\n",
       "      <td>...</td>\n",
       "      <td>...</td>\n",
       "      <td>...</td>\n",
       "      <td>...</td>\n",
       "      <td>...</td>\n",
       "      <td>...</td>\n",
       "      <td>...</td>\n",
       "      <td>...</td>\n",
       "      <td>...</td>\n",
       "      <td>...</td>\n",
       "      <td>...</td>\n",
       "      <td>...</td>\n",
       "    </tr>\n",
       "    <tr>\n",
       "      <th>215995</th>\n",
       "      <td>215995</td>\n",
       "      <td>215995</td>\n",
       "      <td>Esi016</td>\n",
       "      <td>15-08-2022</td>\n",
       "      <td>midi</td>\n",
       "      <td>Loubia</td>\n",
       "      <td>Ensoleillé</td>\n",
       "      <td>Normal</td>\n",
       "      <td>17/0196</td>\n",
       "      <td>interne</td>\n",
       "      <td>25251</td>\n",
       "      <td>Oui</td>\n",
       "      <td>0.650</td>\n",
       "      <td>1</td>\n",
       "    </tr>\n",
       "    <tr>\n",
       "      <th>215996</th>\n",
       "      <td>215996</td>\n",
       "      <td>215996</td>\n",
       "      <td>Esi016</td>\n",
       "      <td>15-08-2022</td>\n",
       "      <td>midi</td>\n",
       "      <td>Loubia</td>\n",
       "      <td>Ensoleillé</td>\n",
       "      <td>Normal</td>\n",
       "      <td>17/0197</td>\n",
       "      <td>interne</td>\n",
       "      <td>19184</td>\n",
       "      <td>Oui</td>\n",
       "      <td>0.650</td>\n",
       "      <td>1</td>\n",
       "    </tr>\n",
       "    <tr>\n",
       "      <th>215997</th>\n",
       "      <td>215997</td>\n",
       "      <td>215997</td>\n",
       "      <td>Esi016</td>\n",
       "      <td>15-08-2022</td>\n",
       "      <td>midi</td>\n",
       "      <td>Loubia</td>\n",
       "      <td>Ensoleillé</td>\n",
       "      <td>Normal</td>\n",
       "      <td>17/0198</td>\n",
       "      <td>interne</td>\n",
       "      <td>56879</td>\n",
       "      <td>Oui</td>\n",
       "      <td>0.545</td>\n",
       "      <td>0</td>\n",
       "    </tr>\n",
       "    <tr>\n",
       "      <th>215998</th>\n",
       "      <td>215998</td>\n",
       "      <td>215998</td>\n",
       "      <td>Esi016</td>\n",
       "      <td>15-08-2022</td>\n",
       "      <td>midi</td>\n",
       "      <td>Loubia</td>\n",
       "      <td>Ensoleillé</td>\n",
       "      <td>Normal</td>\n",
       "      <td>17/0199</td>\n",
       "      <td>interne</td>\n",
       "      <td>56879</td>\n",
       "      <td>Oui</td>\n",
       "      <td>0.545</td>\n",
       "      <td>0</td>\n",
       "    </tr>\n",
       "    <tr>\n",
       "      <th>215999</th>\n",
       "      <td>215999</td>\n",
       "      <td>215999</td>\n",
       "      <td>Esi016</td>\n",
       "      <td>15-08-2022</td>\n",
       "      <td>midi</td>\n",
       "      <td>Loubia</td>\n",
       "      <td>Ensoleillé</td>\n",
       "      <td>Normal</td>\n",
       "      <td>17/0200</td>\n",
       "      <td>externe</td>\n",
       "      <td>46901</td>\n",
       "      <td>Oui</td>\n",
       "      <td>0.725</td>\n",
       "      <td>1</td>\n",
       "    </tr>\n",
       "  </tbody>\n",
       "</table>\n",
       "<p>216000 rows × 14 columns</p>\n",
       "</div>"
      ],
      "text/plain": [
       "        Unnamed: 0  Unnamed: 0.1 idRestaurant        date  Type       Plat  \\\n",
       "0                0             0       Esi016  01-09-2019  midi  Lentilles   \n",
       "1                1             1       Esi016  01-09-2019  midi  Lentilles   \n",
       "2                2             2       Esi016  01-09-2019  midi  Lentilles   \n",
       "3                3             3       Esi016  01-09-2019  midi  Lentilles   \n",
       "4                4             4       Esi016  01-09-2019  midi  Lentilles   \n",
       "...            ...           ...          ...         ...   ...        ...   \n",
       "215995      215995        215995       Esi016  15-08-2022  midi     Loubia   \n",
       "215996      215996        215996       Esi016  15-08-2022  midi     Loubia   \n",
       "215997      215997        215997       Esi016  15-08-2022  midi     Loubia   \n",
       "215998      215998        215998       Esi016  15-08-2022  midi     Loubia   \n",
       "215999      215999        215999       Esi016  15-08-2022  midi     Loubia   \n",
       "\n",
       "             meteo   Event idEtudiant   Heberg  Rev_par Bourse  presenceP  \\\n",
       "0       Ensoleillé  Normal    17/0001  interne    56879    Oui      0.525   \n",
       "1       Ensoleillé  Normal    17/0002  externe    19184    Oui      0.705   \n",
       "2       Ensoleillé  Normal    17/0003  externe    56879    Oui      0.600   \n",
       "3       Ensoleillé  Normal    17/0004  externe    19184    Oui      0.705   \n",
       "4       Ensoleillé  Normal    17/0005  interne   139936    Non      0.410   \n",
       "...            ...     ...        ...      ...      ...    ...        ...   \n",
       "215995  Ensoleillé  Normal    17/0196  interne    25251    Oui      0.650   \n",
       "215996  Ensoleillé  Normal    17/0197  interne    19184    Oui      0.650   \n",
       "215997  Ensoleillé  Normal    17/0198  interne    56879    Oui      0.545   \n",
       "215998  Ensoleillé  Normal    17/0199  interne    56879    Oui      0.545   \n",
       "215999  Ensoleillé  Normal    17/0200  externe    46901    Oui      0.725   \n",
       "\n",
       "        presence  \n",
       "0              0  \n",
       "1              1  \n",
       "2              1  \n",
       "3              1  \n",
       "4              0  \n",
       "...          ...  \n",
       "215995         1  \n",
       "215996         1  \n",
       "215997         0  \n",
       "215998         0  \n",
       "215999         1  \n",
       "\n",
       "[216000 rows x 14 columns]"
      ]
     },
     "execution_count": 52,
     "metadata": {},
     "output_type": "execute_result"
    }
   ],
   "source": [
    "data = pd.read_csv(\"datasetFinal.csv\")\n",
    "data"
   ]
  },
  {
   "cell_type": "code",
   "execution_count": 3,
   "id": "627f89ee",
   "metadata": {},
   "outputs": [],
   "source": [
    "import random\n",
    "def Bruit(nb):\n",
    "    return random.randint(0, 1)"
   ]
  },
  {
   "cell_type": "code",
   "execution_count": 25,
   "id": "88759d69",
   "metadata": {},
   "outputs": [
    {
     "data": {
      "text/plain": [
       "1"
      ]
     },
     "execution_count": 25,
     "metadata": {},
     "output_type": "execute_result"
    }
   ],
   "source": [
    "Bruit(5)"
   ]
  },
  {
   "cell_type": "code",
   "execution_count": 53,
   "id": "f486c1ef",
   "metadata": {},
   "outputs": [
    {
     "name": "stderr",
     "output_type": "stream",
     "text": [
      "<ipython-input-53-a03be8660d18>:4: SettingWithCopyWarning: \n",
      "A value is trying to be set on a copy of a slice from a DataFrame\n",
      "\n",
      "See the caveats in the documentation: https://pandas.pydata.org/pandas-docs/stable/user_guide/indexing.html#returning-a-view-versus-a-copy\n",
      "  data[\"presence\"][i] = Bruit(data[\"presence\"][i])\n"
     ]
    }
   ],
   "source": [
    "for i in range(216000):\n",
    "    if data[\"Event\"][i]==\"Normal\":\n",
    "        if (i%15 == 0):\n",
    "            data[\"presence\"][i] = Bruit(data[\"presence\"][i])"
   ]
  },
  {
   "cell_type": "code",
   "execution_count": 54,
   "id": "3dcb594b",
   "metadata": {},
   "outputs": [],
   "source": [
    "ListDate = data['date']"
   ]
  },
  {
   "cell_type": "code",
   "execution_count": 55,
   "id": "ac8c0621",
   "metadata": {},
   "outputs": [],
   "source": [
    "data = data.drop([ \"Unnamed: 0\",\"idRestaurant\", \"date\", \"Type\" , \"idEtudiant\", \"presenceP\",\"Unnamed: 0.1\"],axis=1)"
   ]
  },
  {
   "cell_type": "code",
   "execution_count": 56,
   "id": "bc934dfd",
   "metadata": {},
   "outputs": [
    {
     "data": {
      "text/html": [
       "<div>\n",
       "<style scoped>\n",
       "    .dataframe tbody tr th:only-of-type {\n",
       "        vertical-align: middle;\n",
       "    }\n",
       "\n",
       "    .dataframe tbody tr th {\n",
       "        vertical-align: top;\n",
       "    }\n",
       "\n",
       "    .dataframe thead th {\n",
       "        text-align: right;\n",
       "    }\n",
       "</style>\n",
       "<table border=\"1\" class=\"dataframe\">\n",
       "  <thead>\n",
       "    <tr style=\"text-align: right;\">\n",
       "      <th></th>\n",
       "      <th>Plat</th>\n",
       "      <th>meteo</th>\n",
       "      <th>Event</th>\n",
       "      <th>Heberg</th>\n",
       "      <th>Rev_par</th>\n",
       "      <th>Bourse</th>\n",
       "      <th>presence</th>\n",
       "    </tr>\n",
       "  </thead>\n",
       "  <tbody>\n",
       "    <tr>\n",
       "      <th>0</th>\n",
       "      <td>Lentilles</td>\n",
       "      <td>Ensoleillé</td>\n",
       "      <td>Normal</td>\n",
       "      <td>interne</td>\n",
       "      <td>56879</td>\n",
       "      <td>Oui</td>\n",
       "      <td>0</td>\n",
       "    </tr>\n",
       "    <tr>\n",
       "      <th>1</th>\n",
       "      <td>Lentilles</td>\n",
       "      <td>Ensoleillé</td>\n",
       "      <td>Normal</td>\n",
       "      <td>externe</td>\n",
       "      <td>19184</td>\n",
       "      <td>Oui</td>\n",
       "      <td>1</td>\n",
       "    </tr>\n",
       "    <tr>\n",
       "      <th>2</th>\n",
       "      <td>Lentilles</td>\n",
       "      <td>Ensoleillé</td>\n",
       "      <td>Normal</td>\n",
       "      <td>externe</td>\n",
       "      <td>56879</td>\n",
       "      <td>Oui</td>\n",
       "      <td>1</td>\n",
       "    </tr>\n",
       "    <tr>\n",
       "      <th>3</th>\n",
       "      <td>Lentilles</td>\n",
       "      <td>Ensoleillé</td>\n",
       "      <td>Normal</td>\n",
       "      <td>externe</td>\n",
       "      <td>19184</td>\n",
       "      <td>Oui</td>\n",
       "      <td>1</td>\n",
       "    </tr>\n",
       "    <tr>\n",
       "      <th>4</th>\n",
       "      <td>Lentilles</td>\n",
       "      <td>Ensoleillé</td>\n",
       "      <td>Normal</td>\n",
       "      <td>interne</td>\n",
       "      <td>139936</td>\n",
       "      <td>Non</td>\n",
       "      <td>0</td>\n",
       "    </tr>\n",
       "    <tr>\n",
       "      <th>...</th>\n",
       "      <td>...</td>\n",
       "      <td>...</td>\n",
       "      <td>...</td>\n",
       "      <td>...</td>\n",
       "      <td>...</td>\n",
       "      <td>...</td>\n",
       "      <td>...</td>\n",
       "    </tr>\n",
       "    <tr>\n",
       "      <th>215995</th>\n",
       "      <td>Loubia</td>\n",
       "      <td>Ensoleillé</td>\n",
       "      <td>Normal</td>\n",
       "      <td>interne</td>\n",
       "      <td>25251</td>\n",
       "      <td>Oui</td>\n",
       "      <td>1</td>\n",
       "    </tr>\n",
       "    <tr>\n",
       "      <th>215996</th>\n",
       "      <td>Loubia</td>\n",
       "      <td>Ensoleillé</td>\n",
       "      <td>Normal</td>\n",
       "      <td>interne</td>\n",
       "      <td>19184</td>\n",
       "      <td>Oui</td>\n",
       "      <td>1</td>\n",
       "    </tr>\n",
       "    <tr>\n",
       "      <th>215997</th>\n",
       "      <td>Loubia</td>\n",
       "      <td>Ensoleillé</td>\n",
       "      <td>Normal</td>\n",
       "      <td>interne</td>\n",
       "      <td>56879</td>\n",
       "      <td>Oui</td>\n",
       "      <td>0</td>\n",
       "    </tr>\n",
       "    <tr>\n",
       "      <th>215998</th>\n",
       "      <td>Loubia</td>\n",
       "      <td>Ensoleillé</td>\n",
       "      <td>Normal</td>\n",
       "      <td>interne</td>\n",
       "      <td>56879</td>\n",
       "      <td>Oui</td>\n",
       "      <td>0</td>\n",
       "    </tr>\n",
       "    <tr>\n",
       "      <th>215999</th>\n",
       "      <td>Loubia</td>\n",
       "      <td>Ensoleillé</td>\n",
       "      <td>Normal</td>\n",
       "      <td>externe</td>\n",
       "      <td>46901</td>\n",
       "      <td>Oui</td>\n",
       "      <td>1</td>\n",
       "    </tr>\n",
       "  </tbody>\n",
       "</table>\n",
       "<p>216000 rows × 7 columns</p>\n",
       "</div>"
      ],
      "text/plain": [
       "             Plat       meteo   Event   Heberg  Rev_par Bourse  presence\n",
       "0       Lentilles  Ensoleillé  Normal  interne    56879    Oui         0\n",
       "1       Lentilles  Ensoleillé  Normal  externe    19184    Oui         1\n",
       "2       Lentilles  Ensoleillé  Normal  externe    56879    Oui         1\n",
       "3       Lentilles  Ensoleillé  Normal  externe    19184    Oui         1\n",
       "4       Lentilles  Ensoleillé  Normal  interne   139936    Non         0\n",
       "...           ...         ...     ...      ...      ...    ...       ...\n",
       "215995     Loubia  Ensoleillé  Normal  interne    25251    Oui         1\n",
       "215996     Loubia  Ensoleillé  Normal  interne    19184    Oui         1\n",
       "215997     Loubia  Ensoleillé  Normal  interne    56879    Oui         0\n",
       "215998     Loubia  Ensoleillé  Normal  interne    56879    Oui         0\n",
       "215999     Loubia  Ensoleillé  Normal  externe    46901    Oui         1\n",
       "\n",
       "[216000 rows x 7 columns]"
      ]
     },
     "execution_count": 56,
     "metadata": {},
     "output_type": "execute_result"
    }
   ],
   "source": [
    "data"
   ]
  },
  {
   "cell_type": "code",
   "execution_count": 57,
   "id": "fe0be554",
   "metadata": {},
   "outputs": [],
   "source": [
    "data[\"Plat\"].replace([\"Lentilles\",\"Loubia\",\"Riz\",\"Spaghetti\",\"Couscous\",\"Weekend\"],[0,1,2,3,4,5],inplace=True)\n",
    "data[\"meteo\"].replace([\"Ensoleillé\",\"Nuageux\",\"Mauvais\"],[0,1,2],inplace=True)\n",
    "data[\"Event\"].replace([\"Normal\",\"Weekend\", \"Jour férié\",\"Ramadan\"],[0,1,2,3],inplace=True)\n",
    "data[\"Heberg\"].replace([\"interne\",\"externe\"],[0,1],inplace=True)\n",
    "data[\"Bourse\"].replace([\"Oui\",\"Non\"],[0,1],inplace=True)"
   ]
  },
  {
   "cell_type": "code",
   "execution_count": 58,
   "id": "d59f65b0",
   "metadata": {},
   "outputs": [],
   "source": [
    "trainC = data[:14400]\n",
    "testC = data[144001:]"
   ]
  },
  {
   "cell_type": "code",
   "execution_count": 59,
   "id": "5357cd72",
   "metadata": {},
   "outputs": [],
   "source": [
    "Ytrain = trainC[\"presence\"]\n",
    "Xtrain = trainC.drop([\"presence\"], axis=1)\n",
    "Ytest = testC[\"presence\"]\n",
    "Xtest = testC.drop([\"presence\"], axis=1)"
   ]
  },
  {
   "cell_type": "code",
   "execution_count": 60,
   "id": "dbdf3e71",
   "metadata": {},
   "outputs": [
    {
     "data": {
      "image/png": "[encoded data removed]",
      "text/plain": [
       "<Figure size 720x576 with 2 Axes>"
      ]
     },
     "metadata": {
      "needs_background": "light"
     },
     "output_type": "display_data"
    }
   ],
   "source": [
    "fig, axes = plt.subplots(figsize= (10,8))\n",
    "sns.heatmap(trainC.corr(), annot=True, cmap='magma')\n",
    "plt.xticks(rotation=30, ha='right')\n",
    "plt.title(\"Matrice de corrélation\")\n",
    "plt.show()"
   ]
  },
  {
   "cell_type": "code",
   "execution_count": 61,
   "id": "0ac7b480",
   "metadata": {},
   "outputs": [],
   "source": [
    "modele_rf = RandomForestClassifier(\n",
    "     n_estimators=100,\n",
    "     criterion='gini',\n",
    "     max_depth=None,\n",
    "     min_samples_split=2,\n",
    "     min_samples_leaf=1,\n",
    "     min_weight_fraction_leaf=0.0,\n",
    "     max_features='auto',\n",
    "     max_leaf_nodes=None,\n",
    "     min_impurity_decrease=0.0,\n",
    "     bootstrap=True,\n",
    "     oob_score=False,\n",
    "     n_jobs=None,\n",
    "     random_state=None,\n",
    "     verbose=0,\n",
    "     warm_start=False,\n",
    "     class_weight=None,\n",
    "     ccp_alpha=0.0,\n",
    "     max_samples=None,)"
   ]
  },
  {
   "cell_type": "code",
   "execution_count": 62,
   "id": "a1e8695e",
   "metadata": {},
   "outputs": [
    {
     "data": {
      "text/plain": [
       "RandomForestClassifier()"
      ]
     },
     "execution_count": 62,
     "metadata": {},
     "output_type": "execute_result"
    }
   ],
   "source": [
    "modele_rf.fit(Xtrain, Ytrain)"
   ]
  },
  {
   "cell_type": "code",
   "execution_count": 63,
   "id": "f7bd126e",
   "metadata": {},
   "outputs": [
    {
     "data": {
      "text/html": [
       "<div>\n",
       "<style scoped>\n",
       "    .dataframe tbody tr th:only-of-type {\n",
       "        vertical-align: middle;\n",
       "    }\n",
       "\n",
       "    .dataframe tbody tr th {\n",
       "        vertical-align: top;\n",
       "    }\n",
       "\n",
       "    .dataframe thead th {\n",
       "        text-align: right;\n",
       "    }\n",
       "</style>\n",
       "<table border=\"1\" class=\"dataframe\">\n",
       "  <thead>\n",
       "    <tr style=\"text-align: right;\">\n",
       "      <th></th>\n",
       "      <th>importance</th>\n",
       "    </tr>\n",
       "  </thead>\n",
       "  <tbody>\n",
       "    <tr>\n",
       "      <th>Rev_par</th>\n",
       "      <td>0.285811</td>\n",
       "    </tr>\n",
       "    <tr>\n",
       "      <th>Plat</th>\n",
       "      <td>0.261849</td>\n",
       "    </tr>\n",
       "    <tr>\n",
       "      <th>Event</th>\n",
       "      <td>0.223480</td>\n",
       "    </tr>\n",
       "    <tr>\n",
       "      <th>Heberg</th>\n",
       "      <td>0.126083</td>\n",
       "    </tr>\n",
       "    <tr>\n",
       "      <th>Bourse</th>\n",
       "      <td>0.058096</td>\n",
       "    </tr>\n",
       "    <tr>\n",
       "      <th>meteo</th>\n",
       "      <td>0.044682</td>\n",
       "    </tr>\n",
       "  </tbody>\n",
       "</table>\n",
       "</div>"
      ],
      "text/plain": [
       "         importance\n",
       "Rev_par    0.285811\n",
       "Plat       0.261849\n",
       "Event      0.223480\n",
       "Heberg     0.126083\n",
       "Bourse     0.058096\n",
       "meteo      0.044682"
      ]
     },
     "execution_count": 63,
     "metadata": {},
     "output_type": "execute_result"
    }
   ],
   "source": [
    "pd.DataFrame(modele_rf.feature_importances_,\n",
    "              index = Xtrain.columns, \n",
    "              columns = [\"importance\"]).sort_values(\n",
    "     \"importance\", \n",
    "     ascending = False)"
   ]
  },
  {
   "cell_type": "code",
   "execution_count": 64,
   "id": "5a296d92",
   "metadata": {},
   "outputs": [
    {
     "name": "stdout",
     "output_type": "stream",
     "text": [
      "Le pourcentage de bien classés est de : 96.87217878026084 %\n"
     ]
    }
   ],
   "source": [
    "from sklearn.metrics import accuracy_score, confusion_matrix\n",
    "print(f\"Le pourcentage de bien classés est de : {accuracy_score(Ytest, modele_rf.predict(Xtest))*100} %\")"
   ]
  },
  {
   "cell_type": "code",
   "execution_count": 65,
   "id": "64ea1756",
   "metadata": {},
   "outputs": [
    {
     "data": {
      "text/html": [
       "<div>\n",
       "<style scoped>\n",
       "    .dataframe tbody tr th:only-of-type {\n",
       "        vertical-align: middle;\n",
       "    }\n",
       "\n",
       "    .dataframe tbody tr th {\n",
       "        vertical-align: top;\n",
       "    }\n",
       "\n",
       "    .dataframe thead th {\n",
       "        text-align: right;\n",
       "    }\n",
       "</style>\n",
       "<table border=\"1\" class=\"dataframe\">\n",
       "  <thead>\n",
       "    <tr style=\"text-align: right;\">\n",
       "      <th></th>\n",
       "      <th>blanc_predit</th>\n",
       "      <th>rouge_predit</th>\n",
       "    </tr>\n",
       "  </thead>\n",
       "  <tbody>\n",
       "    <tr>\n",
       "      <th>blanc_données</th>\n",
       "      <td>33182</td>\n",
       "      <td>1155</td>\n",
       "    </tr>\n",
       "    <tr>\n",
       "      <th>rouge_données</th>\n",
       "      <td>1097</td>\n",
       "      <td>36565</td>\n",
       "    </tr>\n",
       "  </tbody>\n",
       "</table>\n",
       "</div>"
      ],
      "text/plain": [
       "               blanc_predit  rouge_predit\n",
       "blanc_données         33182          1155\n",
       "rouge_données          1097         36565"
      ]
     },
     "execution_count": 65,
     "metadata": {},
     "output_type": "execute_result"
    }
   ],
   "source": [
    "pd.DataFrame(confusion_matrix(Ytest, modele_rf.predict(Xtest)),\n",
    "             index = [\"blanc_données\", \"rouge_données\"],\n",
    "             columns = [\"blanc_predit\", \"rouge_predit\"])"
   ]
  },
  {
   "cell_type": "code",
   "execution_count": 82,
   "id": "5bd4367b",
   "metadata": {},
   "outputs": [],
   "source": [
    "prevision = {\n",
    "  \"Date\": ListDate[144001:],\n",
    "  \"Test\": Ytest,\n",
    "  \"Prevision\": modele_rf.predict(Xtest),\n",
    "}\n",
    "Prev = pd.DataFrame(prevision)"
   ]
  },
  {
   "cell_type": "code",
   "execution_count": 83,
   "id": "79889627",
   "metadata": {},
   "outputs": [],
   "source": [
    "gb = Prev.groupby('Date').sum()"
   ]
  },
  {
   "cell_type": "code",
   "execution_count": 85,
   "id": "49e33f3f",
   "metadata": {},
   "outputs": [],
   "source": [
    "gb.to_excel(\"RandomForestResult.xlsx\")"
   ]
  },
  {
   "cell_type": "raw",
   "id": "bd9deb4b",
   "metadata": {},
   "source": [
    "Result = pd.read_excel(\"RandomForestResult.xlsx\")\n",
    "Result"
   ]
  },
  {
   "cell_type": "code",
   "execution_count": 90,
   "id": "0cf67001",
   "metadata": {},
   "outputs": [],
   "source": [
    "Result['Date'] = pd.to_datetime(Result['Date'],infer_datetime_format=True) #convert from string to datetime\n",
    "indexedDataset = Result.set_index(['Date'])"
   ]
  },
  {
   "cell_type": "code",
   "execution_count": 95,
   "id": "aa7fabf8",
   "metadata": {},
   "outputs": [],
   "source": [
    "Result= Result.drop([\"Date\"],axis=1)"
   ]
  },
  {
   "cell_type": "code",
   "execution_count": 96,
   "id": "1b018915",
   "metadata": {},
   "outputs": [
    {
     "data": {
      "text/plain": [
       "<AxesSubplot:>"
      ]
     },
     "execution_count": 96,
     "metadata": {},
     "output_type": "execute_result"
    },
    {
     "data": {
      "image/png": "[encoded data removed]",
      "text/plain": [
       "<Figure size 432x288 with 1 Axes>"
      ]
     },
     "metadata": {
      "needs_background": "light"
     },
     "output_type": "display_data"
    }
   ],
   "source": [
    "Result.plot()"
   ]
  },
  {
   "cell_type": "code",
   "execution_count": null,
   "id": "47b28583",
   "metadata": {},
   "outputs": [],
   "source": [
    "f,ax = plt.subplots(1,1,figsize=(20,8))\n",
    "plt1=pres.set_index('date')\n",
    "plt1.plot(color='salmon', kind='area', ax=ax)\n",
    "plt.ylabel(\"Total des présents\")\n",
    "plt.title(\"Répartitions des présents par date\")"
   ]
  }
 ],
 "metadata": {
  "kernelspec": {
   "display_name": "Python 3",
   "language": "python",
   "name": "python3"
  },
  "language_info": {
   "codemirror_mode": {
    "name": "ipython",
    "version": 3
   },
   "file_extension": ".py",
   "mimetype": "text/x-python",
   "name": "python",
   "nbconvert_exporter": "python",
   "pygments_lexer": "ipython3",
   "version": "3.8.8"
  }
 },
 "nbformat": 4,
 "nbformat_minor": 5
}

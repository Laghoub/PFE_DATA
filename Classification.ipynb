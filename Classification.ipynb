{
 "cells": [
  {
   "cell_type": "code",
   "execution_count": 1,
   "id": "d28d8753",
   "metadata": {},
   "outputs": [],
   "source": [
    "from random import choices\n",
    "import pandas as pd\n",
    "import random\n",
    "import matplotlib.pyplot as plt\n",
    "import numpy as np\n",
    "import seaborn as sns\n",
    "from sklearn.metrics import confusion_matrix \n",
    "import lightgbm as lgb"
   ]
  },
  {
   "cell_type": "code",
   "execution_count": 2,
   "id": "72e6821c",
   "metadata": {},
   "outputs": [],
   "source": [
    "from sklearn.ensemble import RandomForestClassifier\n",
    "from sklearn.model_selection import train_test_split"
   ]
  },
  {
   "cell_type": "code",
   "execution_count": 376,
   "id": "29216866",
   "metadata": {},
   "outputs": [
    {
     "data": {
      "text/html": [
       "<div>\n",
       "<style scoped>\n",
       "    .dataframe tbody tr th:only-of-type {\n",
       "        vertical-align: middle;\n",
       "    }\n",
       "\n",
       "    .dataframe tbody tr th {\n",
       "        vertical-align: top;\n",
       "    }\n",
       "\n",
       "    .dataframe thead th {\n",
       "        text-align: right;\n",
       "    }\n",
       "</style>\n",
       "<table border=\"1\" class=\"dataframe\">\n",
       "  <thead>\n",
       "    <tr style=\"text-align: right;\">\n",
       "      <th></th>\n",
       "      <th>Unnamed: 0</th>\n",
       "      <th>Unnamed: 0.1</th>\n",
       "      <th>Unnamed: 0.1.1</th>\n",
       "      <th>idRestaurant</th>\n",
       "      <th>date</th>\n",
       "      <th>Type</th>\n",
       "      <th>Plat</th>\n",
       "      <th>meteo</th>\n",
       "      <th>Event</th>\n",
       "      <th>idEtudiant</th>\n",
       "      <th>Heberg</th>\n",
       "      <th>Rev_par</th>\n",
       "      <th>Bourse</th>\n",
       "      <th>presenceP</th>\n",
       "      <th>presence</th>\n",
       "    </tr>\n",
       "  </thead>\n",
       "  <tbody>\n",
       "    <tr>\n",
       "      <th>0</th>\n",
       "      <td>0</td>\n",
       "      <td>0</td>\n",
       "      <td>0</td>\n",
       "      <td>Esi016</td>\n",
       "      <td>01-09-2019</td>\n",
       "      <td>midi</td>\n",
       "      <td>Lentilles</td>\n",
       "      <td>Ensoleillé</td>\n",
       "      <td>Normal</td>\n",
       "      <td>17/0001</td>\n",
       "      <td>interne</td>\n",
       "      <td>56879</td>\n",
       "      <td>Oui</td>\n",
       "      <td>0.525</td>\n",
       "      <td>1</td>\n",
       "    </tr>\n",
       "    <tr>\n",
       "      <th>1</th>\n",
       "      <td>1</td>\n",
       "      <td>1</td>\n",
       "      <td>1</td>\n",
       "      <td>Esi016</td>\n",
       "      <td>01-09-2019</td>\n",
       "      <td>midi</td>\n",
       "      <td>Lentilles</td>\n",
       "      <td>Ensoleillé</td>\n",
       "      <td>Normal</td>\n",
       "      <td>17/0002</td>\n",
       "      <td>externe</td>\n",
       "      <td>19184</td>\n",
       "      <td>Oui</td>\n",
       "      <td>0.705</td>\n",
       "      <td>1</td>\n",
       "    </tr>\n",
       "    <tr>\n",
       "      <th>2</th>\n",
       "      <td>2</td>\n",
       "      <td>2</td>\n",
       "      <td>2</td>\n",
       "      <td>Esi016</td>\n",
       "      <td>01-09-2019</td>\n",
       "      <td>midi</td>\n",
       "      <td>Lentilles</td>\n",
       "      <td>Ensoleillé</td>\n",
       "      <td>Normal</td>\n",
       "      <td>17/0003</td>\n",
       "      <td>externe</td>\n",
       "      <td>56879</td>\n",
       "      <td>Oui</td>\n",
       "      <td>0.600</td>\n",
       "      <td>1</td>\n",
       "    </tr>\n",
       "    <tr>\n",
       "      <th>3</th>\n",
       "      <td>3</td>\n",
       "      <td>3</td>\n",
       "      <td>3</td>\n",
       "      <td>Esi016</td>\n",
       "      <td>01-09-2019</td>\n",
       "      <td>midi</td>\n",
       "      <td>Lentilles</td>\n",
       "      <td>Ensoleillé</td>\n",
       "      <td>Normal</td>\n",
       "      <td>17/0004</td>\n",
       "      <td>externe</td>\n",
       "      <td>19184</td>\n",
       "      <td>Oui</td>\n",
       "      <td>0.705</td>\n",
       "      <td>1</td>\n",
       "    </tr>\n",
       "    <tr>\n",
       "      <th>4</th>\n",
       "      <td>4</td>\n",
       "      <td>4</td>\n",
       "      <td>4</td>\n",
       "      <td>Esi016</td>\n",
       "      <td>01-09-2019</td>\n",
       "      <td>midi</td>\n",
       "      <td>Lentilles</td>\n",
       "      <td>Ensoleillé</td>\n",
       "      <td>Normal</td>\n",
       "      <td>17/0005</td>\n",
       "      <td>interne</td>\n",
       "      <td>139936</td>\n",
       "      <td>Non</td>\n",
       "      <td>0.410</td>\n",
       "      <td>0</td>\n",
       "    </tr>\n",
       "    <tr>\n",
       "      <th>...</th>\n",
       "      <td>...</td>\n",
       "      <td>...</td>\n",
       "      <td>...</td>\n",
       "      <td>...</td>\n",
       "      <td>...</td>\n",
       "      <td>...</td>\n",
       "      <td>...</td>\n",
       "      <td>...</td>\n",
       "      <td>...</td>\n",
       "      <td>...</td>\n",
       "      <td>...</td>\n",
       "      <td>...</td>\n",
       "      <td>...</td>\n",
       "      <td>...</td>\n",
       "      <td>...</td>\n",
       "    </tr>\n",
       "    <tr>\n",
       "      <th>215995</th>\n",
       "      <td>215995</td>\n",
       "      <td>215995</td>\n",
       "      <td>215995</td>\n",
       "      <td>Esi016</td>\n",
       "      <td>15-08-2022</td>\n",
       "      <td>midi</td>\n",
       "      <td>Loubia</td>\n",
       "      <td>Ensoleillé</td>\n",
       "      <td>Normal</td>\n",
       "      <td>17/0196</td>\n",
       "      <td>interne</td>\n",
       "      <td>25251</td>\n",
       "      <td>Oui</td>\n",
       "      <td>0.650</td>\n",
       "      <td>1</td>\n",
       "    </tr>\n",
       "    <tr>\n",
       "      <th>215996</th>\n",
       "      <td>215996</td>\n",
       "      <td>215996</td>\n",
       "      <td>215996</td>\n",
       "      <td>Esi016</td>\n",
       "      <td>15-08-2022</td>\n",
       "      <td>midi</td>\n",
       "      <td>Loubia</td>\n",
       "      <td>Ensoleillé</td>\n",
       "      <td>Normal</td>\n",
       "      <td>17/0197</td>\n",
       "      <td>interne</td>\n",
       "      <td>19184</td>\n",
       "      <td>Oui</td>\n",
       "      <td>0.650</td>\n",
       "      <td>1</td>\n",
       "    </tr>\n",
       "    <tr>\n",
       "      <th>215997</th>\n",
       "      <td>215997</td>\n",
       "      <td>215997</td>\n",
       "      <td>215997</td>\n",
       "      <td>Esi016</td>\n",
       "      <td>15-08-2022</td>\n",
       "      <td>midi</td>\n",
       "      <td>Loubia</td>\n",
       "      <td>Ensoleillé</td>\n",
       "      <td>Normal</td>\n",
       "      <td>17/0198</td>\n",
       "      <td>interne</td>\n",
       "      <td>56879</td>\n",
       "      <td>Oui</td>\n",
       "      <td>0.545</td>\n",
       "      <td>0</td>\n",
       "    </tr>\n",
       "    <tr>\n",
       "      <th>215998</th>\n",
       "      <td>215998</td>\n",
       "      <td>215998</td>\n",
       "      <td>215998</td>\n",
       "      <td>Esi016</td>\n",
       "      <td>15-08-2022</td>\n",
       "      <td>midi</td>\n",
       "      <td>Loubia</td>\n",
       "      <td>Ensoleillé</td>\n",
       "      <td>Normal</td>\n",
       "      <td>17/0199</td>\n",
       "      <td>interne</td>\n",
       "      <td>56879</td>\n",
       "      <td>Oui</td>\n",
       "      <td>0.545</td>\n",
       "      <td>0</td>\n",
       "    </tr>\n",
       "    <tr>\n",
       "      <th>215999</th>\n",
       "      <td>215999</td>\n",
       "      <td>215999</td>\n",
       "      <td>215999</td>\n",
       "      <td>Esi016</td>\n",
       "      <td>15-08-2022</td>\n",
       "      <td>midi</td>\n",
       "      <td>Loubia</td>\n",
       "      <td>Ensoleillé</td>\n",
       "      <td>Normal</td>\n",
       "      <td>17/0200</td>\n",
       "      <td>externe</td>\n",
       "      <td>46901</td>\n",
       "      <td>Oui</td>\n",
       "      <td>0.725</td>\n",
       "      <td>1</td>\n",
       "    </tr>\n",
       "  </tbody>\n",
       "</table>\n",
       "<p>216000 rows × 15 columns</p>\n",
       "</div>"
      ],
      "text/plain": [
       "        Unnamed: 0  Unnamed: 0.1  Unnamed: 0.1.1 idRestaurant        date  \\\n",
       "0                0             0               0       Esi016  01-09-2019   \n",
       "1                1             1               1       Esi016  01-09-2019   \n",
       "2                2             2               2       Esi016  01-09-2019   \n",
       "3                3             3               3       Esi016  01-09-2019   \n",
       "4                4             4               4       Esi016  01-09-2019   \n",
       "...            ...           ...             ...          ...         ...   \n",
       "215995      215995        215995          215995       Esi016  15-08-2022   \n",
       "215996      215996        215996          215996       Esi016  15-08-2022   \n",
       "215997      215997        215997          215997       Esi016  15-08-2022   \n",
       "215998      215998        215998          215998       Esi016  15-08-2022   \n",
       "215999      215999        215999          215999       Esi016  15-08-2022   \n",
       "\n",
       "        Type       Plat       meteo   Event idEtudiant   Heberg  Rev_par  \\\n",
       "0       midi  Lentilles  Ensoleillé  Normal    17/0001  interne    56879   \n",
       "1       midi  Lentilles  Ensoleillé  Normal    17/0002  externe    19184   \n",
       "2       midi  Lentilles  Ensoleillé  Normal    17/0003  externe    56879   \n",
       "3       midi  Lentilles  Ensoleillé  Normal    17/0004  externe    19184   \n",
       "4       midi  Lentilles  Ensoleillé  Normal    17/0005  interne   139936   \n",
       "...      ...        ...         ...     ...        ...      ...      ...   \n",
       "215995  midi     Loubia  Ensoleillé  Normal    17/0196  interne    25251   \n",
       "215996  midi     Loubia  Ensoleillé  Normal    17/0197  interne    19184   \n",
       "215997  midi     Loubia  Ensoleillé  Normal    17/0198  interne    56879   \n",
       "215998  midi     Loubia  Ensoleillé  Normal    17/0199  interne    56879   \n",
       "215999  midi     Loubia  Ensoleillé  Normal    17/0200  externe    46901   \n",
       "\n",
       "       Bourse  presenceP  presence  \n",
       "0         Oui      0.525         1  \n",
       "1         Oui      0.705         1  \n",
       "2         Oui      0.600         1  \n",
       "3         Oui      0.705         1  \n",
       "4         Non      0.410         0  \n",
       "...       ...        ...       ...  \n",
       "215995    Oui      0.650         1  \n",
       "215996    Oui      0.650         1  \n",
       "215997    Oui      0.545         0  \n",
       "215998    Oui      0.545         0  \n",
       "215999    Oui      0.725         1  \n",
       "\n",
       "[216000 rows x 15 columns]"
      ]
     },
     "execution_count": 376,
     "metadata": {},
     "output_type": "execute_result"
    }
   ],
   "source": [
    "classf = pd.read_csv(\"dataFinal.csv\")\n",
    "classf"
   ]
  },
  {
   "cell_type": "code",
   "execution_count": 5,
   "id": "7d0843fa",
   "metadata": {},
   "outputs": [],
   "source": [
    "def ClasseRevenues(revenu):\n",
    "    if(revenu<50000):\n",
    "        return 1\n",
    "    if(revenu>50000 and revenu<100000):\n",
    "        return 2\n",
    "    if (revenu>100000 and revenu<150000):\n",
    "        return 3\n",
    "    if (revenu>150000):\n",
    "        return 4"
   ]
  },
  {
   "cell_type": "code",
   "execution_count": 6,
   "id": "ed2bdc2e",
   "metadata": {},
   "outputs": [
    {
     "name": "stderr",
     "output_type": "stream",
     "text": [
      "<ipython-input-6-dc636a85ec94>:2: SettingWithCopyWarning: \n",
      "A value is trying to be set on a copy of a slice from a DataFrame\n",
      "\n",
      "See the caveats in the documentation: https://pandas.pydata.org/pandas-docs/stable/user_guide/indexing.html#returning-a-view-versus-a-copy\n",
      "  classf[\"Rev_par\"][i] =ClasseRevenues(classf[\"Rev_par\"][i])\n"
     ]
    }
   ],
   "source": [
    "for i in range(216000):\n",
    "    classf[\"Rev_par\"][i] =ClasseRevenues(classf[\"Rev_par\"][i])"
   ]
  },
  {
   "cell_type": "code",
   "execution_count": 354,
   "id": "145fce97",
   "metadata": {},
   "outputs": [],
   "source": [
    "def decide(presP):\n",
    "    if (presP>=0.6):\n",
    "        return 1\n",
    "    return 0"
   ]
  },
  {
   "cell_type": "code",
   "execution_count": 355,
   "id": "c5c8b2b2",
   "metadata": {},
   "outputs": [
    {
     "name": "stderr",
     "output_type": "stream",
     "text": [
      "<ipython-input-355-95bc0479b5f6>:2: SettingWithCopyWarning: \n",
      "A value is trying to be set on a copy of a slice from a DataFrame\n",
      "\n",
      "See the caveats in the documentation: https://pandas.pydata.org/pandas-docs/stable/user_guide/indexing.html#returning-a-view-versus-a-copy\n",
      "  classf[\"presence\"][i] = decide(classf[\"presenceP\"][i])\n"
     ]
    }
   ],
   "source": [
    "for i in range(216000):\n",
    "    classf[\"presence\"][i] = decide(classf[\"presenceP\"][i])"
   ]
  },
  {
   "cell_type": "code",
   "execution_count": 356,
   "id": "d99bb900",
   "metadata": {},
   "outputs": [],
   "source": [
    "classf.to_csv(\"datasetFinal.csv\")"
   ]
  },
  {
   "cell_type": "code",
   "execution_count": 401,
   "id": "a9412567",
   "metadata": {},
   "outputs": [
    {
     "data": {
      "text/plain": [
       "144001    1\n",
       "144002    0\n",
       "144003    1\n",
       "144004    0\n",
       "144005    1\n",
       "         ..\n",
       "215995    1\n",
       "215996    1\n",
       "215997    0\n",
       "215998    0\n",
       "215999    1\n",
       "Name: presence, Length: 71999, dtype: int64"
      ]
     },
     "execution_count": 401,
     "metadata": {},
     "output_type": "execute_result"
    }
   ],
   "source": [
    "Ytest"
   ]
  },
  {
   "cell_type": "code",
   "execution_count": null,
   "id": "4d7c7c31",
   "metadata": {},
   "outputs": [],
   "source": [
    "def decide(presP):\n",
    "    Type = [0,1]\n",
    "    weight = [1-presP,presP]\n",
    "    return choices(Type,weight)[0]"
   ]
  },
  {
   "cell_type": "code",
   "execution_count": 146,
   "id": "397e0f55",
   "metadata": {},
   "outputs": [],
   "source": [
    "classf.drop(classf[classf.Event==\"Weekend\"].index, inplace=True)\n",
    "classf.drop(classf[classf.Event==\"Jour férié\"].index, inplace=True)\n",
    "classf.drop(classf[classf.Event==\"Ramadan\"].index, inplace=True)"
   ]
  },
  {
   "cell_type": "code",
   "execution_count": 203,
   "id": "7bed543a",
   "metadata": {},
   "outputs": [],
   "source": [
    "classf.to_excel(\"DatasetFinal.xlsx\")"
   ]
  },
  {
   "cell_type": "code",
   "execution_count": 225,
   "id": "fd7642bf",
   "metadata": {},
   "outputs": [],
   "source": [
    "data = pd.read_excel(\"DatasetFinal.xlsx\")"
   ]
  },
  {
   "cell_type": "code",
   "execution_count": 319,
   "id": "ffbb8bda",
   "metadata": {},
   "outputs": [
    {
     "data": {
      "text/html": [
       "<div>\n",
       "<style scoped>\n",
       "    .dataframe tbody tr th:only-of-type {\n",
       "        vertical-align: middle;\n",
       "    }\n",
       "\n",
       "    .dataframe tbody tr th {\n",
       "        vertical-align: top;\n",
       "    }\n",
       "\n",
       "    .dataframe thead th {\n",
       "        text-align: right;\n",
       "    }\n",
       "</style>\n",
       "<table border=\"1\" class=\"dataframe\">\n",
       "  <thead>\n",
       "    <tr style=\"text-align: right;\">\n",
       "      <th></th>\n",
       "      <th>Unnamed: 0</th>\n",
       "      <th>idRestaurant</th>\n",
       "      <th>date</th>\n",
       "      <th>Type</th>\n",
       "      <th>Plat</th>\n",
       "      <th>meteo</th>\n",
       "      <th>Event</th>\n",
       "      <th>idEtudiant</th>\n",
       "      <th>Heberg</th>\n",
       "      <th>Rev_par</th>\n",
       "      <th>Bourse</th>\n",
       "      <th>presenceP</th>\n",
       "      <th>presence</th>\n",
       "    </tr>\n",
       "  </thead>\n",
       "  <tbody>\n",
       "    <tr>\n",
       "      <th>0</th>\n",
       "      <td>0</td>\n",
       "      <td>Esi016</td>\n",
       "      <td>01-09-2019</td>\n",
       "      <td>midi</td>\n",
       "      <td>Lentilles</td>\n",
       "      <td>Ensoleillé</td>\n",
       "      <td>Normal</td>\n",
       "      <td>17/0001</td>\n",
       "      <td>interne</td>\n",
       "      <td>56879</td>\n",
       "      <td>Oui</td>\n",
       "      <td>0.525</td>\n",
       "      <td>0</td>\n",
       "    </tr>\n",
       "    <tr>\n",
       "      <th>1</th>\n",
       "      <td>1</td>\n",
       "      <td>Esi016</td>\n",
       "      <td>01-09-2019</td>\n",
       "      <td>midi</td>\n",
       "      <td>Lentilles</td>\n",
       "      <td>Ensoleillé</td>\n",
       "      <td>Normal</td>\n",
       "      <td>17/0002</td>\n",
       "      <td>externe</td>\n",
       "      <td>19184</td>\n",
       "      <td>Oui</td>\n",
       "      <td>0.705</td>\n",
       "      <td>1</td>\n",
       "    </tr>\n",
       "    <tr>\n",
       "      <th>2</th>\n",
       "      <td>2</td>\n",
       "      <td>Esi016</td>\n",
       "      <td>01-09-2019</td>\n",
       "      <td>midi</td>\n",
       "      <td>Lentilles</td>\n",
       "      <td>Ensoleillé</td>\n",
       "      <td>Normal</td>\n",
       "      <td>17/0003</td>\n",
       "      <td>externe</td>\n",
       "      <td>56879</td>\n",
       "      <td>Oui</td>\n",
       "      <td>0.600</td>\n",
       "      <td>1</td>\n",
       "    </tr>\n",
       "    <tr>\n",
       "      <th>3</th>\n",
       "      <td>3</td>\n",
       "      <td>Esi016</td>\n",
       "      <td>01-09-2019</td>\n",
       "      <td>midi</td>\n",
       "      <td>Lentilles</td>\n",
       "      <td>Ensoleillé</td>\n",
       "      <td>Normal</td>\n",
       "      <td>17/0004</td>\n",
       "      <td>externe</td>\n",
       "      <td>19184</td>\n",
       "      <td>Oui</td>\n",
       "      <td>0.705</td>\n",
       "      <td>1</td>\n",
       "    </tr>\n",
       "    <tr>\n",
       "      <th>4</th>\n",
       "      <td>4</td>\n",
       "      <td>Esi016</td>\n",
       "      <td>01-09-2019</td>\n",
       "      <td>midi</td>\n",
       "      <td>Lentilles</td>\n",
       "      <td>Ensoleillé</td>\n",
       "      <td>Normal</td>\n",
       "      <td>17/0005</td>\n",
       "      <td>interne</td>\n",
       "      <td>139936</td>\n",
       "      <td>Non</td>\n",
       "      <td>0.410</td>\n",
       "      <td>0</td>\n",
       "    </tr>\n",
       "    <tr>\n",
       "      <th>...</th>\n",
       "      <td>...</td>\n",
       "      <td>...</td>\n",
       "      <td>...</td>\n",
       "      <td>...</td>\n",
       "      <td>...</td>\n",
       "      <td>...</td>\n",
       "      <td>...</td>\n",
       "      <td>...</td>\n",
       "      <td>...</td>\n",
       "      <td>...</td>\n",
       "      <td>...</td>\n",
       "      <td>...</td>\n",
       "      <td>...</td>\n",
       "    </tr>\n",
       "    <tr>\n",
       "      <th>215995</th>\n",
       "      <td>215995</td>\n",
       "      <td>Esi016</td>\n",
       "      <td>15-08-2022</td>\n",
       "      <td>midi</td>\n",
       "      <td>Loubia</td>\n",
       "      <td>Ensoleillé</td>\n",
       "      <td>Normal</td>\n",
       "      <td>17/0196</td>\n",
       "      <td>interne</td>\n",
       "      <td>25251</td>\n",
       "      <td>Oui</td>\n",
       "      <td>0.650</td>\n",
       "      <td>1</td>\n",
       "    </tr>\n",
       "    <tr>\n",
       "      <th>215996</th>\n",
       "      <td>215996</td>\n",
       "      <td>Esi016</td>\n",
       "      <td>15-08-2022</td>\n",
       "      <td>midi</td>\n",
       "      <td>Loubia</td>\n",
       "      <td>Ensoleillé</td>\n",
       "      <td>Normal</td>\n",
       "      <td>17/0197</td>\n",
       "      <td>interne</td>\n",
       "      <td>19184</td>\n",
       "      <td>Oui</td>\n",
       "      <td>0.650</td>\n",
       "      <td>1</td>\n",
       "    </tr>\n",
       "    <tr>\n",
       "      <th>215997</th>\n",
       "      <td>215997</td>\n",
       "      <td>Esi016</td>\n",
       "      <td>15-08-2022</td>\n",
       "      <td>midi</td>\n",
       "      <td>Loubia</td>\n",
       "      <td>Ensoleillé</td>\n",
       "      <td>Normal</td>\n",
       "      <td>17/0198</td>\n",
       "      <td>interne</td>\n",
       "      <td>56879</td>\n",
       "      <td>Oui</td>\n",
       "      <td>0.545</td>\n",
       "      <td>0</td>\n",
       "    </tr>\n",
       "    <tr>\n",
       "      <th>215998</th>\n",
       "      <td>215998</td>\n",
       "      <td>Esi016</td>\n",
       "      <td>15-08-2022</td>\n",
       "      <td>midi</td>\n",
       "      <td>Loubia</td>\n",
       "      <td>Ensoleillé</td>\n",
       "      <td>Normal</td>\n",
       "      <td>17/0199</td>\n",
       "      <td>interne</td>\n",
       "      <td>56879</td>\n",
       "      <td>Oui</td>\n",
       "      <td>0.545</td>\n",
       "      <td>0</td>\n",
       "    </tr>\n",
       "    <tr>\n",
       "      <th>215999</th>\n",
       "      <td>215999</td>\n",
       "      <td>Esi016</td>\n",
       "      <td>15-08-2022</td>\n",
       "      <td>midi</td>\n",
       "      <td>Loubia</td>\n",
       "      <td>Ensoleillé</td>\n",
       "      <td>Normal</td>\n",
       "      <td>17/0200</td>\n",
       "      <td>externe</td>\n",
       "      <td>46901</td>\n",
       "      <td>Oui</td>\n",
       "      <td>0.725</td>\n",
       "      <td>1</td>\n",
       "    </tr>\n",
       "  </tbody>\n",
       "</table>\n",
       "<p>216000 rows × 13 columns</p>\n",
       "</div>"
      ],
      "text/plain": [
       "        Unnamed: 0 idRestaurant        date  Type       Plat       meteo  \\\n",
       "0                0       Esi016  01-09-2019  midi  Lentilles  Ensoleillé   \n",
       "1                1       Esi016  01-09-2019  midi  Lentilles  Ensoleillé   \n",
       "2                2       Esi016  01-09-2019  midi  Lentilles  Ensoleillé   \n",
       "3                3       Esi016  01-09-2019  midi  Lentilles  Ensoleillé   \n",
       "4                4       Esi016  01-09-2019  midi  Lentilles  Ensoleillé   \n",
       "...            ...          ...         ...   ...        ...         ...   \n",
       "215995      215995       Esi016  15-08-2022  midi     Loubia  Ensoleillé   \n",
       "215996      215996       Esi016  15-08-2022  midi     Loubia  Ensoleillé   \n",
       "215997      215997       Esi016  15-08-2022  midi     Loubia  Ensoleillé   \n",
       "215998      215998       Esi016  15-08-2022  midi     Loubia  Ensoleillé   \n",
       "215999      215999       Esi016  15-08-2022  midi     Loubia  Ensoleillé   \n",
       "\n",
       "         Event idEtudiant   Heberg  Rev_par Bourse  presenceP  presence  \n",
       "0       Normal    17/0001  interne    56879    Oui      0.525         0  \n",
       "1       Normal    17/0002  externe    19184    Oui      0.705         1  \n",
       "2       Normal    17/0003  externe    56879    Oui      0.600         1  \n",
       "3       Normal    17/0004  externe    19184    Oui      0.705         1  \n",
       "4       Normal    17/0005  interne   139936    Non      0.410         0  \n",
       "...        ...        ...      ...      ...    ...        ...       ...  \n",
       "215995  Normal    17/0196  interne    25251    Oui      0.650         1  \n",
       "215996  Normal    17/0197  interne    19184    Oui      0.650         1  \n",
       "215997  Normal    17/0198  interne    56879    Oui      0.545         0  \n",
       "215998  Normal    17/0199  interne    56879    Oui      0.545         0  \n",
       "215999  Normal    17/0200  externe    46901    Oui      0.725         1  \n",
       "\n",
       "[216000 rows x 13 columns]"
      ]
     },
     "execution_count": 319,
     "metadata": {},
     "output_type": "execute_result"
    }
   ],
   "source": [
    "classf"
   ]
  },
  {
   "cell_type": "code",
   "execution_count": 320,
   "id": "04ac8ec2",
   "metadata": {},
   "outputs": [],
   "source": [
    "ListDate = classf['date']"
   ]
  },
  {
   "cell_type": "code",
   "execution_count": 321,
   "id": "55adb293",
   "metadata": {},
   "outputs": [
    {
     "data": {
      "text/plain": [
       "0         01-09-2019\n",
       "1         01-09-2019\n",
       "2         01-09-2019\n",
       "3         01-09-2019\n",
       "4         01-09-2019\n",
       "             ...    \n",
       "215995    15-08-2022\n",
       "215996    15-08-2022\n",
       "215997    15-08-2022\n",
       "215998    15-08-2022\n",
       "215999    15-08-2022\n",
       "Name: date, Length: 216000, dtype: object"
      ]
     },
     "execution_count": 321,
     "metadata": {},
     "output_type": "execute_result"
    }
   ],
   "source": [
    "ListDate"
   ]
  },
  {
   "cell_type": "code",
   "execution_count": 377,
   "id": "efba0919",
   "metadata": {},
   "outputs": [],
   "source": [
    "classf = classf.drop([ \"Unnamed: 0\",\"idRestaurant\", \"date\", \"Type\" , \"idEtudiant\", \"presenceP\",\"Unnamed: 0.1\",\"Unnamed: 0.1.1\"],axis=1)"
   ]
  },
  {
   "cell_type": "code",
   "execution_count": 378,
   "id": "3b8470cc",
   "metadata": {},
   "outputs": [],
   "source": [
    "classf[\"Plat\"].replace([\"Lentilles\",\"Loubia\",\"Riz\",\"Spaghetti\",\"Couscous\",\"Weekend\"],[0,1,2,3,4,5],inplace=True)\n",
    "classf[\"meteo\"].replace([\"Ensoleillé\",\"Nuageux\",\"Mauvais\"],[0,1,2],inplace=True)\n",
    "classf[\"Event\"].replace([\"Normal\",\"Weekend\", \"Jour férié\",\"Ramadan\"],[0,1,2,3],inplace=True)\n",
    "classf[\"Heberg\"].replace([\"interne\",\"externe\"],[0,1],inplace=True)\n",
    "classf[\"Bourse\"].replace([\"Oui\",\"Non\"],[0,1],inplace=True)"
   ]
  },
  {
   "cell_type": "code",
   "execution_count": 379,
   "id": "332ef9f7",
   "metadata": {},
   "outputs": [],
   "source": [
    "trainC = classf[:14400]\n",
    "testC = classf[144001:]"
   ]
  },
  {
   "cell_type": "code",
   "execution_count": 380,
   "id": "63fa2341",
   "metadata": {},
   "outputs": [
    {
     "data": {
      "text/html": [
       "<div>\n",
       "<style scoped>\n",
       "    .dataframe tbody tr th:only-of-type {\n",
       "        vertical-align: middle;\n",
       "    }\n",
       "\n",
       "    .dataframe tbody tr th {\n",
       "        vertical-align: top;\n",
       "    }\n",
       "\n",
       "    .dataframe thead th {\n",
       "        text-align: right;\n",
       "    }\n",
       "</style>\n",
       "<table border=\"1\" class=\"dataframe\">\n",
       "  <thead>\n",
       "    <tr style=\"text-align: right;\">\n",
       "      <th></th>\n",
       "      <th>Plat</th>\n",
       "      <th>meteo</th>\n",
       "      <th>Event</th>\n",
       "      <th>Heberg</th>\n",
       "      <th>Rev_par</th>\n",
       "      <th>Bourse</th>\n",
       "      <th>presence</th>\n",
       "    </tr>\n",
       "  </thead>\n",
       "  <tbody>\n",
       "    <tr>\n",
       "      <th>0</th>\n",
       "      <td>0</td>\n",
       "      <td>0</td>\n",
       "      <td>0</td>\n",
       "      <td>0</td>\n",
       "      <td>56879</td>\n",
       "      <td>0</td>\n",
       "      <td>1</td>\n",
       "    </tr>\n",
       "    <tr>\n",
       "      <th>1</th>\n",
       "      <td>0</td>\n",
       "      <td>0</td>\n",
       "      <td>0</td>\n",
       "      <td>1</td>\n",
       "      <td>19184</td>\n",
       "      <td>0</td>\n",
       "      <td>1</td>\n",
       "    </tr>\n",
       "    <tr>\n",
       "      <th>2</th>\n",
       "      <td>0</td>\n",
       "      <td>0</td>\n",
       "      <td>0</td>\n",
       "      <td>1</td>\n",
       "      <td>56879</td>\n",
       "      <td>0</td>\n",
       "      <td>1</td>\n",
       "    </tr>\n",
       "    <tr>\n",
       "      <th>3</th>\n",
       "      <td>0</td>\n",
       "      <td>0</td>\n",
       "      <td>0</td>\n",
       "      <td>1</td>\n",
       "      <td>19184</td>\n",
       "      <td>0</td>\n",
       "      <td>1</td>\n",
       "    </tr>\n",
       "    <tr>\n",
       "      <th>4</th>\n",
       "      <td>0</td>\n",
       "      <td>0</td>\n",
       "      <td>0</td>\n",
       "      <td>0</td>\n",
       "      <td>139936</td>\n",
       "      <td>1</td>\n",
       "      <td>0</td>\n",
       "    </tr>\n",
       "    <tr>\n",
       "      <th>...</th>\n",
       "      <td>...</td>\n",
       "      <td>...</td>\n",
       "      <td>...</td>\n",
       "      <td>...</td>\n",
       "      <td>...</td>\n",
       "      <td>...</td>\n",
       "      <td>...</td>\n",
       "    </tr>\n",
       "    <tr>\n",
       "      <th>215995</th>\n",
       "      <td>1</td>\n",
       "      <td>0</td>\n",
       "      <td>0</td>\n",
       "      <td>0</td>\n",
       "      <td>25251</td>\n",
       "      <td>0</td>\n",
       "      <td>1</td>\n",
       "    </tr>\n",
       "    <tr>\n",
       "      <th>215996</th>\n",
       "      <td>1</td>\n",
       "      <td>0</td>\n",
       "      <td>0</td>\n",
       "      <td>0</td>\n",
       "      <td>19184</td>\n",
       "      <td>0</td>\n",
       "      <td>1</td>\n",
       "    </tr>\n",
       "    <tr>\n",
       "      <th>215997</th>\n",
       "      <td>1</td>\n",
       "      <td>0</td>\n",
       "      <td>0</td>\n",
       "      <td>0</td>\n",
       "      <td>56879</td>\n",
       "      <td>0</td>\n",
       "      <td>0</td>\n",
       "    </tr>\n",
       "    <tr>\n",
       "      <th>215998</th>\n",
       "      <td>1</td>\n",
       "      <td>0</td>\n",
       "      <td>0</td>\n",
       "      <td>0</td>\n",
       "      <td>56879</td>\n",
       "      <td>0</td>\n",
       "      <td>0</td>\n",
       "    </tr>\n",
       "    <tr>\n",
       "      <th>215999</th>\n",
       "      <td>1</td>\n",
       "      <td>0</td>\n",
       "      <td>0</td>\n",
       "      <td>1</td>\n",
       "      <td>46901</td>\n",
       "      <td>0</td>\n",
       "      <td>1</td>\n",
       "    </tr>\n",
       "  </tbody>\n",
       "</table>\n",
       "<p>216000 rows × 7 columns</p>\n",
       "</div>"
      ],
      "text/plain": [
       "        Plat  meteo  Event  Heberg  Rev_par  Bourse  presence\n",
       "0          0      0      0       0    56879       0         1\n",
       "1          0      0      0       1    19184       0         1\n",
       "2          0      0      0       1    56879       0         1\n",
       "3          0      0      0       1    19184       0         1\n",
       "4          0      0      0       0   139936       1         0\n",
       "...      ...    ...    ...     ...      ...     ...       ...\n",
       "215995     1      0      0       0    25251       0         1\n",
       "215996     1      0      0       0    19184       0         1\n",
       "215997     1      0      0       0    56879       0         0\n",
       "215998     1      0      0       0    56879       0         0\n",
       "215999     1      0      0       1    46901       0         1\n",
       "\n",
       "[216000 rows x 7 columns]"
      ]
     },
     "execution_count": 380,
     "metadata": {},
     "output_type": "execute_result"
    }
   ],
   "source": [
    "classf"
   ]
  },
  {
   "cell_type": "code",
   "execution_count": 381,
   "id": "ac991744",
   "metadata": {},
   "outputs": [],
   "source": [
    "Ytrain = trainC[\"presence\"]"
   ]
  },
  {
   "cell_type": "code",
   "execution_count": 382,
   "id": "efa627f8",
   "metadata": {},
   "outputs": [],
   "source": [
    "Xtrain = trainC.drop([\"presence\"], axis=1)"
   ]
  },
  {
   "cell_type": "code",
   "execution_count": 383,
   "id": "eb9093a6",
   "metadata": {},
   "outputs": [],
   "source": [
    "Ytest = testC[\"presence\"]\n",
    "Xtest = testC.drop([\"presence\"], axis=1)"
   ]
  },
  {
   "cell_type": "code",
   "execution_count": 384,
   "id": "c1731f8c",
   "metadata": {},
   "outputs": [
    {
     "data": {
      "text/html": [
       "<div>\n",
       "<style scoped>\n",
       "    .dataframe tbody tr th:only-of-type {\n",
       "        vertical-align: middle;\n",
       "    }\n",
       "\n",
       "    .dataframe tbody tr th {\n",
       "        vertical-align: top;\n",
       "    }\n",
       "\n",
       "    .dataframe thead th {\n",
       "        text-align: right;\n",
       "    }\n",
       "</style>\n",
       "<table border=\"1\" class=\"dataframe\">\n",
       "  <thead>\n",
       "    <tr style=\"text-align: right;\">\n",
       "      <th></th>\n",
       "      <th>Plat</th>\n",
       "      <th>meteo</th>\n",
       "      <th>Event</th>\n",
       "      <th>Heberg</th>\n",
       "      <th>Rev_par</th>\n",
       "      <th>Bourse</th>\n",
       "    </tr>\n",
       "  </thead>\n",
       "  <tbody>\n",
       "    <tr>\n",
       "      <th>144001</th>\n",
       "      <td>5</td>\n",
       "      <td>0</td>\n",
       "      <td>0</td>\n",
       "      <td>1</td>\n",
       "      <td>19184</td>\n",
       "      <td>0</td>\n",
       "    </tr>\n",
       "    <tr>\n",
       "      <th>144002</th>\n",
       "      <td>5</td>\n",
       "      <td>0</td>\n",
       "      <td>0</td>\n",
       "      <td>1</td>\n",
       "      <td>56879</td>\n",
       "      <td>0</td>\n",
       "    </tr>\n",
       "    <tr>\n",
       "      <th>144003</th>\n",
       "      <td>5</td>\n",
       "      <td>0</td>\n",
       "      <td>0</td>\n",
       "      <td>1</td>\n",
       "      <td>19184</td>\n",
       "      <td>0</td>\n",
       "    </tr>\n",
       "    <tr>\n",
       "      <th>144004</th>\n",
       "      <td>5</td>\n",
       "      <td>0</td>\n",
       "      <td>0</td>\n",
       "      <td>0</td>\n",
       "      <td>139936</td>\n",
       "      <td>1</td>\n",
       "    </tr>\n",
       "    <tr>\n",
       "      <th>144005</th>\n",
       "      <td>5</td>\n",
       "      <td>0</td>\n",
       "      <td>0</td>\n",
       "      <td>1</td>\n",
       "      <td>25251</td>\n",
       "      <td>0</td>\n",
       "    </tr>\n",
       "    <tr>\n",
       "      <th>...</th>\n",
       "      <td>...</td>\n",
       "      <td>...</td>\n",
       "      <td>...</td>\n",
       "      <td>...</td>\n",
       "      <td>...</td>\n",
       "      <td>...</td>\n",
       "    </tr>\n",
       "    <tr>\n",
       "      <th>215995</th>\n",
       "      <td>1</td>\n",
       "      <td>0</td>\n",
       "      <td>0</td>\n",
       "      <td>0</td>\n",
       "      <td>25251</td>\n",
       "      <td>0</td>\n",
       "    </tr>\n",
       "    <tr>\n",
       "      <th>215996</th>\n",
       "      <td>1</td>\n",
       "      <td>0</td>\n",
       "      <td>0</td>\n",
       "      <td>0</td>\n",
       "      <td>19184</td>\n",
       "      <td>0</td>\n",
       "    </tr>\n",
       "    <tr>\n",
       "      <th>215997</th>\n",
       "      <td>1</td>\n",
       "      <td>0</td>\n",
       "      <td>0</td>\n",
       "      <td>0</td>\n",
       "      <td>56879</td>\n",
       "      <td>0</td>\n",
       "    </tr>\n",
       "    <tr>\n",
       "      <th>215998</th>\n",
       "      <td>1</td>\n",
       "      <td>0</td>\n",
       "      <td>0</td>\n",
       "      <td>0</td>\n",
       "      <td>56879</td>\n",
       "      <td>0</td>\n",
       "    </tr>\n",
       "    <tr>\n",
       "      <th>215999</th>\n",
       "      <td>1</td>\n",
       "      <td>0</td>\n",
       "      <td>0</td>\n",
       "      <td>1</td>\n",
       "      <td>46901</td>\n",
       "      <td>0</td>\n",
       "    </tr>\n",
       "  </tbody>\n",
       "</table>\n",
       "<p>71999 rows × 6 columns</p>\n",
       "</div>"
      ],
      "text/plain": [
       "        Plat  meteo  Event  Heberg  Rev_par  Bourse\n",
       "144001     5      0      0       1    19184       0\n",
       "144002     5      0      0       1    56879       0\n",
       "144003     5      0      0       1    19184       0\n",
       "144004     5      0      0       0   139936       1\n",
       "144005     5      0      0       1    25251       0\n",
       "...      ...    ...    ...     ...      ...     ...\n",
       "215995     1      0      0       0    25251       0\n",
       "215996     1      0      0       0    19184       0\n",
       "215997     1      0      0       0    56879       0\n",
       "215998     1      0      0       0    56879       0\n",
       "215999     1      0      0       1    46901       0\n",
       "\n",
       "[71999 rows x 6 columns]"
      ]
     },
     "execution_count": 384,
     "metadata": {},
     "output_type": "execute_result"
    }
   ],
   "source": [
    "Xtest"
   ]
  },
  {
   "cell_type": "code",
   "execution_count": 385,
   "id": "84a832ae",
   "metadata": {},
   "outputs": [
    {
     "data": {
      "image/png": "[encoded data removed]",
      "text/plain": [
       "<Figure size 720x576 with 2 Axes>"
      ]
     },
     "metadata": {
      "needs_background": "light"
     },
     "output_type": "display_data"
    }
   ],
   "source": [
    "fig, axes = plt.subplots(figsize= (10,8))\n",
    "sns.heatmap(trainC.corr(), annot=True, cmap='magma')\n",
    "plt.xticks(rotation=30, ha='right')\n",
    "plt.title(\"Matrice de corrélation\")\n",
    "plt.show()"
   ]
  },
  {
   "cell_type": "code",
   "execution_count": 386,
   "id": "a9b1eabe",
   "metadata": {},
   "outputs": [
    {
     "data": {
      "text/plain": [
       "1    8671\n",
       "0    5729\n",
       "Name: presence, dtype: int64"
      ]
     },
     "execution_count": 386,
     "metadata": {},
     "output_type": "execute_result"
    }
   ],
   "source": [
    "trainC[\"presence\"].value_counts()"
   ]
  },
  {
   "cell_type": "code",
   "execution_count": 63,
   "id": "467763a3",
   "metadata": {},
   "outputs": [
    {
     "name": "stdout",
     "output_type": "stream",
     "text": [
      "<class 'pandas.core.frame.DataFrame'>\n",
      "RangeIndex: 144000 entries, 0 to 143999\n",
      "Data columns (total 7 columns):\n",
      " #   Column    Non-Null Count   Dtype\n",
      "---  ------    --------------   -----\n",
      " 0   Plat      144000 non-null  int64\n",
      " 1   meteo     144000 non-null  int64\n",
      " 2   Event     144000 non-null  int64\n",
      " 3   Heberg    144000 non-null  int64\n",
      " 4   Rev_par   144000 non-null  int64\n",
      " 5   Bourse    144000 non-null  int64\n",
      " 6   presence  144000 non-null  int64\n",
      "dtypes: int64(7)\n",
      "memory usage: 7.7 MB\n"
     ]
    }
   ],
   "source": [
    "trainC.info()"
   ]
  },
  {
   "cell_type": "code",
   "execution_count": 387,
   "id": "1054c0c0",
   "metadata": {},
   "outputs": [],
   "source": [
    "modele_rf = RandomForestClassifier(\n",
    "     n_estimators=100,\n",
    "     criterion='gini',\n",
    "     max_depth=None,\n",
    "     min_samples_split=2,\n",
    "     min_samples_leaf=1,\n",
    "     min_weight_fraction_leaf=0.0,\n",
    "     max_features='auto',\n",
    "     max_leaf_nodes=None,\n",
    "     min_impurity_decrease=0.0,\n",
    "     bootstrap=True,\n",
    "     oob_score=False,\n",
    "     n_jobs=None,\n",
    "     random_state=None,\n",
    "     verbose=0,\n",
    "     warm_start=False,\n",
    "     class_weight=None,\n",
    "     ccp_alpha=0.0,\n",
    "     max_samples=None,)"
   ]
  },
  {
   "cell_type": "code",
   "execution_count": 388,
   "id": "48de178b",
   "metadata": {},
   "outputs": [
    {
     "data": {
      "text/plain": [
       "RandomForestClassifier()"
      ]
     },
     "execution_count": 388,
     "metadata": {},
     "output_type": "execute_result"
    }
   ],
   "source": [
    "modele_rf.fit(Xtrain, Ytrain)"
   ]
  },
  {
   "cell_type": "code",
   "execution_count": 389,
   "id": "cd09da46",
   "metadata": {},
   "outputs": [
    {
     "data": {
      "text/html": [
       "<div>\n",
       "<style scoped>\n",
       "    .dataframe tbody tr th:only-of-type {\n",
       "        vertical-align: middle;\n",
       "    }\n",
       "\n",
       "    .dataframe tbody tr th {\n",
       "        vertical-align: top;\n",
       "    }\n",
       "\n",
       "    .dataframe thead th {\n",
       "        text-align: right;\n",
       "    }\n",
       "</style>\n",
       "<table border=\"1\" class=\"dataframe\">\n",
       "  <thead>\n",
       "    <tr style=\"text-align: right;\">\n",
       "      <th></th>\n",
       "      <th>importance</th>\n",
       "    </tr>\n",
       "  </thead>\n",
       "  <tbody>\n",
       "    <tr>\n",
       "      <th>Rev_par</th>\n",
       "      <td>0.304968</td>\n",
       "    </tr>\n",
       "    <tr>\n",
       "      <th>Plat</th>\n",
       "      <td>0.271103</td>\n",
       "    </tr>\n",
       "    <tr>\n",
       "      <th>Event</th>\n",
       "      <td>0.209764</td>\n",
       "    </tr>\n",
       "    <tr>\n",
       "      <th>Heberg</th>\n",
       "      <td>0.117194</td>\n",
       "    </tr>\n",
       "    <tr>\n",
       "      <th>Bourse</th>\n",
       "      <td>0.054344</td>\n",
       "    </tr>\n",
       "    <tr>\n",
       "      <th>meteo</th>\n",
       "      <td>0.042627</td>\n",
       "    </tr>\n",
       "  </tbody>\n",
       "</table>\n",
       "</div>"
      ],
      "text/plain": [
       "         importance\n",
       "Rev_par    0.304968\n",
       "Plat       0.271103\n",
       "Event      0.209764\n",
       "Heberg     0.117194\n",
       "Bourse     0.054344\n",
       "meteo      0.042627"
      ]
     },
     "execution_count": 389,
     "metadata": {},
     "output_type": "execute_result"
    }
   ],
   "source": [
    "pd.DataFrame(modele_rf.feature_importances_,\n",
    "              index = Xtrain.columns, \n",
    "              columns = [\"importance\"]).sort_values(\n",
    "     \"importance\", \n",
    "     ascending = False)"
   ]
  },
  {
   "cell_type": "code",
   "execution_count": 390,
   "id": "3472602d",
   "metadata": {},
   "outputs": [
    {
     "name": "stdout",
     "output_type": "stream",
     "text": [
      "Le pourcentage de bien classés est de : 97.44579785830358 %\n"
     ]
    }
   ],
   "source": [
    "from sklearn.metrics import accuracy_score, confusion_matrix\n",
    "print(f\"Le pourcentage de bien classés est de : {accuracy_score(Ytest, modele_rf.predict(Xtest))*100} %\")"
   ]
  },
  {
   "cell_type": "code",
   "execution_count": 391,
   "id": "5307e36d",
   "metadata": {},
   "outputs": [
    {
     "data": {
      "text/html": [
       "<div>\n",
       "<style scoped>\n",
       "    .dataframe tbody tr th:only-of-type {\n",
       "        vertical-align: middle;\n",
       "    }\n",
       "\n",
       "    .dataframe tbody tr th {\n",
       "        vertical-align: top;\n",
       "    }\n",
       "\n",
       "    .dataframe thead th {\n",
       "        text-align: right;\n",
       "    }\n",
       "</style>\n",
       "<table border=\"1\" class=\"dataframe\">\n",
       "  <thead>\n",
       "    <tr style=\"text-align: right;\">\n",
       "      <th></th>\n",
       "      <th>blanc_predit</th>\n",
       "      <th>rouge_predit</th>\n",
       "    </tr>\n",
       "  </thead>\n",
       "  <tbody>\n",
       "    <tr>\n",
       "      <th>blanc_données</th>\n",
       "      <td>32438</td>\n",
       "      <td>10</td>\n",
       "    </tr>\n",
       "    <tr>\n",
       "      <th>rouge_données</th>\n",
       "      <td>1829</td>\n",
       "      <td>37722</td>\n",
       "    </tr>\n",
       "  </tbody>\n",
       "</table>\n",
       "</div>"
      ],
      "text/plain": [
       "               blanc_predit  rouge_predit\n",
       "blanc_données         32438            10\n",
       "rouge_données          1829         37722"
      ]
     },
     "execution_count": 391,
     "metadata": {},
     "output_type": "execute_result"
    }
   ],
   "source": [
    "pd.DataFrame(confusion_matrix(Ytest, modele_rf.predict(Xtest)),\n",
    "             index = [\"blanc_données\", \"rouge_données\"],\n",
    "             columns = [\"blanc_predit\", \"rouge_predit\"])"
   ]
  },
  {
   "cell_type": "code",
   "execution_count": 396,
   "id": "24a7a75e",
   "metadata": {},
   "outputs": [],
   "source": [
    "prevision = {\n",
    "  \"Date\": ListDate[144001:],\n",
    "  \"Test\": Ytest,\n",
    "  \"Prevision\": modele_rf.predict(Xtest),\n",
    "}\n",
    "Prev = pd.DataFrame(prevision)"
   ]
  },
  {
   "cell_type": "code",
   "execution_count": 397,
   "id": "de7c99f4",
   "metadata": {},
   "outputs": [
    {
     "data": {
      "text/html": [
       "<div>\n",
       "<style scoped>\n",
       "    .dataframe tbody tr th:only-of-type {\n",
       "        vertical-align: middle;\n",
       "    }\n",
       "\n",
       "    .dataframe tbody tr th {\n",
       "        vertical-align: top;\n",
       "    }\n",
       "\n",
       "    .dataframe thead th {\n",
       "        text-align: right;\n",
       "    }\n",
       "</style>\n",
       "<table border=\"1\" class=\"dataframe\">\n",
       "  <thead>\n",
       "    <tr style=\"text-align: right;\">\n",
       "      <th></th>\n",
       "      <th>Date</th>\n",
       "      <th>Test</th>\n",
       "      <th>Prevision</th>\n",
       "    </tr>\n",
       "  </thead>\n",
       "  <tbody>\n",
       "    <tr>\n",
       "      <th>144001</th>\n",
       "      <td>21-08-2021</td>\n",
       "      <td>1</td>\n",
       "      <td>1</td>\n",
       "    </tr>\n",
       "    <tr>\n",
       "      <th>144002</th>\n",
       "      <td>21-08-2021</td>\n",
       "      <td>0</td>\n",
       "      <td>0</td>\n",
       "    </tr>\n",
       "    <tr>\n",
       "      <th>144003</th>\n",
       "      <td>21-08-2021</td>\n",
       "      <td>1</td>\n",
       "      <td>1</td>\n",
       "    </tr>\n",
       "    <tr>\n",
       "      <th>144004</th>\n",
       "      <td>21-08-2021</td>\n",
       "      <td>0</td>\n",
       "      <td>0</td>\n",
       "    </tr>\n",
       "    <tr>\n",
       "      <th>144005</th>\n",
       "      <td>21-08-2021</td>\n",
       "      <td>1</td>\n",
       "      <td>1</td>\n",
       "    </tr>\n",
       "    <tr>\n",
       "      <th>...</th>\n",
       "      <td>...</td>\n",
       "      <td>...</td>\n",
       "      <td>...</td>\n",
       "    </tr>\n",
       "    <tr>\n",
       "      <th>215995</th>\n",
       "      <td>15-08-2022</td>\n",
       "      <td>1</td>\n",
       "      <td>1</td>\n",
       "    </tr>\n",
       "    <tr>\n",
       "      <th>215996</th>\n",
       "      <td>15-08-2022</td>\n",
       "      <td>1</td>\n",
       "      <td>1</td>\n",
       "    </tr>\n",
       "    <tr>\n",
       "      <th>215997</th>\n",
       "      <td>15-08-2022</td>\n",
       "      <td>0</td>\n",
       "      <td>0</td>\n",
       "    </tr>\n",
       "    <tr>\n",
       "      <th>215998</th>\n",
       "      <td>15-08-2022</td>\n",
       "      <td>0</td>\n",
       "      <td>0</td>\n",
       "    </tr>\n",
       "    <tr>\n",
       "      <th>215999</th>\n",
       "      <td>15-08-2022</td>\n",
       "      <td>1</td>\n",
       "      <td>1</td>\n",
       "    </tr>\n",
       "  </tbody>\n",
       "</table>\n",
       "<p>71999 rows × 3 columns</p>\n",
       "</div>"
      ],
      "text/plain": [
       "              Date  Test  Prevision\n",
       "144001  21-08-2021     1          1\n",
       "144002  21-08-2021     0          0\n",
       "144003  21-08-2021     1          1\n",
       "144004  21-08-2021     0          0\n",
       "144005  21-08-2021     1          1\n",
       "...            ...   ...        ...\n",
       "215995  15-08-2022     1          1\n",
       "215996  15-08-2022     1          1\n",
       "215997  15-08-2022     0          0\n",
       "215998  15-08-2022     0          0\n",
       "215999  15-08-2022     1          1\n",
       "\n",
       "[71999 rows x 3 columns]"
      ]
     },
     "execution_count": 397,
     "metadata": {},
     "output_type": "execute_result"
    }
   ],
   "source": [
    "Prev"
   ]
  },
  {
   "cell_type": "code",
   "execution_count": 398,
   "id": "654e7399",
   "metadata": {},
   "outputs": [],
   "source": [
    "gb = Prev.groupby('Date').sum()"
   ]
  },
  {
   "cell_type": "code",
   "execution_count": 399,
   "id": "82f0d274",
   "metadata": {},
   "outputs": [
    {
     "data": {
      "text/html": [
       "<div>\n",
       "<style scoped>\n",
       "    .dataframe tbody tr th:only-of-type {\n",
       "        vertical-align: middle;\n",
       "    }\n",
       "\n",
       "    .dataframe tbody tr th {\n",
       "        vertical-align: top;\n",
       "    }\n",
       "\n",
       "    .dataframe thead th {\n",
       "        text-align: right;\n",
       "    }\n",
       "</style>\n",
       "<table border=\"1\" class=\"dataframe\">\n",
       "  <thead>\n",
       "    <tr style=\"text-align: right;\">\n",
       "      <th></th>\n",
       "      <th>Test</th>\n",
       "      <th>Prevision</th>\n",
       "    </tr>\n",
       "    <tr>\n",
       "      <th>Date</th>\n",
       "      <th></th>\n",
       "      <th></th>\n",
       "    </tr>\n",
       "  </thead>\n",
       "  <tbody>\n",
       "    <tr>\n",
       "      <th>01-01-2022</th>\n",
       "      <td>7</td>\n",
       "      <td>0</td>\n",
       "    </tr>\n",
       "    <tr>\n",
       "      <th>01-02-2022</th>\n",
       "      <td>156</td>\n",
       "      <td>153</td>\n",
       "    </tr>\n",
       "    <tr>\n",
       "      <th>01-03-2022</th>\n",
       "      <td>156</td>\n",
       "      <td>153</td>\n",
       "    </tr>\n",
       "    <tr>\n",
       "      <th>01-04-2022</th>\n",
       "      <td>7</td>\n",
       "      <td>0</td>\n",
       "    </tr>\n",
       "    <tr>\n",
       "      <th>01-05-2022</th>\n",
       "      <td>7</td>\n",
       "      <td>0</td>\n",
       "    </tr>\n",
       "    <tr>\n",
       "      <th>...</th>\n",
       "      <td>...</td>\n",
       "      <td>...</td>\n",
       "    </tr>\n",
       "    <tr>\n",
       "      <th>31-05-2022</th>\n",
       "      <td>108</td>\n",
       "      <td>105</td>\n",
       "    </tr>\n",
       "    <tr>\n",
       "      <th>31-07-2022</th>\n",
       "      <td>156</td>\n",
       "      <td>153</td>\n",
       "    </tr>\n",
       "    <tr>\n",
       "      <th>31-08-2021</th>\n",
       "      <td>108</td>\n",
       "      <td>105</td>\n",
       "    </tr>\n",
       "    <tr>\n",
       "      <th>31-10-2021</th>\n",
       "      <td>156</td>\n",
       "      <td>153</td>\n",
       "    </tr>\n",
       "    <tr>\n",
       "      <th>31-12-2021</th>\n",
       "      <td>7</td>\n",
       "      <td>0</td>\n",
       "    </tr>\n",
       "  </tbody>\n",
       "</table>\n",
       "<p>360 rows × 2 columns</p>\n",
       "</div>"
      ],
      "text/plain": [
       "            Test  Prevision\n",
       "Date                       \n",
       "01-01-2022     7          0\n",
       "01-02-2022   156        153\n",
       "01-03-2022   156        153\n",
       "01-04-2022     7          0\n",
       "01-05-2022     7          0\n",
       "...          ...        ...\n",
       "31-05-2022   108        105\n",
       "31-07-2022   156        153\n",
       "31-08-2021   108        105\n",
       "31-10-2021   156        153\n",
       "31-12-2021     7          0\n",
       "\n",
       "[360 rows x 2 columns]"
      ]
     },
     "execution_count": 399,
     "metadata": {},
     "output_type": "execute_result"
    }
   ],
   "source": [
    "gb"
   ]
  },
  {
   "cell_type": "code",
   "execution_count": 400,
   "id": "93d16234",
   "metadata": {},
   "outputs": [
    {
     "data": {
      "text/plain": [
       "<AxesSubplot:xlabel='Date'>"
      ]
     },
     "execution_count": 400,
     "metadata": {},
     "output_type": "execute_result"
    },
    {
     "data": {
      "image/png": "[encoded data removed]",
      "text/plain": [
       "<Figure size 432x288 with 1 Axes>"
      ]
     },
     "metadata": {
      "needs_background": "light"
     },
     "output_type": "display_data"
    }
   ],
   "source": [
    "gb.plot()"
   ]
  },
  {
   "cell_type": "code",
   "execution_count": 142,
   "id": "b109901a",
   "metadata": {},
   "outputs": [],
   "source": [
    " from sklearn.linear_model import LogisticRegression"
   ]
  },
  {
   "cell_type": "code",
   "execution_count": 76,
   "id": "65095868",
   "metadata": {},
   "outputs": [],
   "source": [
    "trainCY = trainC[\"presence\"]"
   ]
  },
  {
   "cell_type": "code",
   "execution_count": 75,
   "id": "de51e631",
   "metadata": {},
   "outputs": [],
   "source": [
    "trainCX = trainC.drop([\"presence\"], axis =1)"
   ]
  },
  {
   "cell_type": "code",
   "execution_count": 24,
   "id": "0e7b3af6",
   "metadata": {},
   "outputs": [],
   "source": [
    "testCY = testC[\"presence\"]\n",
    "testCX = testC.drop([\"presence\",\"meteo\",\"Heberg\", \"Bourse\"], axis =1)"
   ]
  },
  {
   "cell_type": "code",
   "execution_count": 143,
   "id": "453b3160",
   "metadata": {},
   "outputs": [
    {
     "data": {
      "text/plain": [
       "LogisticRegression()"
      ]
     },
     "execution_count": 143,
     "metadata": {},
     "output_type": "execute_result"
    }
   ],
   "source": [
    "model = LogisticRegression()\n",
    "model.fit(Xtrain,Ytrain)"
   ]
  },
  {
   "cell_type": "code",
   "execution_count": 145,
   "id": "43ef7715",
   "metadata": {},
   "outputs": [
    {
     "name": "stdout",
     "output_type": "stream",
     "text": [
      "Score du modele = 0.9017383969339666\n"
     ]
    }
   ],
   "source": [
    "print('Score du modele =', model.score(Xtrain,Ytrain))"
   ]
  },
  {
   "cell_type": "code",
   "execution_count": 149,
   "id": "32495cda",
   "metadata": {},
   "outputs": [
    {
     "name": "stdout",
     "output_type": "stream",
     "text": [
      "[[ 1121  2338]\n",
      " [ 3058 48016]]\n"
     ]
    },
    {
     "data": {
      "text/plain": [
       "<AxesSubplot:>"
      ]
     },
     "execution_count": 149,
     "metadata": {},
     "output_type": "execute_result"
    },
    {
     "data": {
      "image/png": "[encoded data removed]",
      "text/plain": [
       "<Figure size 432x288 with 2 Axes>"
      ]
     },
     "metadata": {
      "needs_background": "light"
     },
     "output_type": "display_data"
    }
   ],
   "source": [
    "cm = confusion_matrix(model.predict(Xtest),Ytest)\n",
    "print(cm)\n",
    "sns.heatmap(cm, annot=True)"
   ]
  },
  {
   "cell_type": "code",
   "execution_count": 150,
   "id": "add2a775",
   "metadata": {},
   "outputs": [],
   "source": [
    "from sklearn.neighbors import KNeighborsClassifier"
   ]
  },
  {
   "cell_type": "code",
   "execution_count": 151,
   "id": "11dfe1ce",
   "metadata": {},
   "outputs": [],
   "source": [
    "modelKnn = KNeighborsClassifier()"
   ]
  },
  {
   "cell_type": "code",
   "execution_count": 152,
   "id": "e25de5dc",
   "metadata": {},
   "outputs": [
    {
     "data": {
      "text/plain": [
       "KNeighborsClassifier()"
      ]
     },
     "execution_count": 152,
     "metadata": {},
     "output_type": "execute_result"
    }
   ],
   "source": [
    "modelKnn.fit(Xtrain,Ytrain)"
   ]
  },
  {
   "cell_type": "code",
   "execution_count": 154,
   "id": "ab867c3d",
   "metadata": {},
   "outputs": [
    {
     "name": "stdout",
     "output_type": "stream",
     "text": [
      "Score du modele = 1.0\n"
     ]
    }
   ],
   "source": [
    "print('Score du modele =', modelKnn.score(Xtrain,Ytrain))"
   ]
  },
  {
   "cell_type": "code",
   "execution_count": 156,
   "id": "ae7e493e",
   "metadata": {},
   "outputs": [
    {
     "name": "stdout",
     "output_type": "stream",
     "text": [
      "[[ 4179     0]\n",
      " [    0 50354]]\n"
     ]
    },
    {
     "data": {
      "text/plain": [
       "<AxesSubplot:>"
      ]
     },
     "execution_count": 156,
     "metadata": {},
     "output_type": "execute_result"
    },
    {
     "data": {
      "image/png": "[encoded data removed]",
      "text/plain": [
       "<Figure size 432x288 with 2 Axes>"
      ]
     },
     "metadata": {
      "needs_background": "light"
     },
     "output_type": "display_data"
    }
   ],
   "source": [
    "cm = confusion_matrix(modelKnn.predict(Xtest),Ytest)\n",
    "print(cm)\n",
    "sns.heatmap(cm, annot=True)"
   ]
  },
  {
   "cell_type": "code",
   "execution_count": 29,
   "id": "963ef402",
   "metadata": {},
   "outputs": [],
   "source": [
    "from tensorflow.keras.models import Sequential\n",
    "from tensorflow.keras.layers import Dense\n",
    "from tensorflow.keras.layers import InputLayer\n",
    "import tensorflow as tf"
   ]
  },
  {
   "cell_type": "code",
   "execution_count": 30,
   "id": "0d868f22",
   "metadata": {},
   "outputs": [],
   "source": [
    "from keras.models import Sequential\n",
    "ANN_model = Sequential()"
   ]
  },
  {
   "cell_type": "code",
   "execution_count": 31,
   "id": "80f48d0a",
   "metadata": {},
   "outputs": [],
   "source": [
    "ANN_model.add(InputLayer(input_shape=(6, )))\n",
    "# No hidden layers\n",
    "ANN_model.add(Dense(1, activation='sigmoid'))"
   ]
  },
  {
   "cell_type": "code",
   "execution_count": 32,
   "id": "c6dc77f6",
   "metadata": {},
   "outputs": [
    {
     "ename": "ValueError",
     "evalue": "This model has not yet been built. Build the model first by calling `build()` or calling `fit()` with some data, or specify an `input_shape` argument in the first layer(s) for automatic build.",
     "output_type": "error",
     "traceback": [
      "\u001b[1;31m---------------------------------------------------------------------------\u001b[0m",
      "\u001b[1;31mValueError\u001b[0m                                Traceback (most recent call last)",
      "\u001b[1;32m<ipython-input-32-d6820d445a26>\u001b[0m in \u001b[0;36m<module>\u001b[1;34m\u001b[0m\n\u001b[1;32m----> 1\u001b[1;33m \u001b[0mANN_model\u001b[0m\u001b[1;33m.\u001b[0m\u001b[0msummary\u001b[0m\u001b[1;33m(\u001b[0m\u001b[1;33m)\u001b[0m\u001b[1;33m\u001b[0m\u001b[1;33m\u001b[0m\u001b[0m\n\u001b[0m",
      "\u001b[1;32m~\\anaconda3\\lib\\site-packages\\keras\\engine\\training.py\u001b[0m in \u001b[0;36msummary\u001b[1;34m(self, line_length, positions, print_fn)\u001b[0m\n\u001b[0;32m   2450\u001b[0m     \"\"\"\n\u001b[0;32m   2451\u001b[0m     \u001b[1;32mif\u001b[0m \u001b[1;32mnot\u001b[0m \u001b[0mself\u001b[0m\u001b[1;33m.\u001b[0m\u001b[0mbuilt\u001b[0m\u001b[1;33m:\u001b[0m\u001b[1;33m\u001b[0m\u001b[1;33m\u001b[0m\u001b[0m\n\u001b[1;32m-> 2452\u001b[1;33m       raise ValueError('This model has not yet been built. '\n\u001b[0m\u001b[0;32m   2453\u001b[0m                        \u001b[1;34m'Build the model first by calling `build()` or calling '\u001b[0m\u001b[1;33m\u001b[0m\u001b[1;33m\u001b[0m\u001b[0m\n\u001b[0;32m   2454\u001b[0m                        \u001b[1;34m'`fit()` with some data, or specify '\u001b[0m\u001b[1;33m\u001b[0m\u001b[1;33m\u001b[0m\u001b[0m\n",
      "\u001b[1;31mValueError\u001b[0m: This model has not yet been built. Build the model first by calling `build()` or calling `fit()` with some data, or specify an `input_shape` argument in the first layer(s) for automatic build."
     ]
    }
   ],
   "source": [
    "ANN_model.summary()"
   ]
  },
  {
   "cell_type": "code",
   "execution_count": 33,
   "id": "5bfa0e79",
   "metadata": {},
   "outputs": [],
   "source": [
    "ANN_model.compile(optimizer='adam',loss='binary_crossentropy',metrics=['accuracy'])"
   ]
  },
  {
   "cell_type": "code",
   "execution_count": 34,
   "id": "d2eab0d0",
   "metadata": {},
   "outputs": [
    {
     "name": "stdout",
     "output_type": "stream",
     "text": [
      "Epoch 1/10\n",
      "3600/3600 [==============================] - 32s 1ms/step - loss: 0.8422 - accuracy: 0.4656 - val_loss: 0.5141 - val_accuracy: 0.7715\n",
      "Epoch 2/10\n",
      "3600/3600 [==============================] - 4s 1ms/step - loss: 0.5780 - accuracy: 0.7186 - val_loss: 0.4347 - val_accuracy: 0.7662\n",
      "Epoch 3/10\n",
      "3600/3600 [==============================] - 5s 1ms/step - loss: 0.5360 - accuracy: 0.7194 - val_loss: 0.4164 - val_accuracy: 0.7660\n",
      "Epoch 4/10\n",
      "3600/3600 [==============================] - 5s 1ms/step - loss: 0.5200 - accuracy: 0.7206 - val_loss: 0.4101 - val_accuracy: 0.7680\n",
      "Epoch 5/10\n",
      "3600/3600 [==============================] - 4s 1ms/step - loss: 0.5138 - accuracy: 0.7209 - val_loss: 0.4077 - val_accuracy: 0.7680\n",
      "Epoch 6/10\n",
      "3600/3600 [==============================] - 4s 1ms/step - loss: 0.5114 - accuracy: 0.7211 - val_loss: 0.4068 - val_accuracy: 0.7680\n",
      "Epoch 7/10\n",
      "3600/3600 [==============================] - 4s 1ms/step - loss: 0.5105 - accuracy: 0.7209 - val_loss: 0.4065 - val_accuracy: 0.7680\n",
      "Epoch 8/10\n",
      "3600/3600 [==============================] - 4s 1ms/step - loss: 0.5102 - accuracy: 0.7210 - val_loss: 0.4063 - val_accuracy: 0.7680\n",
      "Epoch 9/10\n",
      "3600/3600 [==============================] - 4s 1ms/step - loss: 0.5100 - accuracy: 0.7209 - val_loss: 0.4063 - val_accuracy: 0.7680\n",
      "Epoch 10/10\n",
      "3600/3600 [==============================] - 5s 1ms/step - loss: 0.5099 - accuracy: 0.7209 - val_loss: 0.4063 - val_accuracy: 0.7680\n"
     ]
    }
   ],
   "source": [
    "history = ANN_model.fit(trainCX,trainCY, \n",
    "                        epochs=10, batch_size=32,\n",
    "                        validation_split=0.2, \n",
    "                        shuffle=False)"
   ]
  },
  {
   "cell_type": "code",
   "execution_count": 35,
   "id": "828640dd",
   "metadata": {},
   "outputs": [
    {
     "data": {
      "text/plain": [
       "<matplotlib.legend.Legend at 0x2559185b0a0>"
      ]
     },
     "execution_count": 35,
     "metadata": {},
     "output_type": "execute_result"
    },
    {
     "data": {
      "image/png": "[encoded data removed]",
      "text/plain": [
       "<Figure size 432x288 with 1 Axes>"
      ]
     },
     "metadata": {
      "needs_background": "light"
     },
     "output_type": "display_data"
    }
   ],
   "source": [
    "# Plot training and validation accuracy scores\n",
    "# against the number of epochs.\n",
    "plt.plot(history.history['accuracy'], label='Train')\n",
    "plt.plot(history.history['val_accuracy'], label='Validation')\n",
    "plt.ylabel('Accuracy')\n",
    "plt.xlabel('Epoch')\n",
    "plt.title('Model Accuracy')\n",
    "plt.legend(loc='upper left')"
   ]
  },
  {
   "cell_type": "code",
   "execution_count": 36,
   "id": "eeb7dddd",
   "metadata": {},
   "outputs": [
    {
     "data": {
      "text/plain": [
       "<matplotlib.legend.Legend at 0x25592527b20>"
      ]
     },
     "execution_count": 36,
     "metadata": {},
     "output_type": "execute_result"
    },
    {
     "data": {
      "image/png": "[encoded data removed]",
      "text/plain": [
       "<Figure size 432x288 with 1 Axes>"
      ]
     },
     "metadata": {
      "needs_background": "light"
     },
     "output_type": "display_data"
    }
   ],
   "source": [
    "# Plot training and validation loss scores\n",
    "# against the number of epochs.\n",
    "plt.plot(history.history['loss'], label='Train')\n",
    "plt.plot(history.history['val_loss'], label='Validation')\n",
    "plt.ylabel('Loss')\n",
    "plt.xlabel('Epoch')\n",
    "plt.title('Model Loss')\n",
    "plt.legend(loc='upper right')"
   ]
  },
  {
   "cell_type": "code",
   "execution_count": 37,
   "id": "6416ae08",
   "metadata": {},
   "outputs": [
    {
     "name": "stdout",
     "output_type": "stream",
     "text": [
      "2250/2250 [==============================] - 2s 995us/step - loss: 0.4833 - accuracy: 0.7348\n",
      "Test loss: 0.48333001136779785\n",
      "Test accuracy: 0.7348194718360901\n"
     ]
    }
   ],
   "source": [
    "test_loss, test_acc = ANN_model.evaluate(testCX, testCY)\n",
    "print(\"Test loss:\", test_loss)\n",
    "print(\"Test accuracy:\", test_acc)"
   ]
  },
  {
   "cell_type": "code",
   "execution_count": 38,
   "id": "f36da23b",
   "metadata": {},
   "outputs": [
    {
     "name": "stderr",
     "output_type": "stream",
     "text": [
      "C:\\Users\\Laghoub\\anaconda3\\lib\\site-packages\\keras\\engine\\sequential.py:450: UserWarning: `model.predict_classes()` is deprecated and will be removed after 2021-01-01. Please use instead:* `np.argmax(model.predict(x), axis=-1)`,   if your model does multi-class classification   (e.g. if it uses a `softmax` last-layer activation).* `(model.predict(x) > 0.5).astype(\"int32\")`,   if your model does binary classification   (e.g. if it uses a `sigmoid` last-layer activation).\n",
      "  warnings.warn('`model.predict_classes()` is deprecated and '\n"
     ]
    },
    {
     "name": "stdout",
     "output_type": "stream",
     "text": [
      "[[37583  1777]\n",
      " [36529 68111]]\n"
     ]
    },
    {
     "data": {
      "text/plain": [
       "<AxesSubplot:>"
      ]
     },
     "execution_count": 38,
     "metadata": {},
     "output_type": "execute_result"
    },
    {
     "data": {
      "image/png": "[encoded data removed]",
      "text/plain": [
       "<Figure size 432x288 with 2 Axes>"
      ]
     },
     "metadata": {
      "needs_background": "light"
     },
     "output_type": "display_data"
    }
   ],
   "source": [
    "cm = confusion_matrix(ANN_model.predict_classes(trainCX),trainCY)\n",
    "print(cm)\n",
    "sns.heatmap(cm, annot=True)"
   ]
  },
  {
   "cell_type": "code",
   "execution_count": 39,
   "id": "bfe126f9",
   "metadata": {},
   "outputs": [
    {
     "name": "stderr",
     "output_type": "stream",
     "text": [
      "C:\\Users\\Laghoub\\anaconda3\\lib\\site-packages\\keras\\engine\\sequential.py:450: UserWarning: `model.predict_classes()` is deprecated and will be removed after 2021-01-01. Please use instead:* `np.argmax(model.predict(x), axis=-1)`,   if your model does multi-class classification   (e.g. if it uses a `softmax` last-layer activation).* `(model.predict(x) > 0.5).astype(\"int32\")`,   if your model does binary classification   (e.g. if it uses a `sigmoid` last-layer activation).\n",
      "  warnings.warn('`model.predict_classes()` is deprecated and '\n"
     ]
    }
   ],
   "source": [
    "result = ANN_model.predict_classes(testCX)"
   ]
  },
  {
   "cell_type": "code",
   "execution_count": 40,
   "id": "c20c618a",
   "metadata": {},
   "outputs": [],
   "source": [
    "listTest = []\n",
    "for i in testCY:\n",
    "    listTest.append(i)"
   ]
  },
  {
   "cell_type": "code",
   "execution_count": 41,
   "id": "c999edb7",
   "metadata": {},
   "outputs": [],
   "source": [
    "listreg = result.tolist()\n",
    "listlog = []\n",
    "for i in listreg:\n",
    "    listlog.append(i[0])"
   ]
  },
  {
   "cell_type": "code",
   "execution_count": 132,
   "id": "45de2cfd",
   "metadata": {},
   "outputs": [
    {
     "ename": "NameError",
     "evalue": "name 'classfile' is not defined",
     "output_type": "error",
     "traceback": [
      "\u001b[1;31m---------------------------------------------------------------------------\u001b[0m",
      "\u001b[1;31mNameError\u001b[0m                                 Traceback (most recent call last)",
      "\u001b[1;32m<ipython-input-132-c5454b8855f3>\u001b[0m in \u001b[0;36m<module>\u001b[1;34m\u001b[0m\n\u001b[0;32m      1\u001b[0m res = {\n\u001b[1;32m----> 2\u001b[1;33m     \u001b[1;34m\"date\"\u001b[0m\u001b[1;33m:\u001b[0m \u001b[0mclassfile\u001b[0m\u001b[1;33m[\u001b[0m\u001b[1;36m109067\u001b[0m\u001b[1;33m:\u001b[0m\u001b[1;33m]\u001b[0m\u001b[1;33m.\u001b[0m\u001b[0mdate\u001b[0m\u001b[1;33m,\u001b[0m\u001b[1;33m\u001b[0m\u001b[1;33m\u001b[0m\u001b[0m\n\u001b[0m\u001b[0;32m      3\u001b[0m     \u001b[1;34m\"Test\"\u001b[0m \u001b[1;33m:\u001b[0m \u001b[0mlistTest\u001b[0m\u001b[1;33m,\u001b[0m\u001b[1;33m\u001b[0m\u001b[1;33m\u001b[0m\u001b[0m\n\u001b[0;32m      4\u001b[0m   \u001b[1;34m\"pred\"\u001b[0m \u001b[1;33m:\u001b[0m \u001b[0mlistlog\u001b[0m\u001b[1;33m\u001b[0m\u001b[1;33m\u001b[0m\u001b[0m\n\u001b[0;32m      5\u001b[0m }\n",
      "\u001b[1;31mNameError\u001b[0m: name 'classfile' is not defined"
     ]
    }
   ],
   "source": [
    "res = {\n",
    "    \"date\": classfile[144000:].date,\n",
    "    \"Test\" : listTest,\n",
    "  \"pred\" : listlog\n",
    "}\n",
    "respred = pd.DataFrame(res)"
   ]
  },
  {
   "cell_type": "code",
   "execution_count": 43,
   "id": "1d11db04",
   "metadata": {},
   "outputs": [
    {
     "data": {
      "text/html": [
       "<div>\n",
       "<style scoped>\n",
       "    .dataframe tbody tr th:only-of-type {\n",
       "        vertical-align: middle;\n",
       "    }\n",
       "\n",
       "    .dataframe tbody tr th {\n",
       "        vertical-align: top;\n",
       "    }\n",
       "\n",
       "    .dataframe thead th {\n",
       "        text-align: right;\n",
       "    }\n",
       "</style>\n",
       "<table border=\"1\" class=\"dataframe\">\n",
       "  <thead>\n",
       "    <tr style=\"text-align: right;\">\n",
       "      <th></th>\n",
       "      <th>date</th>\n",
       "      <th>Test</th>\n",
       "      <th>pred</th>\n",
       "    </tr>\n",
       "  </thead>\n",
       "  <tbody>\n",
       "    <tr>\n",
       "      <th>144000</th>\n",
       "      <td>21-08-2021</td>\n",
       "      <td>0</td>\n",
       "      <td>1</td>\n",
       "    </tr>\n",
       "    <tr>\n",
       "      <th>144001</th>\n",
       "      <td>21-08-2021</td>\n",
       "      <td>1</td>\n",
       "      <td>1</td>\n",
       "    </tr>\n",
       "    <tr>\n",
       "      <th>144002</th>\n",
       "      <td>21-08-2021</td>\n",
       "      <td>0</td>\n",
       "      <td>1</td>\n",
       "    </tr>\n",
       "    <tr>\n",
       "      <th>144003</th>\n",
       "      <td>21-08-2021</td>\n",
       "      <td>0</td>\n",
       "      <td>1</td>\n",
       "    </tr>\n",
       "    <tr>\n",
       "      <th>144004</th>\n",
       "      <td>21-08-2021</td>\n",
       "      <td>0</td>\n",
       "      <td>1</td>\n",
       "    </tr>\n",
       "    <tr>\n",
       "      <th>...</th>\n",
       "      <td>...</td>\n",
       "      <td>...</td>\n",
       "      <td>...</td>\n",
       "    </tr>\n",
       "    <tr>\n",
       "      <th>215995</th>\n",
       "      <td>15-08-2022</td>\n",
       "      <td>1</td>\n",
       "      <td>1</td>\n",
       "    </tr>\n",
       "    <tr>\n",
       "      <th>215996</th>\n",
       "      <td>15-08-2022</td>\n",
       "      <td>1</td>\n",
       "      <td>1</td>\n",
       "    </tr>\n",
       "    <tr>\n",
       "      <th>215997</th>\n",
       "      <td>15-08-2022</td>\n",
       "      <td>0</td>\n",
       "      <td>1</td>\n",
       "    </tr>\n",
       "    <tr>\n",
       "      <th>215998</th>\n",
       "      <td>15-08-2022</td>\n",
       "      <td>1</td>\n",
       "      <td>1</td>\n",
       "    </tr>\n",
       "    <tr>\n",
       "      <th>215999</th>\n",
       "      <td>15-08-2022</td>\n",
       "      <td>1</td>\n",
       "      <td>1</td>\n",
       "    </tr>\n",
       "  </tbody>\n",
       "</table>\n",
       "<p>72000 rows × 3 columns</p>\n",
       "</div>"
      ],
      "text/plain": [
       "              date  Test  pred\n",
       "144000  21-08-2021     0     1\n",
       "144001  21-08-2021     1     1\n",
       "144002  21-08-2021     0     1\n",
       "144003  21-08-2021     0     1\n",
       "144004  21-08-2021     0     1\n",
       "...            ...   ...   ...\n",
       "215995  15-08-2022     1     1\n",
       "215996  15-08-2022     1     1\n",
       "215997  15-08-2022     0     1\n",
       "215998  15-08-2022     1     1\n",
       "215999  15-08-2022     1     1\n",
       "\n",
       "[72000 rows x 3 columns]"
      ]
     },
     "execution_count": 43,
     "metadata": {},
     "output_type": "execute_result"
    }
   ],
   "source": [
    "respred"
   ]
  },
  {
   "cell_type": "code",
   "execution_count": 44,
   "id": "370d29b7",
   "metadata": {},
   "outputs": [],
   "source": [
    "gb = respred.groupby('date').sum()"
   ]
  },
  {
   "cell_type": "code",
   "execution_count": 45,
   "id": "7dcd49ca",
   "metadata": {},
   "outputs": [
    {
     "data": {
      "text/html": [
       "<div>\n",
       "<style scoped>\n",
       "    .dataframe tbody tr th:only-of-type {\n",
       "        vertical-align: middle;\n",
       "    }\n",
       "\n",
       "    .dataframe tbody tr th {\n",
       "        vertical-align: top;\n",
       "    }\n",
       "\n",
       "    .dataframe thead th {\n",
       "        text-align: right;\n",
       "    }\n",
       "</style>\n",
       "<table border=\"1\" class=\"dataframe\">\n",
       "  <thead>\n",
       "    <tr style=\"text-align: right;\">\n",
       "      <th></th>\n",
       "      <th>Test</th>\n",
       "      <th>pred</th>\n",
       "    </tr>\n",
       "    <tr>\n",
       "      <th>date</th>\n",
       "      <th></th>\n",
       "      <th></th>\n",
       "    </tr>\n",
       "  </thead>\n",
       "  <tbody>\n",
       "    <tr>\n",
       "      <th>01-01-2022</th>\n",
       "      <td>0</td>\n",
       "      <td>0</td>\n",
       "    </tr>\n",
       "    <tr>\n",
       "      <th>01-02-2022</th>\n",
       "      <td>134</td>\n",
       "      <td>192</td>\n",
       "    </tr>\n",
       "    <tr>\n",
       "      <th>01-03-2022</th>\n",
       "      <td>123</td>\n",
       "      <td>192</td>\n",
       "    </tr>\n",
       "    <tr>\n",
       "      <th>01-04-2022</th>\n",
       "      <td>0</td>\n",
       "      <td>0</td>\n",
       "    </tr>\n",
       "    <tr>\n",
       "      <th>01-05-2022</th>\n",
       "      <td>0</td>\n",
       "      <td>0</td>\n",
       "    </tr>\n",
       "    <tr>\n",
       "      <th>...</th>\n",
       "      <td>...</td>\n",
       "      <td>...</td>\n",
       "    </tr>\n",
       "    <tr>\n",
       "      <th>31-05-2022</th>\n",
       "      <td>114</td>\n",
       "      <td>192</td>\n",
       "    </tr>\n",
       "    <tr>\n",
       "      <th>31-07-2022</th>\n",
       "      <td>117</td>\n",
       "      <td>192</td>\n",
       "    </tr>\n",
       "    <tr>\n",
       "      <th>31-08-2021</th>\n",
       "      <td>123</td>\n",
       "      <td>192</td>\n",
       "    </tr>\n",
       "    <tr>\n",
       "      <th>31-10-2021</th>\n",
       "      <td>133</td>\n",
       "      <td>192</td>\n",
       "    </tr>\n",
       "    <tr>\n",
       "      <th>31-12-2021</th>\n",
       "      <td>0</td>\n",
       "      <td>0</td>\n",
       "    </tr>\n",
       "  </tbody>\n",
       "</table>\n",
       "<p>360 rows × 2 columns</p>\n",
       "</div>"
      ],
      "text/plain": [
       "            Test  pred\n",
       "date                  \n",
       "01-01-2022     0     0\n",
       "01-02-2022   134   192\n",
       "01-03-2022   123   192\n",
       "01-04-2022     0     0\n",
       "01-05-2022     0     0\n",
       "...          ...   ...\n",
       "31-05-2022   114   192\n",
       "31-07-2022   117   192\n",
       "31-08-2021   123   192\n",
       "31-10-2021   133   192\n",
       "31-12-2021     0     0\n",
       "\n",
       "[360 rows x 2 columns]"
      ]
     },
     "execution_count": 45,
     "metadata": {},
     "output_type": "execute_result"
    }
   ],
   "source": [
    "gb"
   ]
  },
  {
   "cell_type": "code",
   "execution_count": 47,
   "id": "de10306f",
   "metadata": {},
   "outputs": [],
   "source": [
    "gb.to_excel('classification/resultLOG.xlsx')\n"
   ]
  },
  {
   "cell_type": "code",
   "execution_count": 48,
   "id": "9daa1d4c",
   "metadata": {},
   "outputs": [],
   "source": [
    "readf = pd.read_excel(\"classification/resultLOG.xlsx\")"
   ]
  },
  {
   "cell_type": "code",
   "execution_count": 51,
   "id": "950c78e5",
   "metadata": {},
   "outputs": [],
   "source": [
    "readf= readf.drop(['date'], axis=1)"
   ]
  },
  {
   "cell_type": "code",
   "execution_count": 52,
   "id": "b18f3b24",
   "metadata": {},
   "outputs": [
    {
     "data": {
      "text/plain": [
       "<AxesSubplot:>"
      ]
     },
     "execution_count": 52,
     "metadata": {},
     "output_type": "execute_result"
    },
    {
     "data": {
      "image/png": "[encoded data removed]",
      "text/plain": [
       "<Figure size 432x288 with 1 Axes>"
      ]
     },
     "metadata": {
      "needs_background": "light"
     },
     "output_type": "display_data"
    }
   ],
   "source": [
    "readf.plot()"
   ]
  },
  {
   "cell_type": "code",
   "execution_count": 53,
   "id": "1634ba72",
   "metadata": {},
   "outputs": [],
   "source": [
    "from keras.models import Sequential"
   ]
  },
  {
   "cell_type": "code",
   "execution_count": 87,
   "id": "48f8c6c9",
   "metadata": {},
   "outputs": [
    {
     "name": "stdout",
     "output_type": "stream",
     "text": [
      "Model: \"model_9\"\n",
      "_________________________________________________________________\n",
      "Layer (type)                 Output Shape              Param #   \n",
      "=================================================================\n",
      "input_10 (InputLayer)        [(None, 6)]               0         \n",
      "_________________________________________________________________\n",
      "dense_18 (Dense)             (None, 200)               1400      \n",
      "_________________________________________________________________\n",
      "dense_19 (Dense)             (None, 2)                 402       \n",
      "=================================================================\n",
      "Total params: 1,802\n",
      "Trainable params: 1,802\n",
      "Non-trainable params: 0\n",
      "_________________________________________________________________\n"
     ]
    }
   ],
   "source": [
    "from keras import layers, Model, optimizers, regularizers\n",
    "input = layers.Input(shape=(6,))\n",
    "tmp = layers.Dense(200, activation='sigmoid')(input)\n",
    "output = layers.Dense(2, activation='softmax')(tmp)\n",
    "model = Model(input, output)\n",
    "model.summary()\n",
    "model.compile(loss='categorical_crossentropy',\n",
    "              optimizer='adam',\n",
    "              metrics=['accuracy'])"
   ]
  },
  {
   "cell_type": "code",
   "execution_count": 88,
   "id": "8d69489d",
   "metadata": {},
   "outputs": [],
   "source": [
    "model.compile(loss='categorical_crossentropy',\n",
    "              optimizer='adam',\n",
    "              metrics=['accuracy'])"
   ]
  },
  {
   "cell_type": "code",
   "execution_count": 89,
   "id": "83a6fa22",
   "metadata": {},
   "outputs": [
    {
     "name": "stdout",
     "output_type": "stream",
     "text": [
      "Epoch 1/10\n"
     ]
    },
    {
     "ename": "ValueError",
     "evalue": "in user code:\n\n    C:\\Users\\Laghoub\\anaconda3\\lib\\site-packages\\keras\\engine\\training.py:830 train_function  *\n        return step_function(self, iterator)\n    C:\\Users\\Laghoub\\anaconda3\\lib\\site-packages\\keras\\engine\\training.py:813 run_step  *\n        outputs = model.train_step(data)\n    C:\\Users\\Laghoub\\anaconda3\\lib\\site-packages\\keras\\engine\\training.py:771 train_step  *\n        loss = self.compiled_loss(\n    C:\\Users\\Laghoub\\anaconda3\\lib\\site-packages\\keras\\engine\\compile_utils.py:201 __call__  *\n        loss_value = loss_obj(y_t, y_p, sample_weight=sw)\n    C:\\Users\\Laghoub\\anaconda3\\lib\\site-packages\\keras\\losses.py:142 __call__  *\n        losses = call_fn(y_true, y_pred)\n    C:\\Users\\Laghoub\\anaconda3\\lib\\site-packages\\keras\\losses.py:246 call  *\n        return ag_fn(y_true, y_pred, **self._fn_kwargs)\n    C:\\Users\\Laghoub\\anaconda3\\lib\\site-packages\\tensorflow\\python\\util\\dispatch.py:206 wrapper  **\n        return target(*args, **kwargs)\n    C:\\Users\\Laghoub\\anaconda3\\lib\\site-packages\\keras\\losses.py:1630 categorical_crossentropy\n        return backend.categorical_crossentropy(\n    C:\\Users\\Laghoub\\anaconda3\\lib\\site-packages\\tensorflow\\python\\util\\dispatch.py:206 wrapper\n        return target(*args, **kwargs)\n    C:\\Users\\Laghoub\\anaconda3\\lib\\site-packages\\keras\\backend.py:4827 categorical_crossentropy\n        target.shape.assert_is_compatible_with(output.shape)\n    C:\\Users\\Laghoub\\anaconda3\\lib\\site-packages\\tensorflow\\python\\framework\\tensor_shape.py:1161 assert_is_compatible_with\n        raise ValueError(\"Shapes %s and %s are incompatible\" % (self, other))\n\n    ValueError: Shapes (100, 1) and (100, 2) are incompatible\n",
     "output_type": "error",
     "traceback": [
      "\u001b[1;31m---------------------------------------------------------------------------\u001b[0m",
      "\u001b[1;31mValueError\u001b[0m                                Traceback (most recent call last)",
      "\u001b[1;32m<ipython-input-89-d373d21e492c>\u001b[0m in \u001b[0;36m<module>\u001b[1;34m\u001b[0m\n\u001b[1;32m----> 1\u001b[1;33m history = model.fit(trainCX,trainCY, \n\u001b[0m\u001b[0;32m      2\u001b[0m                         \u001b[0mepochs\u001b[0m\u001b[1;33m=\u001b[0m\u001b[1;36m10\u001b[0m\u001b[1;33m,\u001b[0m \u001b[0mbatch_size\u001b[0m\u001b[1;33m=\u001b[0m\u001b[1;36m100\u001b[0m\u001b[1;33m,\u001b[0m\u001b[1;33m\u001b[0m\u001b[1;33m\u001b[0m\u001b[0m\n\u001b[0;32m      3\u001b[0m                         )\n",
      "\u001b[1;32m~\\anaconda3\\lib\\site-packages\\keras\\engine\\training.py\u001b[0m in \u001b[0;36mfit\u001b[1;34m(self, x, y, batch_size, epochs, verbose, callbacks, validation_split, validation_data, shuffle, class_weight, sample_weight, initial_epoch, steps_per_epoch, validation_steps, validation_batch_size, validation_freq, max_queue_size, workers, use_multiprocessing)\u001b[0m\n\u001b[0;32m   1156\u001b[0m                 _r=1):\n\u001b[0;32m   1157\u001b[0m               \u001b[0mcallbacks\u001b[0m\u001b[1;33m.\u001b[0m\u001b[0mon_train_batch_begin\u001b[0m\u001b[1;33m(\u001b[0m\u001b[0mstep\u001b[0m\u001b[1;33m)\u001b[0m\u001b[1;33m\u001b[0m\u001b[1;33m\u001b[0m\u001b[0m\n\u001b[1;32m-> 1158\u001b[1;33m               \u001b[0mtmp_logs\u001b[0m \u001b[1;33m=\u001b[0m \u001b[0mself\u001b[0m\u001b[1;33m.\u001b[0m\u001b[0mtrain_function\u001b[0m\u001b[1;33m(\u001b[0m\u001b[0miterator\u001b[0m\u001b[1;33m)\u001b[0m\u001b[1;33m\u001b[0m\u001b[1;33m\u001b[0m\u001b[0m\n\u001b[0m\u001b[0;32m   1159\u001b[0m               \u001b[1;32mif\u001b[0m \u001b[0mdata_handler\u001b[0m\u001b[1;33m.\u001b[0m\u001b[0mshould_sync\u001b[0m\u001b[1;33m:\u001b[0m\u001b[1;33m\u001b[0m\u001b[1;33m\u001b[0m\u001b[0m\n\u001b[0;32m   1160\u001b[0m                 \u001b[0mcontext\u001b[0m\u001b[1;33m.\u001b[0m\u001b[0masync_wait\u001b[0m\u001b[1;33m(\u001b[0m\u001b[1;33m)\u001b[0m\u001b[1;33m\u001b[0m\u001b[1;33m\u001b[0m\u001b[0m\n",
      "\u001b[1;32m~\\anaconda3\\lib\\site-packages\\tensorflow\\python\\eager\\def_function.py\u001b[0m in \u001b[0;36m__call__\u001b[1;34m(self, *args, **kwds)\u001b[0m\n\u001b[0;32m    887\u001b[0m \u001b[1;33m\u001b[0m\u001b[0m\n\u001b[0;32m    888\u001b[0m       \u001b[1;32mwith\u001b[0m \u001b[0mOptionalXlaContext\u001b[0m\u001b[1;33m(\u001b[0m\u001b[0mself\u001b[0m\u001b[1;33m.\u001b[0m\u001b[0m_jit_compile\u001b[0m\u001b[1;33m)\u001b[0m\u001b[1;33m:\u001b[0m\u001b[1;33m\u001b[0m\u001b[1;33m\u001b[0m\u001b[0m\n\u001b[1;32m--> 889\u001b[1;33m         \u001b[0mresult\u001b[0m \u001b[1;33m=\u001b[0m \u001b[0mself\u001b[0m\u001b[1;33m.\u001b[0m\u001b[0m_call\u001b[0m\u001b[1;33m(\u001b[0m\u001b[1;33m*\u001b[0m\u001b[0margs\u001b[0m\u001b[1;33m,\u001b[0m \u001b[1;33m**\u001b[0m\u001b[0mkwds\u001b[0m\u001b[1;33m)\u001b[0m\u001b[1;33m\u001b[0m\u001b[1;33m\u001b[0m\u001b[0m\n\u001b[0m\u001b[0;32m    890\u001b[0m \u001b[1;33m\u001b[0m\u001b[0m\n\u001b[0;32m    891\u001b[0m       \u001b[0mnew_tracing_count\u001b[0m \u001b[1;33m=\u001b[0m \u001b[0mself\u001b[0m\u001b[1;33m.\u001b[0m\u001b[0mexperimental_get_tracing_count\u001b[0m\u001b[1;33m(\u001b[0m\u001b[1;33m)\u001b[0m\u001b[1;33m\u001b[0m\u001b[1;33m\u001b[0m\u001b[0m\n",
      "\u001b[1;32m~\\anaconda3\\lib\\site-packages\\tensorflow\\python\\eager\\def_function.py\u001b[0m in \u001b[0;36m_call\u001b[1;34m(self, *args, **kwds)\u001b[0m\n\u001b[0;32m    931\u001b[0m       \u001b[1;31m# This is the first call of __call__, so we have to initialize.\u001b[0m\u001b[1;33m\u001b[0m\u001b[1;33m\u001b[0m\u001b[1;33m\u001b[0m\u001b[0m\n\u001b[0;32m    932\u001b[0m       \u001b[0minitializers\u001b[0m \u001b[1;33m=\u001b[0m \u001b[1;33m[\u001b[0m\u001b[1;33m]\u001b[0m\u001b[1;33m\u001b[0m\u001b[1;33m\u001b[0m\u001b[0m\n\u001b[1;32m--> 933\u001b[1;33m       \u001b[0mself\u001b[0m\u001b[1;33m.\u001b[0m\u001b[0m_initialize\u001b[0m\u001b[1;33m(\u001b[0m\u001b[0margs\u001b[0m\u001b[1;33m,\u001b[0m \u001b[0mkwds\u001b[0m\u001b[1;33m,\u001b[0m \u001b[0madd_initializers_to\u001b[0m\u001b[1;33m=\u001b[0m\u001b[0minitializers\u001b[0m\u001b[1;33m)\u001b[0m\u001b[1;33m\u001b[0m\u001b[1;33m\u001b[0m\u001b[0m\n\u001b[0m\u001b[0;32m    934\u001b[0m     \u001b[1;32mfinally\u001b[0m\u001b[1;33m:\u001b[0m\u001b[1;33m\u001b[0m\u001b[1;33m\u001b[0m\u001b[0m\n\u001b[0;32m    935\u001b[0m       \u001b[1;31m# At this point we know that the initialization is complete (or less\u001b[0m\u001b[1;33m\u001b[0m\u001b[1;33m\u001b[0m\u001b[1;33m\u001b[0m\u001b[0m\n",
      "\u001b[1;32m~\\anaconda3\\lib\\site-packages\\tensorflow\\python\\eager\\def_function.py\u001b[0m in \u001b[0;36m_initialize\u001b[1;34m(self, args, kwds, add_initializers_to)\u001b[0m\n\u001b[0;32m    761\u001b[0m     \u001b[0mself\u001b[0m\u001b[1;33m.\u001b[0m\u001b[0m_graph_deleter\u001b[0m \u001b[1;33m=\u001b[0m \u001b[0mFunctionDeleter\u001b[0m\u001b[1;33m(\u001b[0m\u001b[0mself\u001b[0m\u001b[1;33m.\u001b[0m\u001b[0m_lifted_initializer_graph\u001b[0m\u001b[1;33m)\u001b[0m\u001b[1;33m\u001b[0m\u001b[1;33m\u001b[0m\u001b[0m\n\u001b[0;32m    762\u001b[0m     self._concrete_stateful_fn = (\n\u001b[1;32m--> 763\u001b[1;33m         self._stateful_fn._get_concrete_function_internal_garbage_collected(  # pylint: disable=protected-access\n\u001b[0m\u001b[0;32m    764\u001b[0m             *args, **kwds))\n\u001b[0;32m    765\u001b[0m \u001b[1;33m\u001b[0m\u001b[0m\n",
      "\u001b[1;32m~\\anaconda3\\lib\\site-packages\\tensorflow\\python\\eager\\function.py\u001b[0m in \u001b[0;36m_get_concrete_function_internal_garbage_collected\u001b[1;34m(self, *args, **kwargs)\u001b[0m\n\u001b[0;32m   3048\u001b[0m       \u001b[0margs\u001b[0m\u001b[1;33m,\u001b[0m \u001b[0mkwargs\u001b[0m \u001b[1;33m=\u001b[0m \u001b[1;32mNone\u001b[0m\u001b[1;33m,\u001b[0m \u001b[1;32mNone\u001b[0m\u001b[1;33m\u001b[0m\u001b[1;33m\u001b[0m\u001b[0m\n\u001b[0;32m   3049\u001b[0m     \u001b[1;32mwith\u001b[0m \u001b[0mself\u001b[0m\u001b[1;33m.\u001b[0m\u001b[0m_lock\u001b[0m\u001b[1;33m:\u001b[0m\u001b[1;33m\u001b[0m\u001b[1;33m\u001b[0m\u001b[0m\n\u001b[1;32m-> 3050\u001b[1;33m       \u001b[0mgraph_function\u001b[0m\u001b[1;33m,\u001b[0m \u001b[0m_\u001b[0m \u001b[1;33m=\u001b[0m \u001b[0mself\u001b[0m\u001b[1;33m.\u001b[0m\u001b[0m_maybe_define_function\u001b[0m\u001b[1;33m(\u001b[0m\u001b[0margs\u001b[0m\u001b[1;33m,\u001b[0m \u001b[0mkwargs\u001b[0m\u001b[1;33m)\u001b[0m\u001b[1;33m\u001b[0m\u001b[1;33m\u001b[0m\u001b[0m\n\u001b[0m\u001b[0;32m   3051\u001b[0m     \u001b[1;32mreturn\u001b[0m \u001b[0mgraph_function\u001b[0m\u001b[1;33m\u001b[0m\u001b[1;33m\u001b[0m\u001b[0m\n\u001b[0;32m   3052\u001b[0m \u001b[1;33m\u001b[0m\u001b[0m\n",
      "\u001b[1;32m~\\anaconda3\\lib\\site-packages\\tensorflow\\python\\eager\\function.py\u001b[0m in \u001b[0;36m_maybe_define_function\u001b[1;34m(self, args, kwargs)\u001b[0m\n\u001b[0;32m   3442\u001b[0m \u001b[1;33m\u001b[0m\u001b[0m\n\u001b[0;32m   3443\u001b[0m           \u001b[0mself\u001b[0m\u001b[1;33m.\u001b[0m\u001b[0m_function_cache\u001b[0m\u001b[1;33m.\u001b[0m\u001b[0mmissed\u001b[0m\u001b[1;33m.\u001b[0m\u001b[0madd\u001b[0m\u001b[1;33m(\u001b[0m\u001b[0mcall_context_key\u001b[0m\u001b[1;33m)\u001b[0m\u001b[1;33m\u001b[0m\u001b[1;33m\u001b[0m\u001b[0m\n\u001b[1;32m-> 3444\u001b[1;33m           \u001b[0mgraph_function\u001b[0m \u001b[1;33m=\u001b[0m \u001b[0mself\u001b[0m\u001b[1;33m.\u001b[0m\u001b[0m_create_graph_function\u001b[0m\u001b[1;33m(\u001b[0m\u001b[0margs\u001b[0m\u001b[1;33m,\u001b[0m \u001b[0mkwargs\u001b[0m\u001b[1;33m)\u001b[0m\u001b[1;33m\u001b[0m\u001b[1;33m\u001b[0m\u001b[0m\n\u001b[0m\u001b[0;32m   3445\u001b[0m           \u001b[0mself\u001b[0m\u001b[1;33m.\u001b[0m\u001b[0m_function_cache\u001b[0m\u001b[1;33m.\u001b[0m\u001b[0mprimary\u001b[0m\u001b[1;33m[\u001b[0m\u001b[0mcache_key\u001b[0m\u001b[1;33m]\u001b[0m \u001b[1;33m=\u001b[0m \u001b[0mgraph_function\u001b[0m\u001b[1;33m\u001b[0m\u001b[1;33m\u001b[0m\u001b[0m\n\u001b[0;32m   3446\u001b[0m \u001b[1;33m\u001b[0m\u001b[0m\n",
      "\u001b[1;32m~\\anaconda3\\lib\\site-packages\\tensorflow\\python\\eager\\function.py\u001b[0m in \u001b[0;36m_create_graph_function\u001b[1;34m(self, args, kwargs, override_flat_arg_shapes)\u001b[0m\n\u001b[0;32m   3277\u001b[0m     \u001b[0marg_names\u001b[0m \u001b[1;33m=\u001b[0m \u001b[0mbase_arg_names\u001b[0m \u001b[1;33m+\u001b[0m \u001b[0mmissing_arg_names\u001b[0m\u001b[1;33m\u001b[0m\u001b[1;33m\u001b[0m\u001b[0m\n\u001b[0;32m   3278\u001b[0m     graph_function = ConcreteFunction(\n\u001b[1;32m-> 3279\u001b[1;33m         func_graph_module.func_graph_from_py_func(\n\u001b[0m\u001b[0;32m   3280\u001b[0m             \u001b[0mself\u001b[0m\u001b[1;33m.\u001b[0m\u001b[0m_name\u001b[0m\u001b[1;33m,\u001b[0m\u001b[1;33m\u001b[0m\u001b[1;33m\u001b[0m\u001b[0m\n\u001b[0;32m   3281\u001b[0m             \u001b[0mself\u001b[0m\u001b[1;33m.\u001b[0m\u001b[0m_python_function\u001b[0m\u001b[1;33m,\u001b[0m\u001b[1;33m\u001b[0m\u001b[1;33m\u001b[0m\u001b[0m\n",
      "\u001b[1;32m~\\anaconda3\\lib\\site-packages\\tensorflow\\python\\framework\\func_graph.py\u001b[0m in \u001b[0;36mfunc_graph_from_py_func\u001b[1;34m(name, python_func, args, kwargs, signature, func_graph, autograph, autograph_options, add_control_dependencies, arg_names, op_return_value, collections, capture_by_value, override_flat_arg_shapes)\u001b[0m\n\u001b[0;32m    997\u001b[0m         \u001b[0m_\u001b[0m\u001b[1;33m,\u001b[0m \u001b[0moriginal_func\u001b[0m \u001b[1;33m=\u001b[0m \u001b[0mtf_decorator\u001b[0m\u001b[1;33m.\u001b[0m\u001b[0munwrap\u001b[0m\u001b[1;33m(\u001b[0m\u001b[0mpython_func\u001b[0m\u001b[1;33m)\u001b[0m\u001b[1;33m\u001b[0m\u001b[1;33m\u001b[0m\u001b[0m\n\u001b[0;32m    998\u001b[0m \u001b[1;33m\u001b[0m\u001b[0m\n\u001b[1;32m--> 999\u001b[1;33m       \u001b[0mfunc_outputs\u001b[0m \u001b[1;33m=\u001b[0m \u001b[0mpython_func\u001b[0m\u001b[1;33m(\u001b[0m\u001b[1;33m*\u001b[0m\u001b[0mfunc_args\u001b[0m\u001b[1;33m,\u001b[0m \u001b[1;33m**\u001b[0m\u001b[0mfunc_kwargs\u001b[0m\u001b[1;33m)\u001b[0m\u001b[1;33m\u001b[0m\u001b[1;33m\u001b[0m\u001b[0m\n\u001b[0m\u001b[0;32m   1000\u001b[0m \u001b[1;33m\u001b[0m\u001b[0m\n\u001b[0;32m   1001\u001b[0m       \u001b[1;31m# invariant: `func_outputs` contains only Tensors, CompositeTensors,\u001b[0m\u001b[1;33m\u001b[0m\u001b[1;33m\u001b[0m\u001b[1;33m\u001b[0m\u001b[0m\n",
      "\u001b[1;32m~\\anaconda3\\lib\\site-packages\\tensorflow\\python\\eager\\def_function.py\u001b[0m in \u001b[0;36mwrapped_fn\u001b[1;34m(*args, **kwds)\u001b[0m\n\u001b[0;32m    670\u001b[0m         \u001b[1;31m# the function a weak reference to itself to avoid a reference cycle.\u001b[0m\u001b[1;33m\u001b[0m\u001b[1;33m\u001b[0m\u001b[1;33m\u001b[0m\u001b[0m\n\u001b[0;32m    671\u001b[0m         \u001b[1;32mwith\u001b[0m \u001b[0mOptionalXlaContext\u001b[0m\u001b[1;33m(\u001b[0m\u001b[0mcompile_with_xla\u001b[0m\u001b[1;33m)\u001b[0m\u001b[1;33m:\u001b[0m\u001b[1;33m\u001b[0m\u001b[1;33m\u001b[0m\u001b[0m\n\u001b[1;32m--> 672\u001b[1;33m           \u001b[0mout\u001b[0m \u001b[1;33m=\u001b[0m \u001b[0mweak_wrapped_fn\u001b[0m\u001b[1;33m(\u001b[0m\u001b[1;33m)\u001b[0m\u001b[1;33m.\u001b[0m\u001b[0m__wrapped__\u001b[0m\u001b[1;33m(\u001b[0m\u001b[1;33m*\u001b[0m\u001b[0margs\u001b[0m\u001b[1;33m,\u001b[0m \u001b[1;33m**\u001b[0m\u001b[0mkwds\u001b[0m\u001b[1;33m)\u001b[0m\u001b[1;33m\u001b[0m\u001b[1;33m\u001b[0m\u001b[0m\n\u001b[0m\u001b[0;32m    673\u001b[0m         \u001b[1;32mreturn\u001b[0m \u001b[0mout\u001b[0m\u001b[1;33m\u001b[0m\u001b[1;33m\u001b[0m\u001b[0m\n\u001b[0;32m    674\u001b[0m \u001b[1;33m\u001b[0m\u001b[0m\n",
      "\u001b[1;32m~\\anaconda3\\lib\\site-packages\\tensorflow\\python\\framework\\func_graph.py\u001b[0m in \u001b[0;36mwrapper\u001b[1;34m(*args, **kwargs)\u001b[0m\n\u001b[0;32m    984\u001b[0m           \u001b[1;32mexcept\u001b[0m \u001b[0mException\u001b[0m \u001b[1;32mas\u001b[0m \u001b[0me\u001b[0m\u001b[1;33m:\u001b[0m  \u001b[1;31m# pylint:disable=broad-except\u001b[0m\u001b[1;33m\u001b[0m\u001b[1;33m\u001b[0m\u001b[0m\n\u001b[0;32m    985\u001b[0m             \u001b[1;32mif\u001b[0m \u001b[0mhasattr\u001b[0m\u001b[1;33m(\u001b[0m\u001b[0me\u001b[0m\u001b[1;33m,\u001b[0m \u001b[1;34m\"ag_error_metadata\"\u001b[0m\u001b[1;33m)\u001b[0m\u001b[1;33m:\u001b[0m\u001b[1;33m\u001b[0m\u001b[1;33m\u001b[0m\u001b[0m\n\u001b[1;32m--> 986\u001b[1;33m               \u001b[1;32mraise\u001b[0m \u001b[0me\u001b[0m\u001b[1;33m.\u001b[0m\u001b[0mag_error_metadata\u001b[0m\u001b[1;33m.\u001b[0m\u001b[0mto_exception\u001b[0m\u001b[1;33m(\u001b[0m\u001b[0me\u001b[0m\u001b[1;33m)\u001b[0m\u001b[1;33m\u001b[0m\u001b[1;33m\u001b[0m\u001b[0m\n\u001b[0m\u001b[0;32m    987\u001b[0m             \u001b[1;32melse\u001b[0m\u001b[1;33m:\u001b[0m\u001b[1;33m\u001b[0m\u001b[1;33m\u001b[0m\u001b[0m\n\u001b[0;32m    988\u001b[0m               \u001b[1;32mraise\u001b[0m\u001b[1;33m\u001b[0m\u001b[1;33m\u001b[0m\u001b[0m\n",
      "\u001b[1;31mValueError\u001b[0m: in user code:\n\n    C:\\Users\\Laghoub\\anaconda3\\lib\\site-packages\\keras\\engine\\training.py:830 train_function  *\n        return step_function(self, iterator)\n    C:\\Users\\Laghoub\\anaconda3\\lib\\site-packages\\keras\\engine\\training.py:813 run_step  *\n        outputs = model.train_step(data)\n    C:\\Users\\Laghoub\\anaconda3\\lib\\site-packages\\keras\\engine\\training.py:771 train_step  *\n        loss = self.compiled_loss(\n    C:\\Users\\Laghoub\\anaconda3\\lib\\site-packages\\keras\\engine\\compile_utils.py:201 __call__  *\n        loss_value = loss_obj(y_t, y_p, sample_weight=sw)\n    C:\\Users\\Laghoub\\anaconda3\\lib\\site-packages\\keras\\losses.py:142 __call__  *\n        losses = call_fn(y_true, y_pred)\n    C:\\Users\\Laghoub\\anaconda3\\lib\\site-packages\\keras\\losses.py:246 call  *\n        return ag_fn(y_true, y_pred, **self._fn_kwargs)\n    C:\\Users\\Laghoub\\anaconda3\\lib\\site-packages\\tensorflow\\python\\util\\dispatch.py:206 wrapper  **\n        return target(*args, **kwargs)\n    C:\\Users\\Laghoub\\anaconda3\\lib\\site-packages\\keras\\losses.py:1630 categorical_crossentropy\n        return backend.categorical_crossentropy(\n    C:\\Users\\Laghoub\\anaconda3\\lib\\site-packages\\tensorflow\\python\\util\\dispatch.py:206 wrapper\n        return target(*args, **kwargs)\n    C:\\Users\\Laghoub\\anaconda3\\lib\\site-packages\\keras\\backend.py:4827 categorical_crossentropy\n        target.shape.assert_is_compatible_with(output.shape)\n    C:\\Users\\Laghoub\\anaconda3\\lib\\site-packages\\tensorflow\\python\\framework\\tensor_shape.py:1161 assert_is_compatible_with\n        raise ValueError(\"Shapes %s and %s are incompatible\" % (self, other))\n\n    ValueError: Shapes (100, 1) and (100, 2) are incompatible\n"
     ]
    }
   ],
   "source": [
    "history = model.fit(trainCX,trainCY, \n",
    "                        epochs=10, batch_size=100,\n",
    "                        )"
   ]
  },
  {
   "cell_type": "code",
   "execution_count": 157,
   "id": "6b1e45ee",
   "metadata": {},
   "outputs": [],
   "source": [
    "from sklearn.linear_model import LinearRegression"
   ]
  },
  {
   "cell_type": "code",
   "execution_count": 158,
   "id": "0a5d85e3",
   "metadata": {},
   "outputs": [],
   "source": [
    "model_linRegMul = LinearRegression()"
   ]
  },
  {
   "cell_type": "code",
   "execution_count": 159,
   "id": "4739aa12",
   "metadata": {},
   "outputs": [
    {
     "data": {
      "text/plain": [
       "LinearRegression()"
      ]
     },
     "execution_count": 159,
     "metadata": {},
     "output_type": "execute_result"
    }
   ],
   "source": [
    "model_linRegMul.fit(Xtrain, Ytrain)"
   ]
  },
  {
   "cell_type": "code",
   "execution_count": 160,
   "id": "291a7abc",
   "metadata": {},
   "outputs": [
    {
     "name": "stdout",
     "output_type": "stream",
     "text": [
      "70.68654562094633\n"
     ]
    }
   ],
   "source": [
    "precision = model_linRegMul.score(Xtrain, Ytrain)\n",
    "print(precision*100)"
   ]
  },
  {
   "cell_type": "code",
   "execution_count": 161,
   "id": "4fee8254",
   "metadata": {},
   "outputs": [],
   "source": [
    "prediction = model_linRegMul.predict(Xtest)"
   ]
  },
  {
   "cell_type": "code",
   "execution_count": 162,
   "id": "2f2f95b4",
   "metadata": {},
   "outputs": [
    {
     "data": {
      "text/plain": [
       "144067    21-08-2021\n",
       "144068    21-08-2021\n",
       "144069    21-08-2021\n",
       "144070    21-08-2021\n",
       "144071    21-08-2021\n",
       "             ...    \n",
       "215995    15-08-2022\n",
       "215996    15-08-2022\n",
       "215997    15-08-2022\n",
       "215998    15-08-2022\n",
       "215999    15-08-2022\n",
       "Name: date, Length: 54533, dtype: object"
      ]
     },
     "execution_count": 162,
     "metadata": {},
     "output_type": "execute_result"
    }
   ],
   "source": [
    "ListDate[109067:]"
   ]
  },
  {
   "cell_type": "code",
   "execution_count": 163,
   "id": "27409914",
   "metadata": {},
   "outputs": [],
   "source": [
    "prevision2 = {\n",
    "  \"Date\": ListDate[109067:],\n",
    "  \"Test\": Ytest,\n",
    "  \"Prevision\": model_linRegMul.predict(Xtest),\n",
    "}\n",
    "Prev2 = pd.DataFrame(prevision2)"
   ]
  },
  {
   "cell_type": "code",
   "execution_count": 164,
   "id": "5c8255cf",
   "metadata": {},
   "outputs": [
    {
     "data": {
      "text/html": [
       "<div>\n",
       "<style scoped>\n",
       "    .dataframe tbody tr th:only-of-type {\n",
       "        vertical-align: middle;\n",
       "    }\n",
       "\n",
       "    .dataframe tbody tr th {\n",
       "        vertical-align: top;\n",
       "    }\n",
       "\n",
       "    .dataframe thead th {\n",
       "        text-align: right;\n",
       "    }\n",
       "</style>\n",
       "<table border=\"1\" class=\"dataframe\">\n",
       "  <thead>\n",
       "    <tr style=\"text-align: right;\">\n",
       "      <th></th>\n",
       "      <th>Date</th>\n",
       "      <th>Test</th>\n",
       "      <th>Prevision</th>\n",
       "    </tr>\n",
       "  </thead>\n",
       "  <tbody>\n",
       "    <tr>\n",
       "      <th>144067</th>\n",
       "      <td>21-08-2021</td>\n",
       "      <td>0.605</td>\n",
       "      <td>0.625436</td>\n",
       "    </tr>\n",
       "    <tr>\n",
       "      <th>144068</th>\n",
       "      <td>21-08-2021</td>\n",
       "      <td>0.605</td>\n",
       "      <td>0.625436</td>\n",
       "    </tr>\n",
       "    <tr>\n",
       "      <th>144069</th>\n",
       "      <td>21-08-2021</td>\n",
       "      <td>0.605</td>\n",
       "      <td>0.625436</td>\n",
       "    </tr>\n",
       "    <tr>\n",
       "      <th>144070</th>\n",
       "      <td>21-08-2021</td>\n",
       "      <td>0.425</td>\n",
       "      <td>0.520269</td>\n",
       "    </tr>\n",
       "    <tr>\n",
       "      <th>144071</th>\n",
       "      <td>21-08-2021</td>\n",
       "      <td>0.395</td>\n",
       "      <td>0.496108</td>\n",
       "    </tr>\n",
       "    <tr>\n",
       "      <th>...</th>\n",
       "      <td>...</td>\n",
       "      <td>...</td>\n",
       "      <td>...</td>\n",
       "    </tr>\n",
       "    <tr>\n",
       "      <th>215995</th>\n",
       "      <td>15-08-2022</td>\n",
       "      <td>0.650</td>\n",
       "      <td>0.630725</td>\n",
       "    </tr>\n",
       "    <tr>\n",
       "      <th>215996</th>\n",
       "      <td>15-08-2022</td>\n",
       "      <td>0.650</td>\n",
       "      <td>0.643173</td>\n",
       "    </tr>\n",
       "    <tr>\n",
       "      <th>215997</th>\n",
       "      <td>15-08-2022</td>\n",
       "      <td>0.545</td>\n",
       "      <td>0.565834</td>\n",
       "    </tr>\n",
       "    <tr>\n",
       "      <th>215998</th>\n",
       "      <td>15-08-2022</td>\n",
       "      <td>0.545</td>\n",
       "      <td>0.565834</td>\n",
       "    </tr>\n",
       "    <tr>\n",
       "      <th>215999</th>\n",
       "      <td>15-08-2022</td>\n",
       "      <td>0.725</td>\n",
       "      <td>0.664361</td>\n",
       "    </tr>\n",
       "  </tbody>\n",
       "</table>\n",
       "<p>54533 rows × 3 columns</p>\n",
       "</div>"
      ],
      "text/plain": [
       "              Date   Test  Prevision\n",
       "144067  21-08-2021  0.605   0.625436\n",
       "144068  21-08-2021  0.605   0.625436\n",
       "144069  21-08-2021  0.605   0.625436\n",
       "144070  21-08-2021  0.425   0.520269\n",
       "144071  21-08-2021  0.395   0.496108\n",
       "...            ...    ...        ...\n",
       "215995  15-08-2022  0.650   0.630725\n",
       "215996  15-08-2022  0.650   0.643173\n",
       "215997  15-08-2022  0.545   0.565834\n",
       "215998  15-08-2022  0.545   0.565834\n",
       "215999  15-08-2022  0.725   0.664361\n",
       "\n",
       "[54533 rows x 3 columns]"
      ]
     },
     "execution_count": 164,
     "metadata": {},
     "output_type": "execute_result"
    }
   ],
   "source": [
    "Prev2"
   ]
  },
  {
   "cell_type": "code",
   "execution_count": 165,
   "id": "4743af9d",
   "metadata": {},
   "outputs": [],
   "source": [
    "gb2 = Prev2.groupby('Date').sum()"
   ]
  },
  {
   "cell_type": "code",
   "execution_count": 166,
   "id": "baa885f5",
   "metadata": {},
   "outputs": [
    {
     "data": {
      "text/html": [
       "<div>\n",
       "<style scoped>\n",
       "    .dataframe tbody tr th:only-of-type {\n",
       "        vertical-align: middle;\n",
       "    }\n",
       "\n",
       "    .dataframe tbody tr th {\n",
       "        vertical-align: top;\n",
       "    }\n",
       "\n",
       "    .dataframe thead th {\n",
       "        text-align: right;\n",
       "    }\n",
       "</style>\n",
       "<table border=\"1\" class=\"dataframe\">\n",
       "  <thead>\n",
       "    <tr style=\"text-align: right;\">\n",
       "      <th></th>\n",
       "      <th>Test</th>\n",
       "      <th>Prevision</th>\n",
       "    </tr>\n",
       "    <tr>\n",
       "      <th>Date</th>\n",
       "      <th></th>\n",
       "      <th></th>\n",
       "    </tr>\n",
       "  </thead>\n",
       "  <tbody>\n",
       "    <tr>\n",
       "      <th>01-02-2022</th>\n",
       "      <td>133.69</td>\n",
       "      <td>136.385346</td>\n",
       "    </tr>\n",
       "    <tr>\n",
       "      <th>01-03-2022</th>\n",
       "      <td>127.69</td>\n",
       "      <td>129.928042</td>\n",
       "    </tr>\n",
       "    <tr>\n",
       "      <th>01-06-2022</th>\n",
       "      <td>115.69</td>\n",
       "      <td>121.524494</td>\n",
       "    </tr>\n",
       "    <tr>\n",
       "      <th>01-08-2022</th>\n",
       "      <td>127.69</td>\n",
       "      <td>125.416983</td>\n",
       "    </tr>\n",
       "    <tr>\n",
       "      <th>01-09-2021</th>\n",
       "      <td>115.69</td>\n",
       "      <td>121.524494</td>\n",
       "    </tr>\n",
       "    <tr>\n",
       "      <th>...</th>\n",
       "      <td>...</td>\n",
       "      <td>...</td>\n",
       "    </tr>\n",
       "    <tr>\n",
       "      <th>31-03-2022</th>\n",
       "      <td>147.69</td>\n",
       "      <td>126.035554</td>\n",
       "    </tr>\n",
       "    <tr>\n",
       "      <th>31-05-2022</th>\n",
       "      <td>119.69</td>\n",
       "      <td>123.470739</td>\n",
       "    </tr>\n",
       "    <tr>\n",
       "      <th>31-07-2022</th>\n",
       "      <td>123.69</td>\n",
       "      <td>127.363227</td>\n",
       "    </tr>\n",
       "    <tr>\n",
       "      <th>31-08-2021</th>\n",
       "      <td>119.69</td>\n",
       "      <td>123.470739</td>\n",
       "    </tr>\n",
       "    <tr>\n",
       "      <th>31-10-2021</th>\n",
       "      <td>131.69</td>\n",
       "      <td>133.820531</td>\n",
       "    </tr>\n",
       "  </tbody>\n",
       "</table>\n",
       "<p>273 rows × 2 columns</p>\n",
       "</div>"
      ],
      "text/plain": [
       "              Test   Prevision\n",
       "Date                          \n",
       "01-02-2022  133.69  136.385346\n",
       "01-03-2022  127.69  129.928042\n",
       "01-06-2022  115.69  121.524494\n",
       "01-08-2022  127.69  125.416983\n",
       "01-09-2021  115.69  121.524494\n",
       "...            ...         ...\n",
       "31-03-2022  147.69  126.035554\n",
       "31-05-2022  119.69  123.470739\n",
       "31-07-2022  123.69  127.363227\n",
       "31-08-2021  119.69  123.470739\n",
       "31-10-2021  131.69  133.820531\n",
       "\n",
       "[273 rows x 2 columns]"
      ]
     },
     "execution_count": 166,
     "metadata": {},
     "output_type": "execute_result"
    }
   ],
   "source": [
    "gb2"
   ]
  },
  {
   "cell_type": "code",
   "execution_count": 167,
   "id": "1a616e21",
   "metadata": {},
   "outputs": [],
   "source": [
    "gb2.drop(gb2[gb2.Test==0].index, inplace=True)"
   ]
  },
  {
   "cell_type": "code",
   "execution_count": 168,
   "id": "1f09337b",
   "metadata": {},
   "outputs": [
    {
     "data": {
      "text/html": [
       "<div>\n",
       "<style scoped>\n",
       "    .dataframe tbody tr th:only-of-type {\n",
       "        vertical-align: middle;\n",
       "    }\n",
       "\n",
       "    .dataframe tbody tr th {\n",
       "        vertical-align: top;\n",
       "    }\n",
       "\n",
       "    .dataframe thead th {\n",
       "        text-align: right;\n",
       "    }\n",
       "</style>\n",
       "<table border=\"1\" class=\"dataframe\">\n",
       "  <thead>\n",
       "    <tr style=\"text-align: right;\">\n",
       "      <th></th>\n",
       "      <th>Test</th>\n",
       "      <th>Prevision</th>\n",
       "    </tr>\n",
       "    <tr>\n",
       "      <th>Date</th>\n",
       "      <th></th>\n",
       "      <th></th>\n",
       "    </tr>\n",
       "  </thead>\n",
       "  <tbody>\n",
       "    <tr>\n",
       "      <th>01-02-2022</th>\n",
       "      <td>133.69</td>\n",
       "      <td>136.385346</td>\n",
       "    </tr>\n",
       "    <tr>\n",
       "      <th>01-03-2022</th>\n",
       "      <td>127.69</td>\n",
       "      <td>129.928042</td>\n",
       "    </tr>\n",
       "    <tr>\n",
       "      <th>01-06-2022</th>\n",
       "      <td>115.69</td>\n",
       "      <td>121.524494</td>\n",
       "    </tr>\n",
       "    <tr>\n",
       "      <th>01-08-2022</th>\n",
       "      <td>127.69</td>\n",
       "      <td>125.416983</td>\n",
       "    </tr>\n",
       "    <tr>\n",
       "      <th>01-09-2021</th>\n",
       "      <td>115.69</td>\n",
       "      <td>121.524494</td>\n",
       "    </tr>\n",
       "    <tr>\n",
       "      <th>...</th>\n",
       "      <td>...</td>\n",
       "      <td>...</td>\n",
       "    </tr>\n",
       "    <tr>\n",
       "      <th>31-03-2022</th>\n",
       "      <td>147.69</td>\n",
       "      <td>126.035554</td>\n",
       "    </tr>\n",
       "    <tr>\n",
       "      <th>31-05-2022</th>\n",
       "      <td>119.69</td>\n",
       "      <td>123.470739</td>\n",
       "    </tr>\n",
       "    <tr>\n",
       "      <th>31-07-2022</th>\n",
       "      <td>123.69</td>\n",
       "      <td>127.363227</td>\n",
       "    </tr>\n",
       "    <tr>\n",
       "      <th>31-08-2021</th>\n",
       "      <td>119.69</td>\n",
       "      <td>123.470739</td>\n",
       "    </tr>\n",
       "    <tr>\n",
       "      <th>31-10-2021</th>\n",
       "      <td>131.69</td>\n",
       "      <td>133.820531</td>\n",
       "    </tr>\n",
       "  </tbody>\n",
       "</table>\n",
       "<p>273 rows × 2 columns</p>\n",
       "</div>"
      ],
      "text/plain": [
       "              Test   Prevision\n",
       "Date                          \n",
       "01-02-2022  133.69  136.385346\n",
       "01-03-2022  127.69  129.928042\n",
       "01-06-2022  115.69  121.524494\n",
       "01-08-2022  127.69  125.416983\n",
       "01-09-2021  115.69  121.524494\n",
       "...            ...         ...\n",
       "31-03-2022  147.69  126.035554\n",
       "31-05-2022  119.69  123.470739\n",
       "31-07-2022  123.69  127.363227\n",
       "31-08-2021  119.69  123.470739\n",
       "31-10-2021  131.69  133.820531\n",
       "\n",
       "[273 rows x 2 columns]"
      ]
     },
     "execution_count": 168,
     "metadata": {},
     "output_type": "execute_result"
    }
   ],
   "source": [
    "gb2"
   ]
  },
  {
   "cell_type": "code",
   "execution_count": 169,
   "id": "b7a98893",
   "metadata": {},
   "outputs": [],
   "source": [
    "gb2[\"Test\"]= round(gb2[\"Test\"])\n",
    "gb2[\"Prevision\"]= round(gb2[\"Prevision\"])"
   ]
  },
  {
   "cell_type": "code",
   "execution_count": 170,
   "id": "30fb1228",
   "metadata": {},
   "outputs": [
    {
     "data": {
      "text/html": [
       "<div>\n",
       "<style scoped>\n",
       "    .dataframe tbody tr th:only-of-type {\n",
       "        vertical-align: middle;\n",
       "    }\n",
       "\n",
       "    .dataframe tbody tr th {\n",
       "        vertical-align: top;\n",
       "    }\n",
       "\n",
       "    .dataframe thead th {\n",
       "        text-align: right;\n",
       "    }\n",
       "</style>\n",
       "<table border=\"1\" class=\"dataframe\">\n",
       "  <thead>\n",
       "    <tr style=\"text-align: right;\">\n",
       "      <th></th>\n",
       "      <th>Test</th>\n",
       "      <th>Prevision</th>\n",
       "    </tr>\n",
       "    <tr>\n",
       "      <th>Date</th>\n",
       "      <th></th>\n",
       "      <th></th>\n",
       "    </tr>\n",
       "  </thead>\n",
       "  <tbody>\n",
       "    <tr>\n",
       "      <th>01-02-2022</th>\n",
       "      <td>134.0</td>\n",
       "      <td>136.0</td>\n",
       "    </tr>\n",
       "    <tr>\n",
       "      <th>01-03-2022</th>\n",
       "      <td>128.0</td>\n",
       "      <td>130.0</td>\n",
       "    </tr>\n",
       "    <tr>\n",
       "      <th>01-06-2022</th>\n",
       "      <td>116.0</td>\n",
       "      <td>122.0</td>\n",
       "    </tr>\n",
       "    <tr>\n",
       "      <th>01-08-2022</th>\n",
       "      <td>128.0</td>\n",
       "      <td>125.0</td>\n",
       "    </tr>\n",
       "    <tr>\n",
       "      <th>01-09-2021</th>\n",
       "      <td>116.0</td>\n",
       "      <td>122.0</td>\n",
       "    </tr>\n",
       "    <tr>\n",
       "      <th>...</th>\n",
       "      <td>...</td>\n",
       "      <td>...</td>\n",
       "    </tr>\n",
       "    <tr>\n",
       "      <th>31-03-2022</th>\n",
       "      <td>148.0</td>\n",
       "      <td>126.0</td>\n",
       "    </tr>\n",
       "    <tr>\n",
       "      <th>31-05-2022</th>\n",
       "      <td>120.0</td>\n",
       "      <td>123.0</td>\n",
       "    </tr>\n",
       "    <tr>\n",
       "      <th>31-07-2022</th>\n",
       "      <td>124.0</td>\n",
       "      <td>127.0</td>\n",
       "    </tr>\n",
       "    <tr>\n",
       "      <th>31-08-2021</th>\n",
       "      <td>120.0</td>\n",
       "      <td>123.0</td>\n",
       "    </tr>\n",
       "    <tr>\n",
       "      <th>31-10-2021</th>\n",
       "      <td>132.0</td>\n",
       "      <td>134.0</td>\n",
       "    </tr>\n",
       "  </tbody>\n",
       "</table>\n",
       "<p>273 rows × 2 columns</p>\n",
       "</div>"
      ],
      "text/plain": [
       "             Test  Prevision\n",
       "Date                        \n",
       "01-02-2022  134.0      136.0\n",
       "01-03-2022  128.0      130.0\n",
       "01-06-2022  116.0      122.0\n",
       "01-08-2022  128.0      125.0\n",
       "01-09-2021  116.0      122.0\n",
       "...           ...        ...\n",
       "31-03-2022  148.0      126.0\n",
       "31-05-2022  120.0      123.0\n",
       "31-07-2022  124.0      127.0\n",
       "31-08-2021  120.0      123.0\n",
       "31-10-2021  132.0      134.0\n",
       "\n",
       "[273 rows x 2 columns]"
      ]
     },
     "execution_count": 170,
     "metadata": {},
     "output_type": "execute_result"
    }
   ],
   "source": [
    "gb2"
   ]
  },
  {
   "cell_type": "code",
   "execution_count": 171,
   "id": "628356ef",
   "metadata": {},
   "outputs": [
    {
     "data": {
      "text/plain": [
       "<AxesSubplot:xlabel='Date'>"
      ]
     },
     "execution_count": 171,
     "metadata": {},
     "output_type": "execute_result"
    },
    {
     "data": {
      "image/png": "[encoded data removed]",
      "text/plain": [
       "<Figure size 432x288 with 1 Axes>"
      ]
     },
     "metadata": {
      "needs_background": "light"
     },
     "output_type": "display_data"
    }
   ],
   "source": [
    "gb2.plot()"
   ]
  },
  {
   "cell_type": "code",
   "execution_count": 238,
   "id": "83707ac9",
   "metadata": {},
   "outputs": [
    {
     "name": "stdout",
     "output_type": "stream",
     "text": [
      "[0, 0, 1, 0, 0, 1, 1, 0, 1, 0, 1, 1, 0, 1, 0, 1, 0, 0, 0, 0]\n"
     ]
    }
   ],
   "source": [
    "import random\n",
    "random_numbers = [random.randint(0, 1) for x in range(20)]\n",
    "print(random_numbers)"
   ]
  },
  {
   "cell_type": "code",
   "execution_count": 244,
   "id": "d5faadaf",
   "metadata": {},
   "outputs": [],
   "source": [
    "def Bruit(nb):\n",
    "    if nb ==1:\n",
    "        return 0\n",
    "    else:\n",
    "        return 1"
   ]
  },
  {
   "cell_type": "code",
   "execution_count": 246,
   "id": "d57521cd",
   "metadata": {},
   "outputs": [
    {
     "name": "stdout",
     "output_type": "stream",
     "text": [
      "0\n"
     ]
    }
   ],
   "source": [
    "print(Bruit(1))"
   ]
  },
  {
   "cell_type": "code",
   "execution_count": 370,
   "id": "d62a32c3",
   "metadata": {},
   "outputs": [
    {
     "name": "stderr",
     "output_type": "stream",
     "text": [
      "<ipython-input-370-d4ad897143b3>:3: SettingWithCopyWarning: \n",
      "A value is trying to be set on a copy of a slice from a DataFrame\n",
      "\n",
      "See the caveats in the documentation: https://pandas.pydata.org/pandas-docs/stable/user_guide/indexing.html#returning-a-view-versus-a-copy\n",
      "  classf[\"presence\"][i] = Bruit(classf[\"presenceP\"][i])\n"
     ]
    }
   ],
   "source": [
    "for i in range(216000):\n",
    "    if (i%30 == 0):\n",
    "        classf[\"presence\"][i] = Bruit(classf[\"presenceP\"][i])"
   ]
  },
  {
   "cell_type": "code",
   "execution_count": 375,
   "id": "d09c2e9a",
   "metadata": {},
   "outputs": [],
   "source": [
    "classf.to_csv(\"dataFinal.csv\")"
   ]
  }
 ],
 "metadata": {
  "kernelspec": {
   "display_name": "Python 3",
   "language": "python",
   "name": "python3"
  },
  "language_info": {
   "codemirror_mode": {
    "name": "ipython",
    "version": 3
   },
   "file_extension": ".py",
   "mimetype": "text/x-python",
   "name": "python",
   "nbconvert_exporter": "python",
   "pygments_lexer": "ipython3",
   "version": "3.8.8"
  }
 },
 "nbformat": 4,
 "nbformat_minor": 5
}

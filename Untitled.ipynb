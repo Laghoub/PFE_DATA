{
 "cells": [
  {
   "cell_type": "code",
   "execution_count": 1,
   "id": "9ae232e7",
   "metadata": {},
   "outputs": [],
   "source": [
    "import pandas as pd\n",
    "import matplotlib.pyplot as plt"
   ]
  },
  {
   "cell_type": "code",
   "execution_count": 4,
   "id": "adf0f4f3",
   "metadata": {},
   "outputs": [
    {
     "data": {
      "image/png": "[encoded data removed]",
      "text/plain": [
       "<Figure size 432x288 with 1 Axes>"
      ]
     },
     "metadata": {},
     "output_type": "display_data"
    },
    {
     "data": {
      "text/plain": [
       "<Figure size 432x288 with 0 Axes>"
      ]
     },
     "metadata": {},
     "output_type": "display_data"
    }
   ],
   "source": [
    "# Data to plot\n",
    "labels = 'Externe', 'Interne'\n",
    "sizes = [701, 299]\n",
    "colors = ['gold', 'lightskyblue']\n",
    "explode = (0, 0.1)  # explode 1st slice\n",
    "\n",
    "# Plot\n",
    "plt.pie(sizes, explode=explode, labels=labels, colors=colors,\n",
    "autopct='%1.1f%%', shadow=True, startangle=140)\n",
    "\n",
    "plt.axis('equal')\n",
    "plt.show()\n",
    "plt.\n",
    "plt.savefig(\"heb.png\")"
   ]
  },
  {
   "cell_type": "code",
   "execution_count": 4,
   "id": "90bff546",
   "metadata": {},
   "outputs": [
    {
     "data": {
      "text/html": [
       "<div>\n",
       "<style scoped>\n",
       "    .dataframe tbody tr th:only-of-type {\n",
       "        vertical-align: middle;\n",
       "    }\n",
       "\n",
       "    .dataframe tbody tr th {\n",
       "        vertical-align: top;\n",
       "    }\n",
       "\n",
       "    .dataframe thead th {\n",
       "        text-align: right;\n",
       "    }\n",
       "</style>\n",
       "<table border=\"1\" class=\"dataframe\">\n",
       "  <thead>\n",
       "    <tr style=\"text-align: right;\">\n",
       "      <th></th>\n",
       "      <th>idEtudiant</th>\n",
       "      <th>Bourse</th>\n",
       "      <th>Heberg</th>\n",
       "      <th>Rev_par</th>\n",
       "      <th>idRestaurant</th>\n",
       "    </tr>\n",
       "  </thead>\n",
       "  <tbody>\n",
       "    <tr>\n",
       "      <th>0</th>\n",
       "      <td>17/0001</td>\n",
       "      <td>Oui</td>\n",
       "      <td>externe</td>\n",
       "      <td>59617</td>\n",
       "      <td>Esi016</td>\n",
       "    </tr>\n",
       "    <tr>\n",
       "      <th>1</th>\n",
       "      <td>17/0002</td>\n",
       "      <td>Oui</td>\n",
       "      <td>externe</td>\n",
       "      <td>103404</td>\n",
       "      <td>Esi016</td>\n",
       "    </tr>\n",
       "    <tr>\n",
       "      <th>2</th>\n",
       "      <td>17/0003</td>\n",
       "      <td>Oui</td>\n",
       "      <td>externe</td>\n",
       "      <td>24138</td>\n",
       "      <td>Esi016</td>\n",
       "    </tr>\n",
       "    <tr>\n",
       "      <th>3</th>\n",
       "      <td>17/0004</td>\n",
       "      <td>Oui</td>\n",
       "      <td>externe</td>\n",
       "      <td>49231</td>\n",
       "      <td>Esi016</td>\n",
       "    </tr>\n",
       "    <tr>\n",
       "      <th>4</th>\n",
       "      <td>17/0005</td>\n",
       "      <td>Oui</td>\n",
       "      <td>externe</td>\n",
       "      <td>99808</td>\n",
       "      <td>Esi016</td>\n",
       "    </tr>\n",
       "    <tr>\n",
       "      <th>...</th>\n",
       "      <td>...</td>\n",
       "      <td>...</td>\n",
       "      <td>...</td>\n",
       "      <td>...</td>\n",
       "      <td>...</td>\n",
       "    </tr>\n",
       "    <tr>\n",
       "      <th>995</th>\n",
       "      <td>17/0996</td>\n",
       "      <td>Oui</td>\n",
       "      <td>externe</td>\n",
       "      <td>39007</td>\n",
       "      <td>Esi016</td>\n",
       "    </tr>\n",
       "    <tr>\n",
       "      <th>996</th>\n",
       "      <td>17/0997</td>\n",
       "      <td>Oui</td>\n",
       "      <td>externe</td>\n",
       "      <td>99808</td>\n",
       "      <td>Esi016</td>\n",
       "    </tr>\n",
       "    <tr>\n",
       "      <th>997</th>\n",
       "      <td>17/0998</td>\n",
       "      <td>Oui</td>\n",
       "      <td>externe</td>\n",
       "      <td>49231</td>\n",
       "      <td>Esi016</td>\n",
       "    </tr>\n",
       "    <tr>\n",
       "      <th>998</th>\n",
       "      <td>17/0999</td>\n",
       "      <td>Non</td>\n",
       "      <td>externe</td>\n",
       "      <td>186539</td>\n",
       "      <td>Esi016</td>\n",
       "    </tr>\n",
       "    <tr>\n",
       "      <th>999</th>\n",
       "      <td>17/1000</td>\n",
       "      <td>Oui</td>\n",
       "      <td>externe</td>\n",
       "      <td>39007</td>\n",
       "      <td>Esi016</td>\n",
       "    </tr>\n",
       "  </tbody>\n",
       "</table>\n",
       "<p>1000 rows × 5 columns</p>\n",
       "</div>"
      ],
      "text/plain": [
       "    idEtudiant Bourse   Heberg  Rev_par idRestaurant\n",
       "0      17/0001    Oui  externe    59617       Esi016\n",
       "1      17/0002    Oui  externe   103404       Esi016\n",
       "2      17/0003    Oui  externe    24138       Esi016\n",
       "3      17/0004    Oui  externe    49231       Esi016\n",
       "4      17/0005    Oui  externe    99808       Esi016\n",
       "..         ...    ...      ...      ...          ...\n",
       "995    17/0996    Oui  externe    39007       Esi016\n",
       "996    17/0997    Oui  externe    99808       Esi016\n",
       "997    17/0998    Oui  externe    49231       Esi016\n",
       "998    17/0999    Non  externe   186539       Esi016\n",
       "999    17/1000    Oui  externe    39007       Esi016\n",
       "\n",
       "[1000 rows x 5 columns]"
      ]
     },
     "execution_count": 4,
     "metadata": {},
     "output_type": "execute_result"
    }
   ],
   "source": [
    "data = pd.read_excel(\"population.xlsx\")\n",
    "data"
   ]
  },
  {
   "cell_type": "code",
   "execution_count": 19,
   "id": "c902929a",
   "metadata": {},
   "outputs": [
    {
     "data": {
      "text/plain": [
       "<AxesSubplot:>"
      ]
     },
     "execution_count": 19,
     "metadata": {},
     "output_type": "execute_result"
    },
    {
     "data": {
      "image/png": "[encoded data removed]",
      "text/plain": [
       "<Figure size 432x288 with 1 Axes>"
      ]
     },
     "metadata": {
      "needs_background": "light"
     },
     "output_type": "display_data"
    }
   ],
   "source": [
    "data['Rev_par'].hist()"
   ]
  },
  {
   "cell_type": "code",
   "execution_count": 6,
   "id": "0b945d87",
   "metadata": {},
   "outputs": [
    {
     "data": {
      "text/plain": [
       "Heberg\n",
       "externe    701\n",
       "interne    299\n",
       "Name: Heberg, dtype: int64"
      ]
     },
     "execution_count": 6,
     "metadata": {},
     "output_type": "execute_result"
    }
   ],
   "source": [
    "df2 = data.groupby(['Heberg'])['Heberg'].count()\n",
    "df2"
   ]
  },
  {
   "cell_type": "code",
   "execution_count": 16,
   "id": "c92aa538",
   "metadata": {},
   "outputs": [
    {
     "data": {
      "text/plain": [
       "Bourse\n",
       "Non     82\n",
       "Oui    918\n",
       "Name: Bourse, dtype: int64"
      ]
     },
     "execution_count": 16,
     "metadata": {},
     "output_type": "execute_result"
    }
   ],
   "source": [
    "df2 = data.groupby(['Bourse'])['Bourse'].count()\n",
    "df2"
   ]
  },
  {
   "cell_type": "code",
   "execution_count": 18,
   "id": "873a2cbd",
   "metadata": {},
   "outputs": [
    {
     "data": {
      "image/png": "[encoded data removed]",
      "text/plain": [
       "<Figure size 432x288 with 1 Axes>"
      ]
     },
     "metadata": {},
     "output_type": "display_data"
    },
    {
     "data": {
      "text/plain": [
       "<Figure size 432x288 with 0 Axes>"
      ]
     },
     "metadata": {},
     "output_type": "display_data"
    }
   ],
   "source": [
    "# Data to plot\n",
    "labels = 'Boursié', 'Non boursié'\n",
    "sizes = [918, 82]\n",
    "colors = ['gold', 'lightskyblue']\n",
    "explode = (0, 0.1)  # explode 1st slice\n",
    "\n",
    "# Plot\n",
    "plt.pie(sizes, explode=explode, labels=labels, colors=colors,\n",
    "autopct='%1.1f%%', shadow=True, startangle=140)\n",
    "\n",
    "plt.axis('equal')\n",
    "plt.show()\n",
    "plt.savefig(\"bourse.png\")"
   ]
  }
 ],
 "metadata": {
  "kernelspec": {
   "display_name": "Python 3",
   "language": "python",
   "name": "python3"
  },
  "language_info": {
   "codemirror_mode": {
    "name": "ipython",
    "version": 3
   },
   "file_extension": ".py",
   "mimetype": "text/x-python",
   "name": "python",
   "nbconvert_exporter": "python",
   "pygments_lexer": "ipython3",
   "version": "3.8.8"
  }
 },
 "nbformat": 4,
 "nbformat_minor": 5
}
